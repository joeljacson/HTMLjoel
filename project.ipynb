{
  "nbformat": 4,
  "nbformat_minor": 0,
  "metadata": {
    "colab": {
      "provenance": [],
      "authorship_tag": "ABX9TyMaeFb1l7rxGRIUcA18irKn",
      "include_colab_link": true
    },
    "kernelspec": {
      "name": "python3",
      "display_name": "Python 3"
    },
    "language_info": {
      "name": "python"
    }
  },
  "cells": [
    {
      "cell_type": "markdown",
      "metadata": {
        "id": "view-in-github",
        "colab_type": "text"
      },
      "source": [
        "<a href=\"https://colab.research.google.com/github/joeljacson/HTMLjoel/blob/main/project.ipynb\" target=\"_parent\"><img src=\"https://colab.research.google.com/assets/colab-badge.svg\" alt=\"Open In Colab\"/></a>"
      ]
    },
    {
      "cell_type": "code",
      "execution_count": null,
      "metadata": {
        "colab": {
          "base_uri": "https://localhost:8080/",
          "height": 90
        },
        "id": "x98G3LOVB1JR",
        "outputId": "32b8c317-fe86-4279-ec29-59d2c7da9437"
      },
      "outputs": [
        {
          "output_type": "display_data",
          "data": {
            "text/plain": [
              "<IPython.core.display.HTML object>"
            ],
            "text/html": [
              "\n",
              "     <input type=\"file\" id=\"files-5e31831f-f8b5-41d0-9ef1-0fbe04b90328\" name=\"files[]\" multiple disabled\n",
              "        style=\"border:none\" />\n",
              "     <output id=\"result-5e31831f-f8b5-41d0-9ef1-0fbe04b90328\">\n",
              "      Upload widget is only available when the cell has been executed in the\n",
              "      current browser session. Please rerun this cell to enable.\n",
              "      </output>\n",
              "      <script>// Copyright 2017 Google LLC\n",
              "//\n",
              "// Licensed under the Apache License, Version 2.0 (the \"License\");\n",
              "// you may not use this file except in compliance with the License.\n",
              "// You may obtain a copy of the License at\n",
              "//\n",
              "//      http://www.apache.org/licenses/LICENSE-2.0\n",
              "//\n",
              "// Unless required by applicable law or agreed to in writing, software\n",
              "// distributed under the License is distributed on an \"AS IS\" BASIS,\n",
              "// WITHOUT WARRANTIES OR CONDITIONS OF ANY KIND, either express or implied.\n",
              "// See the License for the specific language governing permissions and\n",
              "// limitations under the License.\n",
              "\n",
              "/**\n",
              " * @fileoverview Helpers for google.colab Python module.\n",
              " */\n",
              "(function(scope) {\n",
              "function span(text, styleAttributes = {}) {\n",
              "  const element = document.createElement('span');\n",
              "  element.textContent = text;\n",
              "  for (const key of Object.keys(styleAttributes)) {\n",
              "    element.style[key] = styleAttributes[key];\n",
              "  }\n",
              "  return element;\n",
              "}\n",
              "\n",
              "// Max number of bytes which will be uploaded at a time.\n",
              "const MAX_PAYLOAD_SIZE = 100 * 1024;\n",
              "\n",
              "function _uploadFiles(inputId, outputId) {\n",
              "  const steps = uploadFilesStep(inputId, outputId);\n",
              "  const outputElement = document.getElementById(outputId);\n",
              "  // Cache steps on the outputElement to make it available for the next call\n",
              "  // to uploadFilesContinue from Python.\n",
              "  outputElement.steps = steps;\n",
              "\n",
              "  return _uploadFilesContinue(outputId);\n",
              "}\n",
              "\n",
              "// This is roughly an async generator (not supported in the browser yet),\n",
              "// where there are multiple asynchronous steps and the Python side is going\n",
              "// to poll for completion of each step.\n",
              "// This uses a Promise to block the python side on completion of each step,\n",
              "// then passes the result of the previous step as the input to the next step.\n",
              "function _uploadFilesContinue(outputId) {\n",
              "  const outputElement = document.getElementById(outputId);\n",
              "  const steps = outputElement.steps;\n",
              "\n",
              "  const next = steps.next(outputElement.lastPromiseValue);\n",
              "  return Promise.resolve(next.value.promise).then((value) => {\n",
              "    // Cache the last promise value to make it available to the next\n",
              "    // step of the generator.\n",
              "    outputElement.lastPromiseValue = value;\n",
              "    return next.value.response;\n",
              "  });\n",
              "}\n",
              "\n",
              "/**\n",
              " * Generator function which is called between each async step of the upload\n",
              " * process.\n",
              " * @param {string} inputId Element ID of the input file picker element.\n",
              " * @param {string} outputId Element ID of the output display.\n",
              " * @return {!Iterable<!Object>} Iterable of next steps.\n",
              " */\n",
              "function* uploadFilesStep(inputId, outputId) {\n",
              "  const inputElement = document.getElementById(inputId);\n",
              "  inputElement.disabled = false;\n",
              "\n",
              "  const outputElement = document.getElementById(outputId);\n",
              "  outputElement.innerHTML = '';\n",
              "\n",
              "  const pickedPromise = new Promise((resolve) => {\n",
              "    inputElement.addEventListener('change', (e) => {\n",
              "      resolve(e.target.files);\n",
              "    });\n",
              "  });\n",
              "\n",
              "  const cancel = document.createElement('button');\n",
              "  inputElement.parentElement.appendChild(cancel);\n",
              "  cancel.textContent = 'Cancel upload';\n",
              "  const cancelPromise = new Promise((resolve) => {\n",
              "    cancel.onclick = () => {\n",
              "      resolve(null);\n",
              "    };\n",
              "  });\n",
              "\n",
              "  // Wait for the user to pick the files.\n",
              "  const files = yield {\n",
              "    promise: Promise.race([pickedPromise, cancelPromise]),\n",
              "    response: {\n",
              "      action: 'starting',\n",
              "    }\n",
              "  };\n",
              "\n",
              "  cancel.remove();\n",
              "\n",
              "  // Disable the input element since further picks are not allowed.\n",
              "  inputElement.disabled = true;\n",
              "\n",
              "  if (!files) {\n",
              "    return {\n",
              "      response: {\n",
              "        action: 'complete',\n",
              "      }\n",
              "    };\n",
              "  }\n",
              "\n",
              "  for (const file of files) {\n",
              "    const li = document.createElement('li');\n",
              "    li.append(span(file.name, {fontWeight: 'bold'}));\n",
              "    li.append(span(\n",
              "        `(${file.type || 'n/a'}) - ${file.size} bytes, ` +\n",
              "        `last modified: ${\n",
              "            file.lastModifiedDate ? file.lastModifiedDate.toLocaleDateString() :\n",
              "                                    'n/a'} - `));\n",
              "    const percent = span('0% done');\n",
              "    li.appendChild(percent);\n",
              "\n",
              "    outputElement.appendChild(li);\n",
              "\n",
              "    const fileDataPromise = new Promise((resolve) => {\n",
              "      const reader = new FileReader();\n",
              "      reader.onload = (e) => {\n",
              "        resolve(e.target.result);\n",
              "      };\n",
              "      reader.readAsArrayBuffer(file);\n",
              "    });\n",
              "    // Wait for the data to be ready.\n",
              "    let fileData = yield {\n",
              "      promise: fileDataPromise,\n",
              "      response: {\n",
              "        action: 'continue',\n",
              "      }\n",
              "    };\n",
              "\n",
              "    // Use a chunked sending to avoid message size limits. See b/62115660.\n",
              "    let position = 0;\n",
              "    do {\n",
              "      const length = Math.min(fileData.byteLength - position, MAX_PAYLOAD_SIZE);\n",
              "      const chunk = new Uint8Array(fileData, position, length);\n",
              "      position += length;\n",
              "\n",
              "      const base64 = btoa(String.fromCharCode.apply(null, chunk));\n",
              "      yield {\n",
              "        response: {\n",
              "          action: 'append',\n",
              "          file: file.name,\n",
              "          data: base64,\n",
              "        },\n",
              "      };\n",
              "\n",
              "      let percentDone = fileData.byteLength === 0 ?\n",
              "          100 :\n",
              "          Math.round((position / fileData.byteLength) * 100);\n",
              "      percent.textContent = `${percentDone}% done`;\n",
              "\n",
              "    } while (position < fileData.byteLength);\n",
              "  }\n",
              "\n",
              "  // All done.\n",
              "  yield {\n",
              "    response: {\n",
              "      action: 'complete',\n",
              "    }\n",
              "  };\n",
              "}\n",
              "\n",
              "scope.google = scope.google || {};\n",
              "scope.google.colab = scope.google.colab || {};\n",
              "scope.google.colab._files = {\n",
              "  _uploadFiles,\n",
              "  _uploadFilesContinue,\n",
              "};\n",
              "})(self);\n",
              "</script> "
            ]
          },
          "metadata": {}
        },
        {
          "output_type": "stream",
          "name": "stdout",
          "text": [
            "Saving kaggle (11).json to kaggle (11).json\n"
          ]
        },
        {
          "output_type": "execute_result",
          "data": {
            "text/plain": [
              "{'kaggle (11).json': b'{\"username\":\"joeljacsonjamesgopi\",\"key\":\"abc4369d822a95d7ecfcd4eb0d3dad56\"}'}"
            ]
          },
          "metadata": {},
          "execution_count": 1
        }
      ],
      "source": [
        "from google.colab import files\n",
        "files.upload()\n"
      ]
    },
    {
      "cell_type": "code",
      "source": [
        "import os\n",
        "\n",
        "# Check if the kaggle.json file is in the current directory\n",
        "if 'kaggle.json' not in os.listdir():\n",
        "    print(\"Please make sure you have uploaded the kaggle.json file.\")\n",
        "else:\n",
        "    # Set up Kaggle API token\n",
        "    !mkdir -p ~/.kaggle\n",
        "    !cp kaggle.json ~/.kaggle/\n",
        "    !chmod 600 ~/.kaggle/kaggle.json\n"
      ],
      "metadata": {
        "colab": {
          "base_uri": "https://localhost:8080/"
        },
        "id": "rZQJT4PTCY3_",
        "outputId": "7ad80ea0-09fc-4705-cbb3-45c1ab3aca9c"
      },
      "execution_count": null,
      "outputs": [
        {
          "output_type": "stream",
          "name": "stdout",
          "text": [
            "Please make sure you have uploaded the kaggle.json file.\n"
          ]
        }
      ]
    },
    {
      "cell_type": "code",
      "source": [
        "!kaggle datasets download -d padmapiyush/global-electric-vehicle-dataset-2023"
      ],
      "metadata": {
        "colab": {
          "base_uri": "https://localhost:8080/"
        },
        "id": "6PGd-rEeCY2J",
        "outputId": "32264061-286e-4bce-ecbc-bd8ba85ad8e1"
      },
      "execution_count": null,
      "outputs": [
        {
          "output_type": "stream",
          "name": "stdout",
          "text": [
            "Dataset URL: https://www.kaggle.com/datasets/padmapiyush/global-electric-vehicle-dataset-2023\n",
            "License(s): MIT\n",
            "Downloading global-electric-vehicle-dataset-2023.zip to /content\n",
            "  0% 0.00/67.2k [00:00<?, ?B/s]\n",
            "100% 67.2k/67.2k [00:00<00:00, 54.9MB/s]\n"
          ]
        }
      ]
    },
    {
      "cell_type": "code",
      "source": [
        "import zipfile\n",
        "\n",
        "with zipfile.ZipFile('/content/global-electric-vehicle-dataset-2023.zip', 'r') as zip_ref:\n",
        "    zip_ref.extractall('/content/')\n",
        "    zip_ref.close()\n"
      ],
      "metadata": {
        "id": "t19cnTbPC1sC"
      },
      "execution_count": null,
      "outputs": []
    },
    {
      "cell_type": "code",
      "source": [
        "import numpy as np\n",
        "import pandas as pd"
      ],
      "metadata": {
        "id": "HWyRJmt8C4-k"
      },
      "execution_count": null,
      "outputs": []
    },
    {
      "cell_type": "code",
      "source": [
        "df=pd.read_csv('/content/Global EV 2023.csv')\n",
        "df.head()"
      ],
      "metadata": {
        "colab": {
          "base_uri": "https://localhost:8080/",
          "height": 206
        },
        "id": "r2DRAendC49A",
        "outputId": "98dd779c-1498-4cd2-92bb-cdfd1bc7a436"
      },
      "execution_count": null,
      "outputs": [
        {
          "output_type": "execute_result",
          "data": {
            "text/plain": [
              "      region    category       parameter  mode powertrain  year      unit  \\\n",
              "0  Australia  Historical        EV stock  Cars        BEV  2011  Vehicles   \n",
              "1  Australia  Historical  EV sales share  Cars         EV  2011   percent   \n",
              "2  Australia  Historical  EV stock share  Cars         EV  2011   percent   \n",
              "3  Australia  Historical        EV sales  Cars        BEV  2011  Vehicles   \n",
              "4  Australia  Historical        EV sales  Cars        BEV  2012  Vehicles   \n",
              "\n",
              "       value  \n",
              "0   49.00000  \n",
              "1    0.00650  \n",
              "2    0.00046  \n",
              "3   49.00000  \n",
              "4  170.00000  "
            ],
            "text/html": [
              "\n",
              "  <div id=\"df-8c3e94d2-996f-4e85-89f0-af8bd455fcf7\" class=\"colab-df-container\">\n",
              "    <div>\n",
              "<style scoped>\n",
              "    .dataframe tbody tr th:only-of-type {\n",
              "        vertical-align: middle;\n",
              "    }\n",
              "\n",
              "    .dataframe tbody tr th {\n",
              "        vertical-align: top;\n",
              "    }\n",
              "\n",
              "    .dataframe thead th {\n",
              "        text-align: right;\n",
              "    }\n",
              "</style>\n",
              "<table border=\"1\" class=\"dataframe\">\n",
              "  <thead>\n",
              "    <tr style=\"text-align: right;\">\n",
              "      <th></th>\n",
              "      <th>region</th>\n",
              "      <th>category</th>\n",
              "      <th>parameter</th>\n",
              "      <th>mode</th>\n",
              "      <th>powertrain</th>\n",
              "      <th>year</th>\n",
              "      <th>unit</th>\n",
              "      <th>value</th>\n",
              "    </tr>\n",
              "  </thead>\n",
              "  <tbody>\n",
              "    <tr>\n",
              "      <th>0</th>\n",
              "      <td>Australia</td>\n",
              "      <td>Historical</td>\n",
              "      <td>EV stock</td>\n",
              "      <td>Cars</td>\n",
              "      <td>BEV</td>\n",
              "      <td>2011</td>\n",
              "      <td>Vehicles</td>\n",
              "      <td>49.00000</td>\n",
              "    </tr>\n",
              "    <tr>\n",
              "      <th>1</th>\n",
              "      <td>Australia</td>\n",
              "      <td>Historical</td>\n",
              "      <td>EV sales share</td>\n",
              "      <td>Cars</td>\n",
              "      <td>EV</td>\n",
              "      <td>2011</td>\n",
              "      <td>percent</td>\n",
              "      <td>0.00650</td>\n",
              "    </tr>\n",
              "    <tr>\n",
              "      <th>2</th>\n",
              "      <td>Australia</td>\n",
              "      <td>Historical</td>\n",
              "      <td>EV stock share</td>\n",
              "      <td>Cars</td>\n",
              "      <td>EV</td>\n",
              "      <td>2011</td>\n",
              "      <td>percent</td>\n",
              "      <td>0.00046</td>\n",
              "    </tr>\n",
              "    <tr>\n",
              "      <th>3</th>\n",
              "      <td>Australia</td>\n",
              "      <td>Historical</td>\n",
              "      <td>EV sales</td>\n",
              "      <td>Cars</td>\n",
              "      <td>BEV</td>\n",
              "      <td>2011</td>\n",
              "      <td>Vehicles</td>\n",
              "      <td>49.00000</td>\n",
              "    </tr>\n",
              "    <tr>\n",
              "      <th>4</th>\n",
              "      <td>Australia</td>\n",
              "      <td>Historical</td>\n",
              "      <td>EV sales</td>\n",
              "      <td>Cars</td>\n",
              "      <td>BEV</td>\n",
              "      <td>2012</td>\n",
              "      <td>Vehicles</td>\n",
              "      <td>170.00000</td>\n",
              "    </tr>\n",
              "  </tbody>\n",
              "</table>\n",
              "</div>\n",
              "    <div class=\"colab-df-buttons\">\n",
              "\n",
              "  <div class=\"colab-df-container\">\n",
              "    <button class=\"colab-df-convert\" onclick=\"convertToInteractive('df-8c3e94d2-996f-4e85-89f0-af8bd455fcf7')\"\n",
              "            title=\"Convert this dataframe to an interactive table.\"\n",
              "            style=\"display:none;\">\n",
              "\n",
              "  <svg xmlns=\"http://www.w3.org/2000/svg\" height=\"24px\" viewBox=\"0 -960 960 960\">\n",
              "    <path d=\"M120-120v-720h720v720H120Zm60-500h600v-160H180v160Zm220 220h160v-160H400v160Zm0 220h160v-160H400v160ZM180-400h160v-160H180v160Zm440 0h160v-160H620v160ZM180-180h160v-160H180v160Zm440 0h160v-160H620v160Z\"/>\n",
              "  </svg>\n",
              "    </button>\n",
              "\n",
              "  <style>\n",
              "    .colab-df-container {\n",
              "      display:flex;\n",
              "      gap: 12px;\n",
              "    }\n",
              "\n",
              "    .colab-df-convert {\n",
              "      background-color: #E8F0FE;\n",
              "      border: none;\n",
              "      border-radius: 50%;\n",
              "      cursor: pointer;\n",
              "      display: none;\n",
              "      fill: #1967D2;\n",
              "      height: 32px;\n",
              "      padding: 0 0 0 0;\n",
              "      width: 32px;\n",
              "    }\n",
              "\n",
              "    .colab-df-convert:hover {\n",
              "      background-color: #E2EBFA;\n",
              "      box-shadow: 0px 1px 2px rgba(60, 64, 67, 0.3), 0px 1px 3px 1px rgba(60, 64, 67, 0.15);\n",
              "      fill: #174EA6;\n",
              "    }\n",
              "\n",
              "    .colab-df-buttons div {\n",
              "      margin-bottom: 4px;\n",
              "    }\n",
              "\n",
              "    [theme=dark] .colab-df-convert {\n",
              "      background-color: #3B4455;\n",
              "      fill: #D2E3FC;\n",
              "    }\n",
              "\n",
              "    [theme=dark] .colab-df-convert:hover {\n",
              "      background-color: #434B5C;\n",
              "      box-shadow: 0px 1px 3px 1px rgba(0, 0, 0, 0.15);\n",
              "      filter: drop-shadow(0px 1px 2px rgba(0, 0, 0, 0.3));\n",
              "      fill: #FFFFFF;\n",
              "    }\n",
              "  </style>\n",
              "\n",
              "    <script>\n",
              "      const buttonEl =\n",
              "        document.querySelector('#df-8c3e94d2-996f-4e85-89f0-af8bd455fcf7 button.colab-df-convert');\n",
              "      buttonEl.style.display =\n",
              "        google.colab.kernel.accessAllowed ? 'block' : 'none';\n",
              "\n",
              "      async function convertToInteractive(key) {\n",
              "        const element = document.querySelector('#df-8c3e94d2-996f-4e85-89f0-af8bd455fcf7');\n",
              "        const dataTable =\n",
              "          await google.colab.kernel.invokeFunction('convertToInteractive',\n",
              "                                                    [key], {});\n",
              "        if (!dataTable) return;\n",
              "\n",
              "        const docLinkHtml = 'Like what you see? Visit the ' +\n",
              "          '<a target=\"_blank\" href=https://colab.research.google.com/notebooks/data_table.ipynb>data table notebook</a>'\n",
              "          + ' to learn more about interactive tables.';\n",
              "        element.innerHTML = '';\n",
              "        dataTable['output_type'] = 'display_data';\n",
              "        await google.colab.output.renderOutput(dataTable, element);\n",
              "        const docLink = document.createElement('div');\n",
              "        docLink.innerHTML = docLinkHtml;\n",
              "        element.appendChild(docLink);\n",
              "      }\n",
              "    </script>\n",
              "  </div>\n",
              "\n",
              "\n",
              "<div id=\"df-c908407f-b55a-4e2b-a1f5-5f39b3750477\">\n",
              "  <button class=\"colab-df-quickchart\" onclick=\"quickchart('df-c908407f-b55a-4e2b-a1f5-5f39b3750477')\"\n",
              "            title=\"Suggest charts\"\n",
              "            style=\"display:none;\">\n",
              "\n",
              "<svg xmlns=\"http://www.w3.org/2000/svg\" height=\"24px\"viewBox=\"0 0 24 24\"\n",
              "     width=\"24px\">\n",
              "    <g>\n",
              "        <path d=\"M19 3H5c-1.1 0-2 .9-2 2v14c0 1.1.9 2 2 2h14c1.1 0 2-.9 2-2V5c0-1.1-.9-2-2-2zM9 17H7v-7h2v7zm4 0h-2V7h2v10zm4 0h-2v-4h2v4z\"/>\n",
              "    </g>\n",
              "</svg>\n",
              "  </button>\n",
              "\n",
              "<style>\n",
              "  .colab-df-quickchart {\n",
              "      --bg-color: #E8F0FE;\n",
              "      --fill-color: #1967D2;\n",
              "      --hover-bg-color: #E2EBFA;\n",
              "      --hover-fill-color: #174EA6;\n",
              "      --disabled-fill-color: #AAA;\n",
              "      --disabled-bg-color: #DDD;\n",
              "  }\n",
              "\n",
              "  [theme=dark] .colab-df-quickchart {\n",
              "      --bg-color: #3B4455;\n",
              "      --fill-color: #D2E3FC;\n",
              "      --hover-bg-color: #434B5C;\n",
              "      --hover-fill-color: #FFFFFF;\n",
              "      --disabled-bg-color: #3B4455;\n",
              "      --disabled-fill-color: #666;\n",
              "  }\n",
              "\n",
              "  .colab-df-quickchart {\n",
              "    background-color: var(--bg-color);\n",
              "    border: none;\n",
              "    border-radius: 50%;\n",
              "    cursor: pointer;\n",
              "    display: none;\n",
              "    fill: var(--fill-color);\n",
              "    height: 32px;\n",
              "    padding: 0;\n",
              "    width: 32px;\n",
              "  }\n",
              "\n",
              "  .colab-df-quickchart:hover {\n",
              "    background-color: var(--hover-bg-color);\n",
              "    box-shadow: 0 1px 2px rgba(60, 64, 67, 0.3), 0 1px 3px 1px rgba(60, 64, 67, 0.15);\n",
              "    fill: var(--button-hover-fill-color);\n",
              "  }\n",
              "\n",
              "  .colab-df-quickchart-complete:disabled,\n",
              "  .colab-df-quickchart-complete:disabled:hover {\n",
              "    background-color: var(--disabled-bg-color);\n",
              "    fill: var(--disabled-fill-color);\n",
              "    box-shadow: none;\n",
              "  }\n",
              "\n",
              "  .colab-df-spinner {\n",
              "    border: 2px solid var(--fill-color);\n",
              "    border-color: transparent;\n",
              "    border-bottom-color: var(--fill-color);\n",
              "    animation:\n",
              "      spin 1s steps(1) infinite;\n",
              "  }\n",
              "\n",
              "  @keyframes spin {\n",
              "    0% {\n",
              "      border-color: transparent;\n",
              "      border-bottom-color: var(--fill-color);\n",
              "      border-left-color: var(--fill-color);\n",
              "    }\n",
              "    20% {\n",
              "      border-color: transparent;\n",
              "      border-left-color: var(--fill-color);\n",
              "      border-top-color: var(--fill-color);\n",
              "    }\n",
              "    30% {\n",
              "      border-color: transparent;\n",
              "      border-left-color: var(--fill-color);\n",
              "      border-top-color: var(--fill-color);\n",
              "      border-right-color: var(--fill-color);\n",
              "    }\n",
              "    40% {\n",
              "      border-color: transparent;\n",
              "      border-right-color: var(--fill-color);\n",
              "      border-top-color: var(--fill-color);\n",
              "    }\n",
              "    60% {\n",
              "      border-color: transparent;\n",
              "      border-right-color: var(--fill-color);\n",
              "    }\n",
              "    80% {\n",
              "      border-color: transparent;\n",
              "      border-right-color: var(--fill-color);\n",
              "      border-bottom-color: var(--fill-color);\n",
              "    }\n",
              "    90% {\n",
              "      border-color: transparent;\n",
              "      border-bottom-color: var(--fill-color);\n",
              "    }\n",
              "  }\n",
              "</style>\n",
              "\n",
              "  <script>\n",
              "    async function quickchart(key) {\n",
              "      const quickchartButtonEl =\n",
              "        document.querySelector('#' + key + ' button');\n",
              "      quickchartButtonEl.disabled = true;  // To prevent multiple clicks.\n",
              "      quickchartButtonEl.classList.add('colab-df-spinner');\n",
              "      try {\n",
              "        const charts = await google.colab.kernel.invokeFunction(\n",
              "            'suggestCharts', [key], {});\n",
              "      } catch (error) {\n",
              "        console.error('Error during call to suggestCharts:', error);\n",
              "      }\n",
              "      quickchartButtonEl.classList.remove('colab-df-spinner');\n",
              "      quickchartButtonEl.classList.add('colab-df-quickchart-complete');\n",
              "    }\n",
              "    (() => {\n",
              "      let quickchartButtonEl =\n",
              "        document.querySelector('#df-c908407f-b55a-4e2b-a1f5-5f39b3750477 button');\n",
              "      quickchartButtonEl.style.display =\n",
              "        google.colab.kernel.accessAllowed ? 'block' : 'none';\n",
              "    })();\n",
              "  </script>\n",
              "</div>\n",
              "\n",
              "    </div>\n",
              "  </div>\n"
            ],
            "application/vnd.google.colaboratory.intrinsic+json": {
              "type": "dataframe",
              "variable_name": "df",
              "summary": "{\n  \"name\": \"df\",\n  \"rows\": 9542,\n  \"fields\": [\n    {\n      \"column\": \"region\",\n      \"properties\": {\n        \"dtype\": \"category\",\n        \"num_unique_values\": 38,\n        \"samples\": [\n          \"Thailand\",\n          \"USA\",\n          \"Canada\"\n        ],\n        \"semantic_type\": \"\",\n        \"description\": \"\"\n      }\n    },\n    {\n      \"column\": \"category\",\n      \"properties\": {\n        \"dtype\": \"category\",\n        \"num_unique_values\": 3,\n        \"samples\": [\n          \"Historical\",\n          \"Projection-STEPS\",\n          \"Projection-APS\"\n        ],\n        \"semantic_type\": \"\",\n        \"description\": \"\"\n      }\n    },\n    {\n      \"column\": \"parameter\",\n      \"properties\": {\n        \"dtype\": \"category\",\n        \"num_unique_values\": 8,\n        \"samples\": [\n          \"EV sales share\",\n          \"Electricity demand\",\n          \"EV stock\"\n        ],\n        \"semantic_type\": \"\",\n        \"description\": \"\"\n      }\n    },\n    {\n      \"column\": \"mode\",\n      \"properties\": {\n        \"dtype\": \"category\",\n        \"num_unique_values\": 5,\n        \"samples\": [\n          \"EV\",\n          \"Trucks\",\n          \"Buses\"\n        ],\n        \"semantic_type\": \"\",\n        \"description\": \"\"\n      }\n    },\n    {\n      \"column\": \"powertrain\",\n      \"properties\": {\n        \"dtype\": \"category\",\n        \"num_unique_values\": 5,\n        \"samples\": [\n          \"EV\",\n          \"Publicly available slow\",\n          \"PHEV\"\n        ],\n        \"semantic_type\": \"\",\n        \"description\": \"\"\n      }\n    },\n    {\n      \"column\": \"year\",\n      \"properties\": {\n        \"dtype\": \"number\",\n        \"std\": 4,\n        \"min\": 2010,\n        \"max\": 2030,\n        \"num_unique_values\": 15,\n        \"samples\": [\n          2020,\n          2022,\n          2011\n        ],\n        \"semantic_type\": \"\",\n        \"description\": \"\"\n      }\n    },\n    {\n      \"column\": \"unit\",\n      \"properties\": {\n        \"dtype\": \"category\",\n        \"num_unique_values\": 6,\n        \"samples\": [\n          \"Vehicles\",\n          \"percent\",\n          \"Oil displacement, million lge\"\n        ],\n        \"semantic_type\": \"\",\n        \"description\": \"\"\n      }\n    },\n    {\n      \"column\": \"value\",\n      \"properties\": {\n        \"dtype\": \"number\",\n        \"std\": 3349827.501352053,\n        \"min\": 1.0999999631e-06,\n        \"max\": 180000000.0,\n        \"num_unique_values\": 990,\n        \"samples\": [\n          1300.0,\n          0.9800000190734864,\n          540000.0\n        ],\n        \"semantic_type\": \"\",\n        \"description\": \"\"\n      }\n    }\n  ]\n}"
            }
          },
          "metadata": {},
          "execution_count": 6
        }
      ]
    },
    {
      "cell_type": "code",
      "source": [
        "import pandas as pd\n",
        "import zipfile\n",
        "\n",
        "# Define the path to the zip file\n",
        "zip_file_path = '/content/global-electric-vehicle-dataset-2023.zip'\n",
        "\n",
        "# Extract the CSV file from the zip archive\n",
        "with zipfile.ZipFile(zip_file_path, 'r') as z:\n",
        "    # List all files in the zip archive (this is optional but useful for inspection)\n",
        "    file_list = z.namelist()\n",
        "    print(\"Files in the zip archive:\", file_list)\n",
        "\n",
        "    # Extract specific CSV file from the zip archive\n",
        "    # Use the correct CSV file name from the listed files\n",
        "    csv_filename = file_list[0]  # Assuming the first file in the list is the CSV file\n",
        "    with z.open(csv_filename) as csvfile:\n",
        "        df = pd.read_csv(csvfile)\n",
        "\n",
        "# Explore the dataset\n",
        "print(df.head())\n",
        "print(df.info())\n",
        "print(df.describe())\n"
      ],
      "metadata": {
        "colab": {
          "base_uri": "https://localhost:8080/"
        },
        "id": "up6FFFsODasX",
        "outputId": "a941c916-8ecd-4c6e-96a9-f1ca61e011bb"
      },
      "execution_count": null,
      "outputs": [
        {
          "output_type": "stream",
          "name": "stdout",
          "text": [
            "Files in the zip archive: ['Global EV 2023.csv']\n",
            "      region    category       parameter  mode powertrain  year      unit  \\\n",
            "0  Australia  Historical        EV stock  Cars        BEV  2011  Vehicles   \n",
            "1  Australia  Historical  EV sales share  Cars         EV  2011   percent   \n",
            "2  Australia  Historical  EV stock share  Cars         EV  2011   percent   \n",
            "3  Australia  Historical        EV sales  Cars        BEV  2011  Vehicles   \n",
            "4  Australia  Historical        EV sales  Cars        BEV  2012  Vehicles   \n",
            "\n",
            "       value  \n",
            "0   49.00000  \n",
            "1    0.00650  \n",
            "2    0.00046  \n",
            "3   49.00000  \n",
            "4  170.00000  \n",
            "<class 'pandas.core.frame.DataFrame'>\n",
            "RangeIndex: 9542 entries, 0 to 9541\n",
            "Data columns (total 8 columns):\n",
            " #   Column      Non-Null Count  Dtype  \n",
            "---  ------      --------------  -----  \n",
            " 0   region      9542 non-null   object \n",
            " 1   category    9542 non-null   object \n",
            " 2   parameter   9542 non-null   object \n",
            " 3   mode        9542 non-null   object \n",
            " 4   powertrain  9542 non-null   object \n",
            " 5   year        9542 non-null   int64  \n",
            " 6   unit        9542 non-null   object \n",
            " 7   value       9542 non-null   float64\n",
            "dtypes: float64(1), int64(1), object(6)\n",
            "memory usage: 596.5+ KB\n",
            "None\n",
            "              year         value\n",
            "count  9542.000000  9.542000e+03\n",
            "mean   2018.359883  2.331378e+05\n",
            "std       4.590404  3.349828e+06\n",
            "min    2010.000000  1.100000e-06\n",
            "25%    2015.000000  7.600000e-01\n",
            "50%    2019.000000  6.600000e+01\n",
            "75%    2021.000000  3.800000e+03\n",
            "max    2030.000000  1.800000e+08\n"
          ]
        }
      ]
    },
    {
      "cell_type": "code",
      "source": [
        "print(df.columns)\n"
      ],
      "metadata": {
        "colab": {
          "base_uri": "https://localhost:8080/"
        },
        "id": "6WjP1ug1HQ17",
        "outputId": "387c17c0-ddac-41a6-8d68-e237a1f97a80"
      },
      "execution_count": null,
      "outputs": [
        {
          "output_type": "stream",
          "name": "stdout",
          "text": [
            "Index(['region', 'category', 'parameter', 'mode', 'powertrain', 'year', 'unit',\n",
            "       'value'],\n",
            "      dtype='object')\n"
          ]
        }
      ]
    },
    {
      "cell_type": "code",
      "source": [
        "import pandas as pd\n",
        "import zipfile\n",
        "\n",
        "# Define the path to the zip file\n",
        "zip_file_path = '/content/global-electric-vehicle-dataset-2023.zip'\n",
        "\n",
        "# Extract the CSV file from the zip archive\n",
        "with zipfile.ZipFile(zip_file_path, 'r') as z:\n",
        "    # List all files in the zip archive\n",
        "    file_list = z.namelist()\n",
        "    print(\"Files in the zip archive:\", file_list)\n",
        "\n",
        "    # Assuming the first file is the CSV\n",
        "    csv_filename = file_list[0]\n",
        "    with z.open(csv_filename) as csvfile:\n",
        "        df = pd.read_csv(csvfile)\n",
        "\n",
        "# Explore the dataset\n",
        "print(df.head())\n",
        "print(df.info())\n",
        "print(df.describe())\n",
        "print(\"Columns in the dataset:\", df.columns)\n"
      ],
      "metadata": {
        "colab": {
          "base_uri": "https://localhost:8080/"
        },
        "id": "Lt3r6y10HwSK",
        "outputId": "f3dfcff0-e112-41f2-d7bc-c7977733162f"
      },
      "execution_count": null,
      "outputs": [
        {
          "output_type": "stream",
          "name": "stdout",
          "text": [
            "Files in the zip archive: ['Global EV 2023.csv']\n",
            "      region    category       parameter  mode powertrain  year      unit  \\\n",
            "0  Australia  Historical        EV stock  Cars        BEV  2011  Vehicles   \n",
            "1  Australia  Historical  EV sales share  Cars         EV  2011   percent   \n",
            "2  Australia  Historical  EV stock share  Cars         EV  2011   percent   \n",
            "3  Australia  Historical        EV sales  Cars        BEV  2011  Vehicles   \n",
            "4  Australia  Historical        EV sales  Cars        BEV  2012  Vehicles   \n",
            "\n",
            "       value  \n",
            "0   49.00000  \n",
            "1    0.00650  \n",
            "2    0.00046  \n",
            "3   49.00000  \n",
            "4  170.00000  \n",
            "<class 'pandas.core.frame.DataFrame'>\n",
            "RangeIndex: 9542 entries, 0 to 9541\n",
            "Data columns (total 8 columns):\n",
            " #   Column      Non-Null Count  Dtype  \n",
            "---  ------      --------------  -----  \n",
            " 0   region      9542 non-null   object \n",
            " 1   category    9542 non-null   object \n",
            " 2   parameter   9542 non-null   object \n",
            " 3   mode        9542 non-null   object \n",
            " 4   powertrain  9542 non-null   object \n",
            " 5   year        9542 non-null   int64  \n",
            " 6   unit        9542 non-null   object \n",
            " 7   value       9542 non-null   float64\n",
            "dtypes: float64(1), int64(1), object(6)\n",
            "memory usage: 596.5+ KB\n",
            "None\n",
            "              year         value\n",
            "count  9542.000000  9.542000e+03\n",
            "mean   2018.359883  2.331378e+05\n",
            "std       4.590404  3.349828e+06\n",
            "min    2010.000000  1.100000e-06\n",
            "25%    2015.000000  7.600000e-01\n",
            "50%    2019.000000  6.600000e+01\n",
            "75%    2021.000000  3.800000e+03\n",
            "max    2030.000000  1.800000e+08\n",
            "Columns in the dataset: Index(['region', 'category', 'parameter', 'mode', 'powertrain', 'year', 'unit',\n",
            "       'value'],\n",
            "      dtype='object')\n"
          ]
        }
      ]
    },
    {
      "cell_type": "code",
      "source": [
        "print(\"Columns in the dataset:\", df.columns)\n"
      ],
      "metadata": {
        "colab": {
          "base_uri": "https://localhost:8080/"
        },
        "id": "tw5VMGFVIW3p",
        "outputId": "3a6ac568-134a-4642-cefd-42af2894ac69"
      },
      "execution_count": null,
      "outputs": [
        {
          "output_type": "stream",
          "name": "stdout",
          "text": [
            "Columns in the dataset: Index(['region', 'category', 'parameter', 'mode', 'powertrain', 'year', 'unit',\n",
            "       'value'],\n",
            "      dtype='object')\n"
          ]
        }
      ]
    },
    {
      "cell_type": "code",
      "source": [
        "feature_columns = ['Brand', 'Model', 'Range']\n",
        "target_column = 'Price'\n"
      ],
      "metadata": {
        "id": "BYDgE0JCJuCg"
      },
      "execution_count": null,
      "outputs": []
    },
    {
      "cell_type": "code",
      "source": [
        "import pandas as pd\n",
        "\n",
        "# Load the dataset\n",
        "csv_file_path = '/content/Global EV 2023.csv'\n",
        "df = pd.read_csv(csv_file_path)\n",
        "\n",
        "# Explore the dataset\n",
        "print(\"First few rows of the dataset:\")\n",
        "print(df.head())\n",
        "print(\"\\nDataset Information:\")\n",
        "print(df.info())\n",
        "print(\"\\nDataset Description:\")\n",
        "print(df.describe())\n",
        "print(\"\\nColumns in the dataset:\")\n",
        "print(df.columns)\n",
        "\n",
        "# Replace these with the actual column names\n",
        "feature_columns = ['Feature1', 'Feature2', 'Feature3']  # Update with actual feature column names\n",
        "target_column = 'Target'  # Update with the actual target column name\n",
        "\n",
        "# Define features and target\n",
        "try:\n",
        "    features = df[feature_columns]\n",
        "    target = df[target_column]\n",
        "except KeyError as e:\n",
        "    print(f\"Error: {e}\")\n",
        "    print(\"Available columns:\", df.columns)\n",
        "    raise\n",
        "\n",
        "# Check for missing values\n",
        "print(\"\\nMissing values in features:\")\n",
        "print(features.isnull().sum())\n",
        "print(\"\\nMissing values in target:\")\n",
        "print(target.isnull().sum())\n",
        "\n",
        "# Handle missing values (example: fill with mean or drop rows)\n",
        "features.fillna(features.mean(), inplace=True)\n",
        "target.fillna(target.mean(), inplace=True)\n",
        "\n",
        "# Split the data into training and testing sets\n",
        "from sklearn.model_selection import train_test_split\n",
        "\n",
        "X_train, X_test, y_train, y_test = train_test_split(features, target, test_size=0.2, random_state=42)\n",
        "\n",
        "print(f\"\\nTraining data shape: {X_train.shape}\")\n",
        "print(f\"Testing data shape: {X_test.shape}\")\n",
        "\n",
        "# Train the model\n",
        "from sklearn.linear_model import LinearRegression\n",
        "from sklearn.metrics import mean_squared_error, r2_score\n",
        "\n",
        "model = LinearRegression()\n",
        "model.fit(X_train, y_train)\n",
        "\n",
        "# Make predictions\n",
        "y_pred = model.predict(X_test)\n",
        "\n",
        "# Evaluate the model\n",
        "mse = mean_squared_error(y_test, y_pred)\n",
        "r2 = r2_score(y_test, y_pred)\n",
        "\n",
        "print(f'\\nMean Squared Error: {mse}')\n",
        "print(f'R^2 Score: {r2}')\n"
      ],
      "metadata": {
        "colab": {
          "base_uri": "https://localhost:8080/",
          "height": 1000
        },
        "id": "Wr2WZSbfJxte",
        "outputId": "77440231-e7fd-46e4-f0e4-a6264252b43c"
      },
      "execution_count": null,
      "outputs": [
        {
          "output_type": "stream",
          "name": "stdout",
          "text": [
            "First few rows of the dataset:\n",
            "      region    category       parameter  mode powertrain  year      unit  \\\n",
            "0  Australia  Historical        EV stock  Cars        BEV  2011  Vehicles   \n",
            "1  Australia  Historical  EV sales share  Cars         EV  2011   percent   \n",
            "2  Australia  Historical  EV stock share  Cars         EV  2011   percent   \n",
            "3  Australia  Historical        EV sales  Cars        BEV  2011  Vehicles   \n",
            "4  Australia  Historical        EV sales  Cars        BEV  2012  Vehicles   \n",
            "\n",
            "       value  \n",
            "0   49.00000  \n",
            "1    0.00650  \n",
            "2    0.00046  \n",
            "3   49.00000  \n",
            "4  170.00000  \n",
            "\n",
            "Dataset Information:\n",
            "<class 'pandas.core.frame.DataFrame'>\n",
            "RangeIndex: 9542 entries, 0 to 9541\n",
            "Data columns (total 8 columns):\n",
            " #   Column      Non-Null Count  Dtype  \n",
            "---  ------      --------------  -----  \n",
            " 0   region      9542 non-null   object \n",
            " 1   category    9542 non-null   object \n",
            " 2   parameter   9542 non-null   object \n",
            " 3   mode        9542 non-null   object \n",
            " 4   powertrain  9542 non-null   object \n",
            " 5   year        9542 non-null   int64  \n",
            " 6   unit        9542 non-null   object \n",
            " 7   value       9542 non-null   float64\n",
            "dtypes: float64(1), int64(1), object(6)\n",
            "memory usage: 596.5+ KB\n",
            "None\n",
            "\n",
            "Dataset Description:\n",
            "              year         value\n",
            "count  9542.000000  9.542000e+03\n",
            "mean   2018.359883  2.331378e+05\n",
            "std       4.590404  3.349828e+06\n",
            "min    2010.000000  1.100000e-06\n",
            "25%    2015.000000  7.600000e-01\n",
            "50%    2019.000000  6.600000e+01\n",
            "75%    2021.000000  3.800000e+03\n",
            "max    2030.000000  1.800000e+08\n",
            "\n",
            "Columns in the dataset:\n",
            "Index(['region', 'category', 'parameter', 'mode', 'powertrain', 'year', 'unit',\n",
            "       'value'],\n",
            "      dtype='object')\n",
            "Error: \"None of [Index(['Feature1', 'Feature2', 'Feature3'], dtype='object')] are in the [columns]\"\n",
            "Available columns: Index(['region', 'category', 'parameter', 'mode', 'powertrain', 'year', 'unit',\n",
            "       'value'],\n",
            "      dtype='object')\n"
          ]
        },
        {
          "output_type": "error",
          "ename": "KeyError",
          "evalue": "\"None of [Index(['Feature1', 'Feature2', 'Feature3'], dtype='object')] are in the [columns]\"",
          "traceback": [
            "\u001b[0;31m---------------------------------------------------------------------------\u001b[0m",
            "\u001b[0;31mKeyError\u001b[0m                                  Traceback (most recent call last)",
            "\u001b[0;32m<ipython-input-36-870c97544cba>\u001b[0m in \u001b[0;36m<cell line: 22>\u001b[0;34m()\u001b[0m\n\u001b[1;32m     21\u001b[0m \u001b[0;31m# Define features and target\u001b[0m\u001b[0;34m\u001b[0m\u001b[0;34m\u001b[0m\u001b[0m\n\u001b[1;32m     22\u001b[0m \u001b[0;32mtry\u001b[0m\u001b[0;34m:\u001b[0m\u001b[0;34m\u001b[0m\u001b[0;34m\u001b[0m\u001b[0m\n\u001b[0;32m---> 23\u001b[0;31m     \u001b[0mfeatures\u001b[0m \u001b[0;34m=\u001b[0m \u001b[0mdf\u001b[0m\u001b[0;34m[\u001b[0m\u001b[0mfeature_columns\u001b[0m\u001b[0;34m]\u001b[0m\u001b[0;34m\u001b[0m\u001b[0;34m\u001b[0m\u001b[0m\n\u001b[0m\u001b[1;32m     24\u001b[0m     \u001b[0mtarget\u001b[0m \u001b[0;34m=\u001b[0m \u001b[0mdf\u001b[0m\u001b[0;34m[\u001b[0m\u001b[0mtarget_column\u001b[0m\u001b[0;34m]\u001b[0m\u001b[0;34m\u001b[0m\u001b[0;34m\u001b[0m\u001b[0m\n\u001b[1;32m     25\u001b[0m \u001b[0;32mexcept\u001b[0m \u001b[0mKeyError\u001b[0m \u001b[0;32mas\u001b[0m \u001b[0me\u001b[0m\u001b[0;34m:\u001b[0m\u001b[0;34m\u001b[0m\u001b[0;34m\u001b[0m\u001b[0m\n",
            "\u001b[0;32m/usr/local/lib/python3.10/dist-packages/pandas/core/frame.py\u001b[0m in \u001b[0;36m__getitem__\u001b[0;34m(self, key)\u001b[0m\n\u001b[1;32m   3897\u001b[0m             \u001b[0;32mif\u001b[0m \u001b[0mis_iterator\u001b[0m\u001b[0;34m(\u001b[0m\u001b[0mkey\u001b[0m\u001b[0;34m)\u001b[0m\u001b[0;34m:\u001b[0m\u001b[0;34m\u001b[0m\u001b[0;34m\u001b[0m\u001b[0m\n\u001b[1;32m   3898\u001b[0m                 \u001b[0mkey\u001b[0m \u001b[0;34m=\u001b[0m \u001b[0mlist\u001b[0m\u001b[0;34m(\u001b[0m\u001b[0mkey\u001b[0m\u001b[0;34m)\u001b[0m\u001b[0;34m\u001b[0m\u001b[0;34m\u001b[0m\u001b[0m\n\u001b[0;32m-> 3899\u001b[0;31m             \u001b[0mindexer\u001b[0m \u001b[0;34m=\u001b[0m \u001b[0mself\u001b[0m\u001b[0;34m.\u001b[0m\u001b[0mcolumns\u001b[0m\u001b[0;34m.\u001b[0m\u001b[0m_get_indexer_strict\u001b[0m\u001b[0;34m(\u001b[0m\u001b[0mkey\u001b[0m\u001b[0;34m,\u001b[0m \u001b[0;34m\"columns\"\u001b[0m\u001b[0;34m)\u001b[0m\u001b[0;34m[\u001b[0m\u001b[0;36m1\u001b[0m\u001b[0;34m]\u001b[0m\u001b[0;34m\u001b[0m\u001b[0;34m\u001b[0m\u001b[0m\n\u001b[0m\u001b[1;32m   3900\u001b[0m \u001b[0;34m\u001b[0m\u001b[0m\n\u001b[1;32m   3901\u001b[0m         \u001b[0;31m# take() does not accept boolean indexers\u001b[0m\u001b[0;34m\u001b[0m\u001b[0;34m\u001b[0m\u001b[0m\n",
            "\u001b[0;32m/usr/local/lib/python3.10/dist-packages/pandas/core/indexes/base.py\u001b[0m in \u001b[0;36m_get_indexer_strict\u001b[0;34m(self, key, axis_name)\u001b[0m\n\u001b[1;32m   6113\u001b[0m             \u001b[0mkeyarr\u001b[0m\u001b[0;34m,\u001b[0m \u001b[0mindexer\u001b[0m\u001b[0;34m,\u001b[0m \u001b[0mnew_indexer\u001b[0m \u001b[0;34m=\u001b[0m \u001b[0mself\u001b[0m\u001b[0;34m.\u001b[0m\u001b[0m_reindex_non_unique\u001b[0m\u001b[0;34m(\u001b[0m\u001b[0mkeyarr\u001b[0m\u001b[0;34m)\u001b[0m\u001b[0;34m\u001b[0m\u001b[0;34m\u001b[0m\u001b[0m\n\u001b[1;32m   6114\u001b[0m \u001b[0;34m\u001b[0m\u001b[0m\n\u001b[0;32m-> 6115\u001b[0;31m         \u001b[0mself\u001b[0m\u001b[0;34m.\u001b[0m\u001b[0m_raise_if_missing\u001b[0m\u001b[0;34m(\u001b[0m\u001b[0mkeyarr\u001b[0m\u001b[0;34m,\u001b[0m \u001b[0mindexer\u001b[0m\u001b[0;34m,\u001b[0m \u001b[0maxis_name\u001b[0m\u001b[0;34m)\u001b[0m\u001b[0;34m\u001b[0m\u001b[0;34m\u001b[0m\u001b[0m\n\u001b[0m\u001b[1;32m   6116\u001b[0m \u001b[0;34m\u001b[0m\u001b[0m\n\u001b[1;32m   6117\u001b[0m         \u001b[0mkeyarr\u001b[0m \u001b[0;34m=\u001b[0m \u001b[0mself\u001b[0m\u001b[0;34m.\u001b[0m\u001b[0mtake\u001b[0m\u001b[0;34m(\u001b[0m\u001b[0mindexer\u001b[0m\u001b[0;34m)\u001b[0m\u001b[0;34m\u001b[0m\u001b[0;34m\u001b[0m\u001b[0m\n",
            "\u001b[0;32m/usr/local/lib/python3.10/dist-packages/pandas/core/indexes/base.py\u001b[0m in \u001b[0;36m_raise_if_missing\u001b[0;34m(self, key, indexer, axis_name)\u001b[0m\n\u001b[1;32m   6174\u001b[0m                 \u001b[0;32mif\u001b[0m \u001b[0muse_interval_msg\u001b[0m\u001b[0;34m:\u001b[0m\u001b[0;34m\u001b[0m\u001b[0;34m\u001b[0m\u001b[0m\n\u001b[1;32m   6175\u001b[0m                     \u001b[0mkey\u001b[0m \u001b[0;34m=\u001b[0m \u001b[0mlist\u001b[0m\u001b[0;34m(\u001b[0m\u001b[0mkey\u001b[0m\u001b[0;34m)\u001b[0m\u001b[0;34m\u001b[0m\u001b[0;34m\u001b[0m\u001b[0m\n\u001b[0;32m-> 6176\u001b[0;31m                 \u001b[0;32mraise\u001b[0m \u001b[0mKeyError\u001b[0m\u001b[0;34m(\u001b[0m\u001b[0;34mf\"None of [{key}] are in the [{axis_name}]\"\u001b[0m\u001b[0;34m)\u001b[0m\u001b[0;34m\u001b[0m\u001b[0;34m\u001b[0m\u001b[0m\n\u001b[0m\u001b[1;32m   6177\u001b[0m \u001b[0;34m\u001b[0m\u001b[0m\n\u001b[1;32m   6178\u001b[0m             \u001b[0mnot_found\u001b[0m \u001b[0;34m=\u001b[0m \u001b[0mlist\u001b[0m\u001b[0;34m(\u001b[0m\u001b[0mensure_index\u001b[0m\u001b[0;34m(\u001b[0m\u001b[0mkey\u001b[0m\u001b[0;34m)\u001b[0m\u001b[0;34m[\u001b[0m\u001b[0mmissing_mask\u001b[0m\u001b[0;34m.\u001b[0m\u001b[0mnonzero\u001b[0m\u001b[0;34m(\u001b[0m\u001b[0;34m)\u001b[0m\u001b[0;34m[\u001b[0m\u001b[0;36m0\u001b[0m\u001b[0;34m]\u001b[0m\u001b[0;34m]\u001b[0m\u001b[0;34m.\u001b[0m\u001b[0munique\u001b[0m\u001b[0;34m(\u001b[0m\u001b[0;34m)\u001b[0m\u001b[0;34m)\u001b[0m\u001b[0;34m\u001b[0m\u001b[0;34m\u001b[0m\u001b[0m\n",
            "\u001b[0;31mKeyError\u001b[0m: \"None of [Index(['Feature1', 'Feature2', 'Feature3'], dtype='object')] are in the [columns]\""
          ]
        }
      ]
    },
    {
      "cell_type": "code",
      "source": [
        "import zipfile\n",
        "\n",
        "# Define the path to the zip file\n",
        "zip_file_path = '/content/global-electric-vehicle-dataset-2023.zip'\n",
        "\n",
        "# Extract the CSV file from the zip archive\n",
        "with zipfile.ZipFile(zip_file_path, 'r') as z:\n",
        "    # List all files in the zip archive\n",
        "    file_list = z.namelist()\n",
        "    print(\"Files in the zip archive:\", file_list)\n",
        "\n",
        "    # Assuming the CSV file is the first file in the zip\n",
        "    csv_filename = file_list[0]\n",
        "    with z.open(csv_filename) as csvfile:\n",
        "        df = pd.read_csv(csvfile)\n",
        "\n",
        "# Explore the dataset\n",
        "print(\"First few rows of the dataset:\")\n",
        "print(df.head())\n",
        "print(\"\\nDataset Information:\")\n",
        "print(df.info())\n",
        "print(\"\\nDataset Description:\")\n",
        "print(df.describe())\n",
        "print(\"\\nColumns in the dataset:\")\n",
        "print(df.columns)\n",
        "\n",
        "# Replace these with the actual column names\n",
        "feature_columns = ['Feature1', 'Feature2', 'Feature3']  # Update with actual feature column names\n",
        "target_column = 'Target'  # Update with the actual target column name\n",
        "\n",
        "# Define features and target\n",
        "try:\n",
        "    features = df[feature_columns]\n",
        "    target = df[target_column]\n",
        "except KeyError as e:\n",
        "    print(f\"Error: {e}\")\n",
        "    print(\"Available columns:\", df.columns)\n",
        "    raise\n",
        "\n",
        "# Check for missing values\n",
        "print(\"\\nMissing values in features:\")\n",
        "print(features.isnull().sum())\n",
        "print(\"\\nMissing values in target:\")\n",
        "print(target.isnull().sum())\n",
        "\n",
        "# Handle missing values (example: fill with mean or drop rows)\n",
        "features.fillna(features.mean(), inplace=True)\n",
        "target.fillna(target.mean(), inplace=True)\n",
        "\n",
        "# Split the data into training and testing sets\n",
        "from sklearn.model_selection import train_test_split\n",
        "\n",
        "X_train, X_test, y_train, y_test = train_test_split(features, target, test_size=0.2, random_state=42)\n",
        "\n",
        "print(f\"\\nTraining data shape: {X_train.shape}\")\n",
        "print(f\"Testing data shape: {X_test.shape}\")\n",
        "\n",
        "# Train the model\n",
        "from sklearn.linear_model import LinearRegression\n",
        "from sklearn.metrics import mean_squared_error, r2_score\n",
        "\n",
        "model = LinearRegression()\n",
        "model.fit(X_train, y_train)\n",
        "\n",
        "# Make predictions\n",
        "y_pred = model.predict(X_test)\n",
        "\n",
        "# Evaluate the model\n",
        "mse = mean_squared_error(y_test, y_pred)\n",
        "r2 = r2_score(y_test, y_pred)\n",
        "\n",
        "print(f'\\nMean Squared Error: {mse}')\n",
        "print(f'R^2 Score: {r2}')\n"
      ],
      "metadata": {
        "colab": {
          "base_uri": "https://localhost:8080/",
          "height": 1000
        },
        "id": "RWwpQfwTJxjs",
        "outputId": "d5fbfeaf-b981-4040-aac4-a076da50bcab"
      },
      "execution_count": null,
      "outputs": [
        {
          "output_type": "stream",
          "name": "stdout",
          "text": [
            "Files in the zip archive: ['Global EV 2023.csv']\n",
            "First few rows of the dataset:\n",
            "      region    category       parameter  mode powertrain  year      unit  \\\n",
            "0  Australia  Historical        EV stock  Cars        BEV  2011  Vehicles   \n",
            "1  Australia  Historical  EV sales share  Cars         EV  2011   percent   \n",
            "2  Australia  Historical  EV stock share  Cars         EV  2011   percent   \n",
            "3  Australia  Historical        EV sales  Cars        BEV  2011  Vehicles   \n",
            "4  Australia  Historical        EV sales  Cars        BEV  2012  Vehicles   \n",
            "\n",
            "       value  \n",
            "0   49.00000  \n",
            "1    0.00650  \n",
            "2    0.00046  \n",
            "3   49.00000  \n",
            "4  170.00000  \n",
            "\n",
            "Dataset Information:\n",
            "<class 'pandas.core.frame.DataFrame'>\n",
            "RangeIndex: 9542 entries, 0 to 9541\n",
            "Data columns (total 8 columns):\n",
            " #   Column      Non-Null Count  Dtype  \n",
            "---  ------      --------------  -----  \n",
            " 0   region      9542 non-null   object \n",
            " 1   category    9542 non-null   object \n",
            " 2   parameter   9542 non-null   object \n",
            " 3   mode        9542 non-null   object \n",
            " 4   powertrain  9542 non-null   object \n",
            " 5   year        9542 non-null   int64  \n",
            " 6   unit        9542 non-null   object \n",
            " 7   value       9542 non-null   float64\n",
            "dtypes: float64(1), int64(1), object(6)\n",
            "memory usage: 596.5+ KB\n",
            "None\n",
            "\n",
            "Dataset Description:\n",
            "              year         value\n",
            "count  9542.000000  9.542000e+03\n",
            "mean   2018.359883  2.331378e+05\n",
            "std       4.590404  3.349828e+06\n",
            "min    2010.000000  1.100000e-06\n",
            "25%    2015.000000  7.600000e-01\n",
            "50%    2019.000000  6.600000e+01\n",
            "75%    2021.000000  3.800000e+03\n",
            "max    2030.000000  1.800000e+08\n",
            "\n",
            "Columns in the dataset:\n",
            "Index(['region', 'category', 'parameter', 'mode', 'powertrain', 'year', 'unit',\n",
            "       'value'],\n",
            "      dtype='object')\n",
            "Error: \"None of [Index(['Feature1', 'Feature2', 'Feature3'], dtype='object')] are in the [columns]\"\n",
            "Available columns: Index(['region', 'category', 'parameter', 'mode', 'powertrain', 'year', 'unit',\n",
            "       'value'],\n",
            "      dtype='object')\n"
          ]
        },
        {
          "output_type": "error",
          "ename": "KeyError",
          "evalue": "\"None of [Index(['Feature1', 'Feature2', 'Feature3'], dtype='object')] are in the [columns]\"",
          "traceback": [
            "\u001b[0;31m---------------------------------------------------------------------------\u001b[0m",
            "\u001b[0;31mKeyError\u001b[0m                                  Traceback (most recent call last)",
            "\u001b[0;32m<ipython-input-37-735b352f64e6>\u001b[0m in \u001b[0;36m<cell line: 32>\u001b[0;34m()\u001b[0m\n\u001b[1;32m     31\u001b[0m \u001b[0;31m# Define features and target\u001b[0m\u001b[0;34m\u001b[0m\u001b[0;34m\u001b[0m\u001b[0m\n\u001b[1;32m     32\u001b[0m \u001b[0;32mtry\u001b[0m\u001b[0;34m:\u001b[0m\u001b[0;34m\u001b[0m\u001b[0;34m\u001b[0m\u001b[0m\n\u001b[0;32m---> 33\u001b[0;31m     \u001b[0mfeatures\u001b[0m \u001b[0;34m=\u001b[0m \u001b[0mdf\u001b[0m\u001b[0;34m[\u001b[0m\u001b[0mfeature_columns\u001b[0m\u001b[0;34m]\u001b[0m\u001b[0;34m\u001b[0m\u001b[0;34m\u001b[0m\u001b[0m\n\u001b[0m\u001b[1;32m     34\u001b[0m     \u001b[0mtarget\u001b[0m \u001b[0;34m=\u001b[0m \u001b[0mdf\u001b[0m\u001b[0;34m[\u001b[0m\u001b[0mtarget_column\u001b[0m\u001b[0;34m]\u001b[0m\u001b[0;34m\u001b[0m\u001b[0;34m\u001b[0m\u001b[0m\n\u001b[1;32m     35\u001b[0m \u001b[0;32mexcept\u001b[0m \u001b[0mKeyError\u001b[0m \u001b[0;32mas\u001b[0m \u001b[0me\u001b[0m\u001b[0;34m:\u001b[0m\u001b[0;34m\u001b[0m\u001b[0;34m\u001b[0m\u001b[0m\n",
            "\u001b[0;32m/usr/local/lib/python3.10/dist-packages/pandas/core/frame.py\u001b[0m in \u001b[0;36m__getitem__\u001b[0;34m(self, key)\u001b[0m\n\u001b[1;32m   3897\u001b[0m             \u001b[0;32mif\u001b[0m \u001b[0mis_iterator\u001b[0m\u001b[0;34m(\u001b[0m\u001b[0mkey\u001b[0m\u001b[0;34m)\u001b[0m\u001b[0;34m:\u001b[0m\u001b[0;34m\u001b[0m\u001b[0;34m\u001b[0m\u001b[0m\n\u001b[1;32m   3898\u001b[0m                 \u001b[0mkey\u001b[0m \u001b[0;34m=\u001b[0m \u001b[0mlist\u001b[0m\u001b[0;34m(\u001b[0m\u001b[0mkey\u001b[0m\u001b[0;34m)\u001b[0m\u001b[0;34m\u001b[0m\u001b[0;34m\u001b[0m\u001b[0m\n\u001b[0;32m-> 3899\u001b[0;31m             \u001b[0mindexer\u001b[0m \u001b[0;34m=\u001b[0m \u001b[0mself\u001b[0m\u001b[0;34m.\u001b[0m\u001b[0mcolumns\u001b[0m\u001b[0;34m.\u001b[0m\u001b[0m_get_indexer_strict\u001b[0m\u001b[0;34m(\u001b[0m\u001b[0mkey\u001b[0m\u001b[0;34m,\u001b[0m \u001b[0;34m\"columns\"\u001b[0m\u001b[0;34m)\u001b[0m\u001b[0;34m[\u001b[0m\u001b[0;36m1\u001b[0m\u001b[0;34m]\u001b[0m\u001b[0;34m\u001b[0m\u001b[0;34m\u001b[0m\u001b[0m\n\u001b[0m\u001b[1;32m   3900\u001b[0m \u001b[0;34m\u001b[0m\u001b[0m\n\u001b[1;32m   3901\u001b[0m         \u001b[0;31m# take() does not accept boolean indexers\u001b[0m\u001b[0;34m\u001b[0m\u001b[0;34m\u001b[0m\u001b[0m\n",
            "\u001b[0;32m/usr/local/lib/python3.10/dist-packages/pandas/core/indexes/base.py\u001b[0m in \u001b[0;36m_get_indexer_strict\u001b[0;34m(self, key, axis_name)\u001b[0m\n\u001b[1;32m   6113\u001b[0m             \u001b[0mkeyarr\u001b[0m\u001b[0;34m,\u001b[0m \u001b[0mindexer\u001b[0m\u001b[0;34m,\u001b[0m \u001b[0mnew_indexer\u001b[0m \u001b[0;34m=\u001b[0m \u001b[0mself\u001b[0m\u001b[0;34m.\u001b[0m\u001b[0m_reindex_non_unique\u001b[0m\u001b[0;34m(\u001b[0m\u001b[0mkeyarr\u001b[0m\u001b[0;34m)\u001b[0m\u001b[0;34m\u001b[0m\u001b[0;34m\u001b[0m\u001b[0m\n\u001b[1;32m   6114\u001b[0m \u001b[0;34m\u001b[0m\u001b[0m\n\u001b[0;32m-> 6115\u001b[0;31m         \u001b[0mself\u001b[0m\u001b[0;34m.\u001b[0m\u001b[0m_raise_if_missing\u001b[0m\u001b[0;34m(\u001b[0m\u001b[0mkeyarr\u001b[0m\u001b[0;34m,\u001b[0m \u001b[0mindexer\u001b[0m\u001b[0;34m,\u001b[0m \u001b[0maxis_name\u001b[0m\u001b[0;34m)\u001b[0m\u001b[0;34m\u001b[0m\u001b[0;34m\u001b[0m\u001b[0m\n\u001b[0m\u001b[1;32m   6116\u001b[0m \u001b[0;34m\u001b[0m\u001b[0m\n\u001b[1;32m   6117\u001b[0m         \u001b[0mkeyarr\u001b[0m \u001b[0;34m=\u001b[0m \u001b[0mself\u001b[0m\u001b[0;34m.\u001b[0m\u001b[0mtake\u001b[0m\u001b[0;34m(\u001b[0m\u001b[0mindexer\u001b[0m\u001b[0;34m)\u001b[0m\u001b[0;34m\u001b[0m\u001b[0;34m\u001b[0m\u001b[0m\n",
            "\u001b[0;32m/usr/local/lib/python3.10/dist-packages/pandas/core/indexes/base.py\u001b[0m in \u001b[0;36m_raise_if_missing\u001b[0;34m(self, key, indexer, axis_name)\u001b[0m\n\u001b[1;32m   6174\u001b[0m                 \u001b[0;32mif\u001b[0m \u001b[0muse_interval_msg\u001b[0m\u001b[0;34m:\u001b[0m\u001b[0;34m\u001b[0m\u001b[0;34m\u001b[0m\u001b[0m\n\u001b[1;32m   6175\u001b[0m                     \u001b[0mkey\u001b[0m \u001b[0;34m=\u001b[0m \u001b[0mlist\u001b[0m\u001b[0;34m(\u001b[0m\u001b[0mkey\u001b[0m\u001b[0;34m)\u001b[0m\u001b[0;34m\u001b[0m\u001b[0;34m\u001b[0m\u001b[0m\n\u001b[0;32m-> 6176\u001b[0;31m                 \u001b[0;32mraise\u001b[0m \u001b[0mKeyError\u001b[0m\u001b[0;34m(\u001b[0m\u001b[0;34mf\"None of [{key}] are in the [{axis_name}]\"\u001b[0m\u001b[0;34m)\u001b[0m\u001b[0;34m\u001b[0m\u001b[0;34m\u001b[0m\u001b[0m\n\u001b[0m\u001b[1;32m   6177\u001b[0m \u001b[0;34m\u001b[0m\u001b[0m\n\u001b[1;32m   6178\u001b[0m             \u001b[0mnot_found\u001b[0m \u001b[0;34m=\u001b[0m \u001b[0mlist\u001b[0m\u001b[0;34m(\u001b[0m\u001b[0mensure_index\u001b[0m\u001b[0;34m(\u001b[0m\u001b[0mkey\u001b[0m\u001b[0;34m)\u001b[0m\u001b[0;34m[\u001b[0m\u001b[0mmissing_mask\u001b[0m\u001b[0;34m.\u001b[0m\u001b[0mnonzero\u001b[0m\u001b[0;34m(\u001b[0m\u001b[0;34m)\u001b[0m\u001b[0;34m[\u001b[0m\u001b[0;36m0\u001b[0m\u001b[0;34m]\u001b[0m\u001b[0;34m]\u001b[0m\u001b[0;34m.\u001b[0m\u001b[0munique\u001b[0m\u001b[0;34m(\u001b[0m\u001b[0;34m)\u001b[0m\u001b[0;34m)\u001b[0m\u001b[0;34m\u001b[0m\u001b[0;34m\u001b[0m\u001b[0m\n",
            "\u001b[0;31mKeyError\u001b[0m: \"None of [Index(['Feature1', 'Feature2', 'Feature3'], dtype='object')] are in the [columns]\""
          ]
        }
      ]
    },
    {
      "cell_type": "code",
      "source": [
        "print(\"Columns in the dataset:\")\n",
        "print(df.columns)\n"
      ],
      "metadata": {
        "colab": {
          "base_uri": "https://localhost:8080/"
        },
        "id": "RqoIJaucMuUK",
        "outputId": "17903cae-9f2f-49bc-e73e-6634a798e562"
      },
      "execution_count": null,
      "outputs": [
        {
          "output_type": "stream",
          "name": "stdout",
          "text": [
            "Columns in the dataset:\n",
            "Index(['region', 'category', 'parameter', 'mode', 'powertrain', 'year', 'unit',\n",
            "       'value'],\n",
            "      dtype='object')\n"
          ]
        }
      ]
    },
    {
      "cell_type": "code",
      "source": [
        "import pandas as pd\n",
        "import zipfile\n",
        "\n",
        "# Define the path to the zip file\n",
        "zip_file_path = '/content/global-electric-vehicle-dataset-2023.zip'\n",
        "\n",
        "# Extract the CSV file from the zip archive\n",
        "with zipfile.ZipFile(zip_file_path, 'r') as z:\n",
        "    # List all files in the zip archive\n",
        "    file_list = z.namelist()\n",
        "    print(\"Files in the zip archive:\", file_list)\n",
        "\n",
        "    # Assuming the CSV file is the first file in the zip\n",
        "    csv_filename = file_list[0]\n",
        "    with z.open(csv_filename) as csvfile:\n",
        "        df = pd.read_csv(csvfile)\n",
        "\n",
        "# Explore the dataset\n",
        "print(\"First few rows of the dataset:\")\n",
        "print(df.head())\n",
        "print(\"\\nDataset Information:\")\n",
        "print(df.info())\n",
        "print(\"\\nDataset Description:\")\n",
        "print(df.describe())\n",
        "print(\"\\nColumns in the dataset:\")\n",
        "print(df.columns)\n"
      ],
      "metadata": {
        "colab": {
          "base_uri": "https://localhost:8080/"
        },
        "id": "KozdOagaMvs2",
        "outputId": "ceec217d-7475-4479-821f-1d667412bc84"
      },
      "execution_count": null,
      "outputs": [
        {
          "output_type": "stream",
          "name": "stdout",
          "text": [
            "Files in the zip archive: ['Global EV 2023.csv']\n",
            "First few rows of the dataset:\n",
            "      region    category       parameter  mode powertrain  year      unit  \\\n",
            "0  Australia  Historical        EV stock  Cars        BEV  2011  Vehicles   \n",
            "1  Australia  Historical  EV sales share  Cars         EV  2011   percent   \n",
            "2  Australia  Historical  EV stock share  Cars         EV  2011   percent   \n",
            "3  Australia  Historical        EV sales  Cars        BEV  2011  Vehicles   \n",
            "4  Australia  Historical        EV sales  Cars        BEV  2012  Vehicles   \n",
            "\n",
            "       value  \n",
            "0   49.00000  \n",
            "1    0.00650  \n",
            "2    0.00046  \n",
            "3   49.00000  \n",
            "4  170.00000  \n",
            "\n",
            "Dataset Information:\n",
            "<class 'pandas.core.frame.DataFrame'>\n",
            "RangeIndex: 9542 entries, 0 to 9541\n",
            "Data columns (total 8 columns):\n",
            " #   Column      Non-Null Count  Dtype  \n",
            "---  ------      --------------  -----  \n",
            " 0   region      9542 non-null   object \n",
            " 1   category    9542 non-null   object \n",
            " 2   parameter   9542 non-null   object \n",
            " 3   mode        9542 non-null   object \n",
            " 4   powertrain  9542 non-null   object \n",
            " 5   year        9542 non-null   int64  \n",
            " 6   unit        9542 non-null   object \n",
            " 7   value       9542 non-null   float64\n",
            "dtypes: float64(1), int64(1), object(6)\n",
            "memory usage: 596.5+ KB\n",
            "None\n",
            "\n",
            "Dataset Description:\n",
            "              year         value\n",
            "count  9542.000000  9.542000e+03\n",
            "mean   2018.359883  2.331378e+05\n",
            "std       4.590404  3.349828e+06\n",
            "min    2010.000000  1.100000e-06\n",
            "25%    2015.000000  7.600000e-01\n",
            "50%    2019.000000  6.600000e+01\n",
            "75%    2021.000000  3.800000e+03\n",
            "max    2030.000000  1.800000e+08\n",
            "\n",
            "Columns in the dataset:\n",
            "Index(['region', 'category', 'parameter', 'mode', 'powertrain', 'year', 'unit',\n",
            "       'value'],\n",
            "      dtype='object')\n"
          ]
        }
      ]
    },
    {
      "cell_type": "code",
      "source": [
        "import pandas as pd\n",
        "import zipfile\n",
        "from sklearn.model_selection import train_test_split\n",
        "from sklearn.linear_model import LinearRegression\n",
        "from sklearn.metrics import mean_squared_error, r2_score\n",
        "\n",
        "# Define the path to the zip file\n",
        "zip_file_path = '/content/global-electric-vehicle-dataset-2023.zip'\n",
        "\n",
        "# Extract the CSV file from the zip archive\n",
        "with zipfile.ZipFile(zip_file_path, 'r') as z:\n",
        "    file_list = z.namelist()\n",
        "    print(\"Files in the zip archive:\", file_list)\n",
        "\n",
        "    csv_filename = file_list[0]\n",
        "    with z.open(csv_filename) as csvfile:\n",
        "        df = pd.read_csv(csvfile)\n",
        "\n",
        "# Print the column names to identify correct feature and target columns\n",
        "print(\"Columns in the dataset:\")\n",
        "print(df.columns)\n",
        "\n",
        "# Replace with actual column names\n",
        "feature_columns = ['ActualFeature1', 'ActualFeature2', 'ActualFeature3']  # Update these names based on printed columns\n",
        "target_column = 'ActualTarget'  # Update this name based on printed columns\n",
        "\n",
        "# Define features and target\n",
        "try:\n",
        "    features = df[feature_columns]\n",
        "    target = df[target_column]\n",
        "except KeyError as e:\n",
        "    print(f\"Error: {e}\")\n",
        "    print(\"Available columns:\", df.columns)\n",
        "    raise\n",
        "\n",
        "# Check for missing values\n",
        "print(\"\\nMissing values in features:\")\n",
        "print(features.isnull().sum())\n",
        "print(\"\\nMissing values in target:\")\n",
        "print(target.isnull().sum())\n",
        "\n",
        "# Handle missing values (example: fill with mean or drop rows)\n",
        "features.fillna(features.mean(), inplace=True)\n",
        "target.fillna(target.mean(), inplace=True)\n",
        "\n",
        "# Split the data into training and testing sets\n",
        "X_train, X_test, y_train, y_test = train_test_split(features, target, test_size=0.2, random_state=42)\n",
        "\n",
        "print(f\"\\nTraining data shape: {X_train.shape}\")\n",
        "print(f\"Testing data shape: {X_test.shape}\")\n",
        "\n",
        "# Train the model\n",
        "model = LinearRegression()\n",
        "model.fit(X_train, y_train)\n",
        "\n",
        "# Make predictions\n",
        "y_pred = model.predict(X_test)\n",
        "\n",
        "# Evaluate the model\n",
        "mse = mean_squared_error(y_test, y_pred)\n",
        "r2 = r2_score(y_test, y_pred)\n",
        "\n",
        "print(f'\\nMean Squared Error: {mse}')\n",
        "print(f'R^2 Score: {r2}')\n"
      ],
      "metadata": {
        "colab": {
          "base_uri": "https://localhost:8080/",
          "height": 567
        },
        "id": "KX3VJNdgNP5s",
        "outputId": "f2795731-d54c-433b-c3df-ff230406ed5a"
      },
      "execution_count": null,
      "outputs": [
        {
          "output_type": "stream",
          "name": "stdout",
          "text": [
            "Files in the zip archive: ['Global EV 2023.csv']\n",
            "Columns in the dataset:\n",
            "Index(['region', 'category', 'parameter', 'mode', 'powertrain', 'year', 'unit',\n",
            "       'value'],\n",
            "      dtype='object')\n",
            "Error: \"None of [Index(['ActualFeature1', 'ActualFeature2', 'ActualFeature3'], dtype='object')] are in the [columns]\"\n",
            "Available columns: Index(['region', 'category', 'parameter', 'mode', 'powertrain', 'year', 'unit',\n",
            "       'value'],\n",
            "      dtype='object')\n"
          ]
        },
        {
          "output_type": "error",
          "ename": "KeyError",
          "evalue": "\"None of [Index(['ActualFeature1', 'ActualFeature2', 'ActualFeature3'], dtype='object')] are in the [columns]\"",
          "traceback": [
            "\u001b[0;31m---------------------------------------------------------------------------\u001b[0m",
            "\u001b[0;31mKeyError\u001b[0m                                  Traceback (most recent call last)",
            "\u001b[0;32m<ipython-input-42-3d2dd74601c6>\u001b[0m in \u001b[0;36m<cell line: 28>\u001b[0;34m()\u001b[0m\n\u001b[1;32m     27\u001b[0m \u001b[0;31m# Define features and target\u001b[0m\u001b[0;34m\u001b[0m\u001b[0;34m\u001b[0m\u001b[0m\n\u001b[1;32m     28\u001b[0m \u001b[0;32mtry\u001b[0m\u001b[0;34m:\u001b[0m\u001b[0;34m\u001b[0m\u001b[0;34m\u001b[0m\u001b[0m\n\u001b[0;32m---> 29\u001b[0;31m     \u001b[0mfeatures\u001b[0m \u001b[0;34m=\u001b[0m \u001b[0mdf\u001b[0m\u001b[0;34m[\u001b[0m\u001b[0mfeature_columns\u001b[0m\u001b[0;34m]\u001b[0m\u001b[0;34m\u001b[0m\u001b[0;34m\u001b[0m\u001b[0m\n\u001b[0m\u001b[1;32m     30\u001b[0m     \u001b[0mtarget\u001b[0m \u001b[0;34m=\u001b[0m \u001b[0mdf\u001b[0m\u001b[0;34m[\u001b[0m\u001b[0mtarget_column\u001b[0m\u001b[0;34m]\u001b[0m\u001b[0;34m\u001b[0m\u001b[0;34m\u001b[0m\u001b[0m\n\u001b[1;32m     31\u001b[0m \u001b[0;32mexcept\u001b[0m \u001b[0mKeyError\u001b[0m \u001b[0;32mas\u001b[0m \u001b[0me\u001b[0m\u001b[0;34m:\u001b[0m\u001b[0;34m\u001b[0m\u001b[0;34m\u001b[0m\u001b[0m\n",
            "\u001b[0;32m/usr/local/lib/python3.10/dist-packages/pandas/core/frame.py\u001b[0m in \u001b[0;36m__getitem__\u001b[0;34m(self, key)\u001b[0m\n\u001b[1;32m   3897\u001b[0m             \u001b[0;32mif\u001b[0m \u001b[0mis_iterator\u001b[0m\u001b[0;34m(\u001b[0m\u001b[0mkey\u001b[0m\u001b[0;34m)\u001b[0m\u001b[0;34m:\u001b[0m\u001b[0;34m\u001b[0m\u001b[0;34m\u001b[0m\u001b[0m\n\u001b[1;32m   3898\u001b[0m                 \u001b[0mkey\u001b[0m \u001b[0;34m=\u001b[0m \u001b[0mlist\u001b[0m\u001b[0;34m(\u001b[0m\u001b[0mkey\u001b[0m\u001b[0;34m)\u001b[0m\u001b[0;34m\u001b[0m\u001b[0;34m\u001b[0m\u001b[0m\n\u001b[0;32m-> 3899\u001b[0;31m             \u001b[0mindexer\u001b[0m \u001b[0;34m=\u001b[0m \u001b[0mself\u001b[0m\u001b[0;34m.\u001b[0m\u001b[0mcolumns\u001b[0m\u001b[0;34m.\u001b[0m\u001b[0m_get_indexer_strict\u001b[0m\u001b[0;34m(\u001b[0m\u001b[0mkey\u001b[0m\u001b[0;34m,\u001b[0m \u001b[0;34m\"columns\"\u001b[0m\u001b[0;34m)\u001b[0m\u001b[0;34m[\u001b[0m\u001b[0;36m1\u001b[0m\u001b[0;34m]\u001b[0m\u001b[0;34m\u001b[0m\u001b[0;34m\u001b[0m\u001b[0m\n\u001b[0m\u001b[1;32m   3900\u001b[0m \u001b[0;34m\u001b[0m\u001b[0m\n\u001b[1;32m   3901\u001b[0m         \u001b[0;31m# take() does not accept boolean indexers\u001b[0m\u001b[0;34m\u001b[0m\u001b[0;34m\u001b[0m\u001b[0m\n",
            "\u001b[0;32m/usr/local/lib/python3.10/dist-packages/pandas/core/indexes/base.py\u001b[0m in \u001b[0;36m_get_indexer_strict\u001b[0;34m(self, key, axis_name)\u001b[0m\n\u001b[1;32m   6113\u001b[0m             \u001b[0mkeyarr\u001b[0m\u001b[0;34m,\u001b[0m \u001b[0mindexer\u001b[0m\u001b[0;34m,\u001b[0m \u001b[0mnew_indexer\u001b[0m \u001b[0;34m=\u001b[0m \u001b[0mself\u001b[0m\u001b[0;34m.\u001b[0m\u001b[0m_reindex_non_unique\u001b[0m\u001b[0;34m(\u001b[0m\u001b[0mkeyarr\u001b[0m\u001b[0;34m)\u001b[0m\u001b[0;34m\u001b[0m\u001b[0;34m\u001b[0m\u001b[0m\n\u001b[1;32m   6114\u001b[0m \u001b[0;34m\u001b[0m\u001b[0m\n\u001b[0;32m-> 6115\u001b[0;31m         \u001b[0mself\u001b[0m\u001b[0;34m.\u001b[0m\u001b[0m_raise_if_missing\u001b[0m\u001b[0;34m(\u001b[0m\u001b[0mkeyarr\u001b[0m\u001b[0;34m,\u001b[0m \u001b[0mindexer\u001b[0m\u001b[0;34m,\u001b[0m \u001b[0maxis_name\u001b[0m\u001b[0;34m)\u001b[0m\u001b[0;34m\u001b[0m\u001b[0;34m\u001b[0m\u001b[0m\n\u001b[0m\u001b[1;32m   6116\u001b[0m \u001b[0;34m\u001b[0m\u001b[0m\n\u001b[1;32m   6117\u001b[0m         \u001b[0mkeyarr\u001b[0m \u001b[0;34m=\u001b[0m \u001b[0mself\u001b[0m\u001b[0;34m.\u001b[0m\u001b[0mtake\u001b[0m\u001b[0;34m(\u001b[0m\u001b[0mindexer\u001b[0m\u001b[0;34m)\u001b[0m\u001b[0;34m\u001b[0m\u001b[0;34m\u001b[0m\u001b[0m\n",
            "\u001b[0;32m/usr/local/lib/python3.10/dist-packages/pandas/core/indexes/base.py\u001b[0m in \u001b[0;36m_raise_if_missing\u001b[0;34m(self, key, indexer, axis_name)\u001b[0m\n\u001b[1;32m   6174\u001b[0m                 \u001b[0;32mif\u001b[0m \u001b[0muse_interval_msg\u001b[0m\u001b[0;34m:\u001b[0m\u001b[0;34m\u001b[0m\u001b[0;34m\u001b[0m\u001b[0m\n\u001b[1;32m   6175\u001b[0m                     \u001b[0mkey\u001b[0m \u001b[0;34m=\u001b[0m \u001b[0mlist\u001b[0m\u001b[0;34m(\u001b[0m\u001b[0mkey\u001b[0m\u001b[0;34m)\u001b[0m\u001b[0;34m\u001b[0m\u001b[0;34m\u001b[0m\u001b[0m\n\u001b[0;32m-> 6176\u001b[0;31m                 \u001b[0;32mraise\u001b[0m \u001b[0mKeyError\u001b[0m\u001b[0;34m(\u001b[0m\u001b[0;34mf\"None of [{key}] are in the [{axis_name}]\"\u001b[0m\u001b[0;34m)\u001b[0m\u001b[0;34m\u001b[0m\u001b[0;34m\u001b[0m\u001b[0m\n\u001b[0m\u001b[1;32m   6177\u001b[0m \u001b[0;34m\u001b[0m\u001b[0m\n\u001b[1;32m   6178\u001b[0m             \u001b[0mnot_found\u001b[0m \u001b[0;34m=\u001b[0m \u001b[0mlist\u001b[0m\u001b[0;34m(\u001b[0m\u001b[0mensure_index\u001b[0m\u001b[0;34m(\u001b[0m\u001b[0mkey\u001b[0m\u001b[0;34m)\u001b[0m\u001b[0;34m[\u001b[0m\u001b[0mmissing_mask\u001b[0m\u001b[0;34m.\u001b[0m\u001b[0mnonzero\u001b[0m\u001b[0;34m(\u001b[0m\u001b[0;34m)\u001b[0m\u001b[0;34m[\u001b[0m\u001b[0;36m0\u001b[0m\u001b[0;34m]\u001b[0m\u001b[0;34m]\u001b[0m\u001b[0;34m.\u001b[0m\u001b[0munique\u001b[0m\u001b[0;34m(\u001b[0m\u001b[0;34m)\u001b[0m\u001b[0;34m)\u001b[0m\u001b[0;34m\u001b[0m\u001b[0;34m\u001b[0m\u001b[0m\n",
            "\u001b[0;31mKeyError\u001b[0m: \"None of [Index(['ActualFeature1', 'ActualFeature2', 'ActualFeature3'], dtype='object')] are in the [columns]\""
          ]
        }
      ]
    },
    {
      "cell_type": "code",
      "source": [
        "import pandas as pd\n",
        "import zipfile\n",
        "from sklearn.model_selection import train_test_split\n",
        "from sklearn.linear_model import LinearRegression\n",
        "from sklearn.metrics import mean_squared_error, r2_score\n",
        "from sklearn.preprocessing import OneHotEncoder\n",
        "from sklearn.compose import ColumnTransformer\n",
        "from sklearn.pipeline import Pipeline\n",
        "\n",
        "# Define the path to the zip file\n",
        "zip_file_path = '/content/global-electric-vehicle-dataset-2023.zip'\n",
        "\n",
        "# Extract the CSV file from the zip archive\n",
        "with zipfile.ZipFile(zip_file_path, 'r') as z:\n",
        "    file_list = z.namelist()\n",
        "    print(\"Files in the zip archive:\", file_list)\n",
        "\n",
        "    csv_filename = file_list[0]\n",
        "    with z.open(csv_filename) as csvfile:\n",
        "        df = pd.read_csv(csvfile)\n",
        "\n",
        "# Print the column names to identify correct feature and target columns\n",
        "print(\"Columns in the dataset:\")\n",
        "print(df.columns)\n",
        "\n",
        "# Define features and target\n",
        "feature_columns = ['region', 'category', 'parameter', 'mode', 'powertrain', 'year']\n",
        "target_column = 'value'\n",
        "\n",
        "# Define features and target\n",
        "try:\n",
        "    features = df[feature_columns]\n",
        "    target = df[target_column]\n",
        "except KeyError as e:\n",
        "    print(f\"Error: {e}\")\n",
        "    print(\"Available columns:\", df.columns)\n",
        "    raise\n",
        "\n",
        "# Check for missing values\n",
        "print(\"\\nMissing values in features:\")\n",
        "print(features.isnull().sum())\n",
        "print(\"\\nMissing values in target:\")\n",
        "print(target.isnull().sum())\n",
        "\n",
        "# Handle missing values (example: fill with mean or drop rows)\n",
        "features.fillna(method='ffill', inplace=True)\n",
        "target.fillna(target.mean(), inplace=True)\n",
        "\n",
        "# Convert categorical features to numerical format\n",
        "preprocessor = ColumnTransformer(\n",
        "    transformers=[\n",
        "        ('cat', OneHotEncoder(), ['region', 'category', 'parameter', 'mode', 'powertrain'])\n",
        "    ],\n",
        "    remainder='passthrough'\n",
        ")\n",
        "\n",
        "# Create a pipeline with preprocessing and model\n",
        "pipeline = Pipeline(steps=[\n",
        "    ('preprocessor', preprocessor),\n",
        "    ('model', LinearRegression())\n",
        "])\n",
        "\n",
        "# Split the data into training and testing sets\n",
        "X_train, X_test, y_train, y_test = train_test_split(features, target, test_size=0.2, random_state=42)\n",
        "\n",
        "# Train the model\n",
        "pipeline.fit(X_train, y_train)\n",
        "\n",
        "# Make predictions\n",
        "y_pred = pipeline.predict(X_test)\n",
        "\n",
        "# Evaluate the model\n",
        "mse = mean_squared_error(y_test, y_pred)\n",
        "r2 = r2_score(y_test, y_pred)\n",
        "\n",
        "print(f'\\nMean Squared Error: {mse}')\n",
        "print(f'R^2 Score: {r2}')\n"
      ],
      "metadata": {
        "colab": {
          "base_uri": "https://localhost:8080/"
        },
        "id": "4i4KX7DJNpaN",
        "outputId": "f228ee38-b2f4-4979-ee8a-90a47e67ba25"
      },
      "execution_count": null,
      "outputs": [
        {
          "output_type": "stream",
          "name": "stdout",
          "text": [
            "Files in the zip archive: ['Global EV 2023.csv']\n",
            "Columns in the dataset:\n",
            "Index(['region', 'category', 'parameter', 'mode', 'powertrain', 'year', 'unit',\n",
            "       'value'],\n",
            "      dtype='object')\n",
            "\n",
            "Missing values in features:\n",
            "region        0\n",
            "category      0\n",
            "parameter     0\n",
            "mode          0\n",
            "powertrain    0\n",
            "year          0\n",
            "dtype: int64\n",
            "\n",
            "Missing values in target:\n",
            "0\n",
            "\n",
            "Mean Squared Error: 20507644467560.03\n",
            "R^2 Score: 0.04709990469678138\n"
          ]
        },
        {
          "output_type": "stream",
          "name": "stderr",
          "text": [
            "<ipython-input-43-9cf1b53a72b4>:46: FutureWarning: DataFrame.fillna with 'method' is deprecated and will raise in a future version. Use obj.ffill() or obj.bfill() instead.\n",
            "  features.fillna(method='ffill', inplace=True)\n",
            "<ipython-input-43-9cf1b53a72b4>:46: SettingWithCopyWarning: \n",
            "A value is trying to be set on a copy of a slice from a DataFrame\n",
            "\n",
            "See the caveats in the documentation: https://pandas.pydata.org/pandas-docs/stable/user_guide/indexing.html#returning-a-view-versus-a-copy\n",
            "  features.fillna(method='ffill', inplace=True)\n"
          ]
        }
      ]
    },
    {
      "cell_type": "code",
      "source": [],
      "metadata": {
        "id": "fp8XWwVHNp5G"
      },
      "execution_count": null,
      "outputs": []
    },
    {
      "cell_type": "code",
      "source": [
        "import pandas as pd\n",
        "import zipfile\n",
        "from sklearn.model_selection import train_test_split\n",
        "from sklearn.linear_model import LinearRegression\n",
        "from sklearn.metrics import mean_squared_error, r2_score\n",
        "from sklearn.preprocessing import OneHotEncoder\n",
        "from sklearn.compose import ColumnTransformer\n",
        "from sklearn.pipeline import Pipeline\n",
        "\n",
        "# Define the path to the zip file\n",
        "zip_file_path = '/content/global-electric-vehicle-dataset-2023.zip'\n",
        "\n",
        "# Extract the CSV file from the zip archive\n",
        "with zipfile.ZipFile(zip_file_path, 'r') as z:\n",
        "    file_list = z.namelist()\n",
        "    print(\"Files in the zip archive:\", file_list)\n",
        "\n",
        "    csv_filename = file_list[0]\n",
        "    with z.open(csv_filename) as csvfile:\n",
        "        df = pd.read_csv(csvfile)\n",
        "\n",
        "# Print the column names to identify correct feature and target columns\n",
        "print(\"Columns in the dataset:\")\n",
        "print(df.columns)\n",
        "\n",
        "# Define features and target\n",
        "feature_columns = ['region', 'category', 'parameter', 'mode', 'powertrain', 'year']\n",
        "target_column = 'value'\n",
        "\n",
        "# Define features and target\n",
        "try:\n",
        "    features = df[feature_columns]\n",
        "    target = df[target_column]\n",
        "except KeyError as e:\n",
        "    print(f\"Error: {e}\")\n",
        "    print(\"Available columns:\", df.columns)\n",
        "    raise\n",
        "\n",
        "# Check for missing values\n",
        "print(\"\\nMissing values in features:\")\n",
        "print(features.isnull().sum())\n",
        "print(\"\\nMissing values in target:\")\n",
        "print(target.isnull().sum())\n",
        "\n",
        "# Handle missing values (example: fill with forward fill method)\n",
        "features.fillna(method='ffill', inplace=True)\n",
        "target.fillna(target.mean(), inplace=True)\n",
        "\n",
        "# Convert categorical features to numerical format\n",
        "preprocessor = ColumnTransformer(\n",
        "    transformers=[\n",
        "        ('cat', OneHotEncoder(handle_unknown='ignore'), ['region', 'category', 'parameter', 'mode', 'powertrain'])\n",
        "    ],\n",
        "    remainder='passthrough'\n",
        ")\n",
        "\n",
        "# Create a pipeline with preprocessing and model\n",
        "pipeline = Pipeline(steps=[\n",
        "    ('preprocessor', preprocessor),\n",
        "    ('model', LinearRegression())\n",
        "])\n",
        "\n",
        "# Split the data into training and testing sets\n",
        "X_train, X_test, y_train, y_test = train_test_split(features, target, test_size=0.2, random_state=42)\n",
        "\n",
        "# Train the model\n",
        "pipeline.fit(X_train, y_train)\n",
        "\n",
        "# Make predictions on test data\n",
        "y_pred = pipeline.predict(X_test)\n",
        "\n",
        "# Evaluate the model\n",
        "mse = mean_squared_error(y_test, y_pred)\n",
        "r2 = r2_score(y_test, y_pred)\n",
        "\n",
        "print(f'\\nMean Squared Error: {mse}')\n",
        "print(f'R^2 Score: {r2}')\n",
        "\n",
        "# Sample new data for prediction\n",
        "new_data = pd.DataFrame({\n",
        "    'region': ['North America', 'Europe'],\n",
        "    'category': ['SUV', 'Sedan'],\n",
        "    'parameter': ['Battery Capacity', 'Range'],\n",
        "    'mode': ['Electric', 'Hybrid'],\n",
        "    'powertrain': ['All-Wheel Drive', 'Front-Wheel Drive'],\n",
        "    'year': [2024, 2025]\n",
        "})\n",
        "\n",
        "# Make predictions\n",
        "predictions = pipeline.predict(new_data)\n",
        "\n",
        "print(\"Predictions:\")\n",
        "print(predictions)\n"
      ],
      "metadata": {
        "colab": {
          "base_uri": "https://localhost:8080/"
        },
        "id": "TVPT_vqmNqWB",
        "outputId": "4214dad5-461c-46ca-c800-23d88b026b43"
      },
      "execution_count": null,
      "outputs": [
        {
          "output_type": "stream",
          "name": "stdout",
          "text": [
            "Files in the zip archive: ['Global EV 2023.csv']\n",
            "Columns in the dataset:\n",
            "Index(['region', 'category', 'parameter', 'mode', 'powertrain', 'year', 'unit',\n",
            "       'value'],\n",
            "      dtype='object')\n",
            "\n",
            "Missing values in features:\n",
            "region        0\n",
            "category      0\n",
            "parameter     0\n",
            "mode          0\n",
            "powertrain    0\n",
            "year          0\n",
            "dtype: int64\n",
            "\n",
            "Missing values in target:\n",
            "0\n",
            "\n",
            "Mean Squared Error: 20507644467560.03\n",
            "R^2 Score: 0.04709990469678138\n",
            "Predictions:\n",
            "[492188.3296378  969957.96819985]\n"
          ]
        },
        {
          "output_type": "stream",
          "name": "stderr",
          "text": [
            "<ipython-input-45-d4980408eef2>:46: FutureWarning: DataFrame.fillna with 'method' is deprecated and will raise in a future version. Use obj.ffill() or obj.bfill() instead.\n",
            "  features.fillna(method='ffill', inplace=True)\n",
            "<ipython-input-45-d4980408eef2>:46: SettingWithCopyWarning: \n",
            "A value is trying to be set on a copy of a slice from a DataFrame\n",
            "\n",
            "See the caveats in the documentation: https://pandas.pydata.org/pandas-docs/stable/user_guide/indexing.html#returning-a-view-versus-a-copy\n",
            "  features.fillna(method='ffill', inplace=True)\n"
          ]
        }
      ]
    },
    {
      "cell_type": "code",
      "source": [
        "import pandas as pd\n",
        "import zipfile\n",
        "from sklearn.model_selection import train_test_split, GridSearchCV\n",
        "from sklearn.pipeline import Pipeline\n",
        "from sklearn.preprocessing import StandardScaler\n",
        "from sklearn.linear_model import LinearRegression\n",
        "from sklearn.metrics import mean_squared_error, r2_score\n",
        "\n",
        "# Define the path to the zip file\n",
        "zip_file_path = '/content/global-electric-vehicle-dataset-2023.zip'\n",
        "\n",
        "# Extract the CSV file from the zip archive\n",
        "with zipfile.ZipFile(zip_file_path, 'r') as z:\n",
        "    # List all files in the zip archive\n",
        "    file_list = z.namelist()\n",
        "    print(\"Files in the zip archive:\", file_list)\n",
        "\n",
        "    # Assuming the CSV file is the first file in the zip\n",
        "    csv_filename = file_list[0]\n",
        "    with z.open(csv_filename) as csvfile:\n",
        "        df = pd.read_csv(csvfile)\n",
        "\n",
        "# Explore the dataset\n",
        "print(\"First few rows of the dataset:\")\n",
        "print(df.head())\n",
        "print(\"\\nDataset Information:\")\n",
        "print(df.info())\n",
        "print(\"\\nDataset Description:\")\n",
        "print(df.describe())\n",
        "print(\"\\nColumns in the dataset:\")\n",
        "print(df.columns)\n",
        "\n",
        "# Define feature columns and target column based on the dataset\n",
        "# Replace with actual feature and target columns\n",
        "feature_columns = ['region', 'category', 'parameter', 'mode', 'powertrain', 'year']\n",
        "target_column = 'value'\n",
        "\n",
        "# Define features and target\n",
        "try:\n",
        "    features = df[feature_columns]\n",
        "    target = df[target_column]\n",
        "except KeyError as e:\n",
        "    print(f\"Error: {e}\")\n",
        "    print(\"Available columns:\", df.columns)\n",
        "    raise\n",
        "\n",
        "# Check for missing values\n",
        "print(\"\\nMissing values in features:\")\n",
        "print(features.isnull().sum())\n",
        "print(\"\\nMissing values in target:\")\n",
        "print(target.isnull().sum())\n",
        "\n",
        "# Handle missing value\n"
      ],
      "metadata": {
        "colab": {
          "base_uri": "https://localhost:8080/"
        },
        "id": "GcoXXPWQOYzb",
        "outputId": "11378e33-4fcd-44f6-aea5-08116c512a2e"
      },
      "execution_count": null,
      "outputs": [
        {
          "output_type": "stream",
          "name": "stdout",
          "text": [
            "Files in the zip archive: ['Global EV 2023.csv']\n",
            "First few rows of the dataset:\n",
            "      region    category       parameter  mode powertrain  year      unit  \\\n",
            "0  Australia  Historical        EV stock  Cars        BEV  2011  Vehicles   \n",
            "1  Australia  Historical  EV sales share  Cars         EV  2011   percent   \n",
            "2  Australia  Historical  EV stock share  Cars         EV  2011   percent   \n",
            "3  Australia  Historical        EV sales  Cars        BEV  2011  Vehicles   \n",
            "4  Australia  Historical        EV sales  Cars        BEV  2012  Vehicles   \n",
            "\n",
            "       value  \n",
            "0   49.00000  \n",
            "1    0.00650  \n",
            "2    0.00046  \n",
            "3   49.00000  \n",
            "4  170.00000  \n",
            "\n",
            "Dataset Information:\n",
            "<class 'pandas.core.frame.DataFrame'>\n",
            "RangeIndex: 9542 entries, 0 to 9541\n",
            "Data columns (total 8 columns):\n",
            " #   Column      Non-Null Count  Dtype  \n",
            "---  ------      --------------  -----  \n",
            " 0   region      9542 non-null   object \n",
            " 1   category    9542 non-null   object \n",
            " 2   parameter   9542 non-null   object \n",
            " 3   mode        9542 non-null   object \n",
            " 4   powertrain  9542 non-null   object \n",
            " 5   year        9542 non-null   int64  \n",
            " 6   unit        9542 non-null   object \n",
            " 7   value       9542 non-null   float64\n",
            "dtypes: float64(1), int64(1), object(6)\n",
            "memory usage: 596.5+ KB\n",
            "None\n",
            "\n",
            "Dataset Description:\n",
            "              year         value\n",
            "count  9542.000000  9.542000e+03\n",
            "mean   2018.359883  2.331378e+05\n",
            "std       4.590404  3.349828e+06\n",
            "min    2010.000000  1.100000e-06\n",
            "25%    2015.000000  7.600000e-01\n",
            "50%    2019.000000  6.600000e+01\n",
            "75%    2021.000000  3.800000e+03\n",
            "max    2030.000000  1.800000e+08\n",
            "\n",
            "Columns in the dataset:\n",
            "Index(['region', 'category', 'parameter', 'mode', 'powertrain', 'year', 'unit',\n",
            "       'value'],\n",
            "      dtype='object')\n",
            "\n",
            "Missing values in features:\n",
            "region        0\n",
            "category      0\n",
            "parameter     0\n",
            "mode          0\n",
            "powertrain    0\n",
            "year          0\n",
            "dtype: int64\n",
            "\n",
            "Missing values in target:\n",
            "0\n"
          ]
        }
      ]
    },
    {
      "cell_type": "code",
      "source": [
        "from sklearn.pipeline import Pipeline\n",
        "from sklearn.compose import ColumnTransformer\n",
        "from sklearn.preprocessing import StandardScaler, OneHotEncoder\n",
        "from sklearn.linear_model import LinearRegression\n",
        "\n",
        "# Define preprocessing for numeric and categorical features\n",
        "preprocessor = ColumnTransformer(\n",
        "    transformers=[\n",
        "        ('num', StandardScaler(), ['year']),  # Example numeric features\n",
        "        ('cat', OneHotEncoder(), ['region', 'category', 'parameter', 'mode', 'powertrain'])  # Example categorical features\n",
        "    ])\n",
        "\n",
        "# Define the full pipeline\n",
        "pipeline = Pipeline(steps=[\n",
        "    ('preprocessor', preprocessor),\n",
        "    ('model', LinearRegression())  # Example model\n",
        "])\n"
      ],
      "metadata": {
        "id": "a9uF2vE-R2eI"
      },
      "execution_count": null,
      "outputs": []
    },
    {
      "cell_type": "code",
      "source": [
        "# Assuming features and target are defined and preprocessed correctly\n",
        "pipeline.fit(X_train, y_train)\n"
      ],
      "metadata": {
        "colab": {
          "base_uri": "https://localhost:8080/",
          "height": 189
        },
        "id": "ZyPxvu9ASLcj",
        "outputId": "ecff77a7-d445-40b8-aa60-7979eec46121"
      },
      "execution_count": null,
      "outputs": [
        {
          "output_type": "execute_result",
          "data": {
            "text/plain": [
              "Pipeline(steps=[('preprocessor',\n",
              "                 ColumnTransformer(transformers=[('num', StandardScaler(),\n",
              "                                                  ['year']),\n",
              "                                                 ('cat', OneHotEncoder(),\n",
              "                                                  ['region', 'category',\n",
              "                                                   'parameter', 'mode',\n",
              "                                                   'powertrain'])])),\n",
              "                ('model', LinearRegression())])"
            ],
            "text/html": [
              "<style>#sk-container-id-1 {color: black;}#sk-container-id-1 pre{padding: 0;}#sk-container-id-1 div.sk-toggleable {background-color: white;}#sk-container-id-1 label.sk-toggleable__label {cursor: pointer;display: block;width: 100%;margin-bottom: 0;padding: 0.3em;box-sizing: border-box;text-align: center;}#sk-container-id-1 label.sk-toggleable__label-arrow:before {content: \"▸\";float: left;margin-right: 0.25em;color: #696969;}#sk-container-id-1 label.sk-toggleable__label-arrow:hover:before {color: black;}#sk-container-id-1 div.sk-estimator:hover label.sk-toggleable__label-arrow:before {color: black;}#sk-container-id-1 div.sk-toggleable__content {max-height: 0;max-width: 0;overflow: hidden;text-align: left;background-color: #f0f8ff;}#sk-container-id-1 div.sk-toggleable__content pre {margin: 0.2em;color: black;border-radius: 0.25em;background-color: #f0f8ff;}#sk-container-id-1 input.sk-toggleable__control:checked~div.sk-toggleable__content {max-height: 200px;max-width: 100%;overflow: auto;}#sk-container-id-1 input.sk-toggleable__control:checked~label.sk-toggleable__label-arrow:before {content: \"▾\";}#sk-container-id-1 div.sk-estimator input.sk-toggleable__control:checked~label.sk-toggleable__label {background-color: #d4ebff;}#sk-container-id-1 div.sk-label input.sk-toggleable__control:checked~label.sk-toggleable__label {background-color: #d4ebff;}#sk-container-id-1 input.sk-hidden--visually {border: 0;clip: rect(1px 1px 1px 1px);clip: rect(1px, 1px, 1px, 1px);height: 1px;margin: -1px;overflow: hidden;padding: 0;position: absolute;width: 1px;}#sk-container-id-1 div.sk-estimator {font-family: monospace;background-color: #f0f8ff;border: 1px dotted black;border-radius: 0.25em;box-sizing: border-box;margin-bottom: 0.5em;}#sk-container-id-1 div.sk-estimator:hover {background-color: #d4ebff;}#sk-container-id-1 div.sk-parallel-item::after {content: \"\";width: 100%;border-bottom: 1px solid gray;flex-grow: 1;}#sk-container-id-1 div.sk-label:hover label.sk-toggleable__label {background-color: #d4ebff;}#sk-container-id-1 div.sk-serial::before {content: \"\";position: absolute;border-left: 1px solid gray;box-sizing: border-box;top: 0;bottom: 0;left: 50%;z-index: 0;}#sk-container-id-1 div.sk-serial {display: flex;flex-direction: column;align-items: center;background-color: white;padding-right: 0.2em;padding-left: 0.2em;position: relative;}#sk-container-id-1 div.sk-item {position: relative;z-index: 1;}#sk-container-id-1 div.sk-parallel {display: flex;align-items: stretch;justify-content: center;background-color: white;position: relative;}#sk-container-id-1 div.sk-item::before, #sk-container-id-1 div.sk-parallel-item::before {content: \"\";position: absolute;border-left: 1px solid gray;box-sizing: border-box;top: 0;bottom: 0;left: 50%;z-index: -1;}#sk-container-id-1 div.sk-parallel-item {display: flex;flex-direction: column;z-index: 1;position: relative;background-color: white;}#sk-container-id-1 div.sk-parallel-item:first-child::after {align-self: flex-end;width: 50%;}#sk-container-id-1 div.sk-parallel-item:last-child::after {align-self: flex-start;width: 50%;}#sk-container-id-1 div.sk-parallel-item:only-child::after {width: 0;}#sk-container-id-1 div.sk-dashed-wrapped {border: 1px dashed gray;margin: 0 0.4em 0.5em 0.4em;box-sizing: border-box;padding-bottom: 0.4em;background-color: white;}#sk-container-id-1 div.sk-label label {font-family: monospace;font-weight: bold;display: inline-block;line-height: 1.2em;}#sk-container-id-1 div.sk-label-container {text-align: center;}#sk-container-id-1 div.sk-container {/* jupyter's `normalize.less` sets `[hidden] { display: none; }` but bootstrap.min.css set `[hidden] { display: none !important; }` so we also need the `!important` here to be able to override the default hidden behavior on the sphinx rendered scikit-learn.org. See: https://github.com/scikit-learn/scikit-learn/issues/21755 */display: inline-block !important;position: relative;}#sk-container-id-1 div.sk-text-repr-fallback {display: none;}</style><div id=\"sk-container-id-1\" class=\"sk-top-container\"><div class=\"sk-text-repr-fallback\"><pre>Pipeline(steps=[(&#x27;preprocessor&#x27;,\n",
              "                 ColumnTransformer(transformers=[(&#x27;num&#x27;, StandardScaler(),\n",
              "                                                  [&#x27;year&#x27;]),\n",
              "                                                 (&#x27;cat&#x27;, OneHotEncoder(),\n",
              "                                                  [&#x27;region&#x27;, &#x27;category&#x27;,\n",
              "                                                   &#x27;parameter&#x27;, &#x27;mode&#x27;,\n",
              "                                                   &#x27;powertrain&#x27;])])),\n",
              "                (&#x27;model&#x27;, LinearRegression())])</pre><b>In a Jupyter environment, please rerun this cell to show the HTML representation or trust the notebook. <br />On GitHub, the HTML representation is unable to render, please try loading this page with nbviewer.org.</b></div><div class=\"sk-container\" hidden><div class=\"sk-item sk-dashed-wrapped\"><div class=\"sk-label-container\"><div class=\"sk-label sk-toggleable\"><input class=\"sk-toggleable__control sk-hidden--visually\" id=\"sk-estimator-id-1\" type=\"checkbox\" ><label for=\"sk-estimator-id-1\" class=\"sk-toggleable__label sk-toggleable__label-arrow\">Pipeline</label><div class=\"sk-toggleable__content\"><pre>Pipeline(steps=[(&#x27;preprocessor&#x27;,\n",
              "                 ColumnTransformer(transformers=[(&#x27;num&#x27;, StandardScaler(),\n",
              "                                                  [&#x27;year&#x27;]),\n",
              "                                                 (&#x27;cat&#x27;, OneHotEncoder(),\n",
              "                                                  [&#x27;region&#x27;, &#x27;category&#x27;,\n",
              "                                                   &#x27;parameter&#x27;, &#x27;mode&#x27;,\n",
              "                                                   &#x27;powertrain&#x27;])])),\n",
              "                (&#x27;model&#x27;, LinearRegression())])</pre></div></div></div><div class=\"sk-serial\"><div class=\"sk-item sk-dashed-wrapped\"><div class=\"sk-label-container\"><div class=\"sk-label sk-toggleable\"><input class=\"sk-toggleable__control sk-hidden--visually\" id=\"sk-estimator-id-2\" type=\"checkbox\" ><label for=\"sk-estimator-id-2\" class=\"sk-toggleable__label sk-toggleable__label-arrow\">preprocessor: ColumnTransformer</label><div class=\"sk-toggleable__content\"><pre>ColumnTransformer(transformers=[(&#x27;num&#x27;, StandardScaler(), [&#x27;year&#x27;]),\n",
              "                                (&#x27;cat&#x27;, OneHotEncoder(),\n",
              "                                 [&#x27;region&#x27;, &#x27;category&#x27;, &#x27;parameter&#x27;, &#x27;mode&#x27;,\n",
              "                                  &#x27;powertrain&#x27;])])</pre></div></div></div><div class=\"sk-parallel\"><div class=\"sk-parallel-item\"><div class=\"sk-item\"><div class=\"sk-label-container\"><div class=\"sk-label sk-toggleable\"><input class=\"sk-toggleable__control sk-hidden--visually\" id=\"sk-estimator-id-3\" type=\"checkbox\" ><label for=\"sk-estimator-id-3\" class=\"sk-toggleable__label sk-toggleable__label-arrow\">num</label><div class=\"sk-toggleable__content\"><pre>[&#x27;year&#x27;]</pre></div></div></div><div class=\"sk-serial\"><div class=\"sk-item\"><div class=\"sk-estimator sk-toggleable\"><input class=\"sk-toggleable__control sk-hidden--visually\" id=\"sk-estimator-id-4\" type=\"checkbox\" ><label for=\"sk-estimator-id-4\" class=\"sk-toggleable__label sk-toggleable__label-arrow\">StandardScaler</label><div class=\"sk-toggleable__content\"><pre>StandardScaler()</pre></div></div></div></div></div></div><div class=\"sk-parallel-item\"><div class=\"sk-item\"><div class=\"sk-label-container\"><div class=\"sk-label sk-toggleable\"><input class=\"sk-toggleable__control sk-hidden--visually\" id=\"sk-estimator-id-5\" type=\"checkbox\" ><label for=\"sk-estimator-id-5\" class=\"sk-toggleable__label sk-toggleable__label-arrow\">cat</label><div class=\"sk-toggleable__content\"><pre>[&#x27;region&#x27;, &#x27;category&#x27;, &#x27;parameter&#x27;, &#x27;mode&#x27;, &#x27;powertrain&#x27;]</pre></div></div></div><div class=\"sk-serial\"><div class=\"sk-item\"><div class=\"sk-estimator sk-toggleable\"><input class=\"sk-toggleable__control sk-hidden--visually\" id=\"sk-estimator-id-6\" type=\"checkbox\" ><label for=\"sk-estimator-id-6\" class=\"sk-toggleable__label sk-toggleable__label-arrow\">OneHotEncoder</label><div class=\"sk-toggleable__content\"><pre>OneHotEncoder()</pre></div></div></div></div></div></div></div></div><div class=\"sk-item\"><div class=\"sk-estimator sk-toggleable\"><input class=\"sk-toggleable__control sk-hidden--visually\" id=\"sk-estimator-id-7\" type=\"checkbox\" ><label for=\"sk-estimator-id-7\" class=\"sk-toggleable__label sk-toggleable__label-arrow\">LinearRegression</label><div class=\"sk-toggleable__content\"><pre>LinearRegression()</pre></div></div></div></div></div></div></div>"
            ]
          },
          "metadata": {},
          "execution_count": 52
        }
      ]
    },
    {
      "cell_type": "code",
      "source": [
        "import pandas as pd\n",
        "\n",
        "# Sample new data\n",
        "new_data = pd.DataFrame({\n",
        "    'region': ['North America'],\n",
        "    'category': ['Electric Vehicle'],\n",
        "    'parameter': ['Range'],\n",
        "    'mode': ['Driving'],\n",
        "    'powertrain': ['Battery Electric'],\n",
        "    'year': [2024]\n",
        "})\n"
      ],
      "metadata": {
        "id": "kNcKuG5wSPum"
      },
      "execution_count": null,
      "outputs": []
    },
    {
      "cell_type": "code",
      "source": [
        "from sklearn.preprocessing import OneHotEncoder\n",
        "\n",
        "# Define preprocessing for numeric and categorical features\n",
        "preprocessor = ColumnTransformer(\n",
        "    transformers=[\n",
        "        ('num', StandardScaler(), ['year']),  # Example numeric features\n",
        "        ('cat', OneHotEncoder(handle_unknown='ignore'), ['region', 'category', 'parameter', 'mode', 'powertrain'])  # Handle unseen categories\n",
        "    ])\n"
      ],
      "metadata": {
        "id": "aiBLxhFHSSUb"
      },
      "execution_count": null,
      "outputs": []
    },
    {
      "cell_type": "code",
      "source": [],
      "metadata": {
        "id": "y5felUgaUNNJ"
      },
      "execution_count": null,
      "outputs": []
    },
    {
      "cell_type": "code",
      "source": [],
      "metadata": {
        "id": "w8BBi4gLUNeu"
      },
      "execution_count": null,
      "outputs": []
    },
    {
      "cell_type": "code",
      "source": [
        "import pandas as pd\n",
        "from sklearn.pipeline import Pipeline\n",
        "from sklearn.compose import ColumnTransformer\n",
        "from sklearn.preprocessing import StandardScaler, OneHotEncoder\n",
        "from sklearn.linear_model import LinearRegression\n",
        "\n",
        "# Define the preprocessing for numeric and categorical features\n",
        "preprocessor = ColumnTransformer(\n",
        "    transformers=[\n",
        "        ('num', StandardScaler(), ['year']),  # Example numeric features\n",
        "        ('cat', OneHotEncoder(handle_unknown='ignore'), ['region', 'category', 'parameter', 'mode', 'powertrain'])  # Handle unseen categories\n",
        "    ])\n",
        "\n",
        "# Define the full pipeline\n",
        "pipeline = Pipeline(steps=[\n",
        "    ('preprocessor', preprocessor),\n",
        "    ('model', LinearRegression())  # Example model\n",
        "])\n",
        "\n",
        "# Train the pipeline (make sure X_train and y_train are defined correctly)\n",
        "pipeline.fit(X_train, y_train)\n",
        "\n",
        "# Sample new data for predictions\n",
        "new_data = pd.DataFrame({\n",
        "    'region': ['North America'],\n",
        "    'category': ['Electric Vehicle'],\n",
        "    'parameter': ['Range'],\n",
        "    'mode': ['Driving'],\n",
        "    'powertrain': ['Battery Electric'],\n",
        "    'year': [2024]\n",
        "})\n",
        "\n",
        "# Make predictions with the pipeline\n",
        "predictions = pipeline.predict(new_data)\n",
        "\n",
        "print(\"Predictions for new data:\")\n",
        "print(predictions)\n"
      ],
      "metadata": {
        "colab": {
          "base_uri": "https://localhost:8080/"
        },
        "id": "X_69IntuUNuo",
        "outputId": "21994b52-4cd6-4d0d-c95b-056ac64a67a9"
      },
      "execution_count": null,
      "outputs": [
        {
          "output_type": "stream",
          "name": "stdout",
          "text": [
            "Predictions for new data:\n",
            "[492243.52008343]\n"
          ]
        }
      ]
    },
    {
      "cell_type": "code",
      "source": [
        "from sklearn.metrics import mean_squared_error, r2_score\n",
        "\n",
        "# Make predictions on the test set\n",
        "y_pred = pipeline.predict(X_test)\n",
        "\n",
        "# Evaluate the model\n",
        "mse = mean_squared_error(y_test, y_pred)\n",
        "r2 = r2_score(y_test, y_pred)\n",
        "\n",
        "print(f'\\nMean Squared Error: {mse}')\n",
        "print(f'R^2 Score: {r2}')\n"
      ],
      "metadata": {
        "colab": {
          "base_uri": "https://localhost:8080/"
        },
        "id": "kdCxGH3NUVhV",
        "outputId": "b654d7a2-88d0-4017-8536-40b65b18854e"
      },
      "execution_count": null,
      "outputs": [
        {
          "output_type": "stream",
          "name": "stdout",
          "text": [
            "\n",
            "Mean Squared Error: 20507654616323.7\n",
            "R^2 Score: 0.047099433128343304\n"
          ]
        }
      ]
    },
    {
      "cell_type": "code",
      "source": [
        "import pandas as pd\n",
        "from sklearn.pipeline import Pipeline\n",
        "from sklearn.compose import ColumnTransformer\n",
        "from sklearn.preprocessing import StandardScaler, OneHotEncoder\n",
        "from sklearn.linear_model import LinearRegression\n",
        "from sklearn.model_selection import train_test_split\n",
        "from sklearn.metrics import mean_squared_error, r2_score\n",
        "import joblib\n",
        "\n",
        "# Load and preprocess data\n",
        "# (Assuming df is already defined and preprocessed)\n",
        "\n",
        "# Define feature columns and target\n",
        "features = df[['region', 'category', 'parameter', 'mode', 'powertrain', 'year']]\n",
        "target = df['value']\n",
        "\n",
        "# Split data\n",
        "X_train, X_test, y_train, y_test = train_test_split(features, target, test_size=0.2, random_state=42)\n",
        "\n",
        "# Define preprocessing and pipeline\n",
        "preprocessor = ColumnTransformer(\n",
        "    transformers=[\n",
        "        ('num', StandardScaler(), ['year']),\n",
        "        ('cat', OneHotEncoder(handle_unknown='ignore'), ['region', 'category', 'parameter', 'mode', 'powertrain'])\n",
        "    ])\n",
        "\n",
        "pipeline = Pipeline(steps=[\n",
        "    ('preprocessor', preprocessor),\n",
        "    ('model', LinearRegression())\n",
        "])\n",
        "\n",
        "# Train the model\n",
        "pipeline.fit(X_train, y_train)\n",
        "\n",
        "# Evaluate the model\n",
        "y_pred = pipeline.predict(X_test)\n",
        "mse = mean_squared_error(y_test, y_pred)\n",
        "r2 = r2_score(y_test, y_pred)\n",
        "\n",
        "print(f'\\nMean Squared Error: {mse}')\n",
        "print(f'R^2 Score: {r2}')\n",
        "\n",
        "# Save the model\n",
        "joblib.dump(pipeline, 'model_pipeline.pkl')\n",
        "\n",
        "# Make predictions on new data\n",
        "new_data = pd.DataFrame({\n",
        "    'region': ['North America'],\n",
        "    'category': ['Electric Vehicle'],\n",
        "    'parameter': ['Range'],\n",
        "    'mode': ['Driving'],\n",
        "    'powertrain': ['Battery Electric'],\n",
        "    'year': [2024]\n",
        "})\n",
        "\n",
        "predictions = pipeline.predict(new_data)\n",
        "print(\"Predictions for new data:\")\n",
        "print(predictions)\n"
      ],
      "metadata": {
        "colab": {
          "base_uri": "https://localhost:8080/"
        },
        "id": "Td3Del93UXkU",
        "outputId": "86a0cb0f-d649-403a-d17b-9b1efcbcb340"
      },
      "execution_count": null,
      "outputs": [
        {
          "output_type": "stream",
          "name": "stdout",
          "text": [
            "\n",
            "Mean Squared Error: 20507654616323.7\n",
            "R^2 Score: 0.047099433128343304\n",
            "Predictions for new data:\n",
            "[492243.52008343]\n"
          ]
        }
      ]
    },
    {
      "cell_type": "code",
      "source": [],
      "metadata": {
        "id": "TTEbFpqbU9zY"
      },
      "execution_count": null,
      "outputs": []
    },
    {
      "cell_type": "code",
      "source": [],
      "metadata": {
        "id": "YAf_2gLqU-B4"
      },
      "execution_count": null,
      "outputs": []
    },
    {
      "cell_type": "code",
      "source": [],
      "metadata": {
        "id": "AXvekyt7U-Pn"
      },
      "execution_count": null,
      "outputs": []
    },
    {
      "cell_type": "code",
      "source": [],
      "metadata": {
        "id": "tmAhiRCQU-ku"
      },
      "execution_count": null,
      "outputs": []
    },
    {
      "cell_type": "code",
      "source": [
        "import pandas as pd\n",
        "import numpy as np\n",
        "from sklearn.model_selection import train_test_split\n",
        "from sklearn.preprocessing import StandardScaler, OneHotEncoder\n",
        "from sklearn.compose import ColumnTransformer\n",
        "from sklearn.pipeline import Pipeline\n",
        "from sklearn.impute import SimpleImputer\n",
        "from sklearn.linear_model import LinearRegression\n",
        "from sklearn.ensemble import RandomForestRegressor\n",
        "from sklearn.metrics import mean_squared_error, r2_score\n",
        "import joblib\n",
        "\n",
        "# Load the data (assuming data is already preprocessed)\n",
        "df = pd.read_csv('/content/Global EV 2023.csv')\n",
        "\n",
        "# Define feature columns and target column\n",
        "feature_columns = ['region', 'category', 'parameter', 'mode', 'powertrain', 'year']\n",
        "target_column = 'value'\n",
        "\n",
        "# Define features and target\n",
        "X = df[feature_columns]\n",
        "y = df[target_column]\n",
        "\n",
        "# Split the data into training and testing sets\n",
        "X_train, X_test, y_train, y_test = train_test_split(X, y, test_size=0.2, random_state=42)\n",
        "\n",
        "# Preprocessing for numeric and categorical features\n",
        "numeric_features = ['year']\n",
        "categorical_features = ['region', 'category', 'parameter', 'mode', 'powertrain']\n",
        "\n",
        "# Preprocessing pipelines\n",
        "numeric_transformer = Pipeline(steps=[\n",
        "    ('imputer', SimpleImputer(strategy='mean')),\n",
        "    ('scaler', StandardScaler())\n",
        "])\n",
        "\n",
        "categorical_transformer = Pipeline(steps=[\n",
        "    ('imputer', SimpleImputer(strategy='most_frequent')),\n",
        "    ('onehot', OneHotEncoder(handle_unknown='ignore'))\n",
        "])\n",
        "\n",
        "preprocessor = ColumnTransformer(\n",
        "    transformers=[\n",
        "        ('num', numeric_transformer, numeric_features),\n",
        "        ('cat', categorical_transformer, categorical_features)\n",
        "    ]\n",
        ")\n",
        "\n",
        "# Define models\n",
        "models = {\n",
        "    'Linear Regression': Pipeline(steps=[('preprocessor', preprocessor),\n",
        "                                         ('model', LinearRegression())]),\n",
        "    'Random Forest': Pipeline(steps=[('preprocessor', preprocessor),\n",
        "                                      ('model', RandomForestRegressor())])\n",
        "}\n",
        "\n",
        "# Train and evaluate models\n",
        "results = {}\n",
        "for name, model in models.items():\n",
        "    model.fit(X_train, y_train)\n",
        "    y_pred = model.predict(X_test)\n",
        "\n",
        "    mse = mean_squared_error(y_test, y_pred)\n",
        "    r2 = r2_score(y_test, y_pred)\n",
        "\n",
        "    results[name] = {'MSE': mse, 'R^2': r2}\n",
        "    print(f'{name} - MSE: {mse}, R^2: {r2}')\n",
        "\n",
        "    # Save the best model\n",
        "    if name == 'Random Forest':\n",
        "        joblib.dump(model, 'best_model.pkl')\n",
        "\n",
        "# Load the model for prediction (example)\n",
        "loaded_model = joblib.load('best_model.pkl')\n",
        "\n",
        "# Example new data\n",
        "new_data = pd.DataFrame({\n",
        "    'region': ['North America'],\n",
        "    'category': ['Electric Vehicle'],\n",
        "    'parameter': ['Range'],\n",
        "    'mode': ['Driving'],\n",
        "    'powertrain': ['Battery Electric'],\n",
        "    'year': [2024]\n",
        "})\n",
        "\n",
        "# Make predictions\n",
        "predictions = loaded_model.predict(new_data)\n",
        "\n",
        "print(\"Predictions for new data:\")\n",
        "print(predictions)\n"
      ],
      "metadata": {
        "colab": {
          "base_uri": "https://localhost:8080/"
        },
        "id": "QvaWvh7KU-wK",
        "outputId": "92183d64-3ce2-44b5-ccbb-e0d041ff8ef4"
      },
      "execution_count": null,
      "outputs": [
        {
          "output_type": "stream",
          "name": "stdout",
          "text": [
            "Linear Regression - MSE: 20507654616323.7, R^2: 0.047099433128343304\n",
            "Random Forest - MSE: 1318747380051.7314, R^2: 0.9387236059158345\n",
            "Predictions for new data:\n",
            "[41149.638779]\n"
          ]
        }
      ]
    },
    {
      "cell_type": "code",
      "source": [
        "import pandas as pd\n",
        "from sklearn.model_selection import train_test_split\n",
        "from sklearn.preprocessing import StandardScaler, OneHotEncoder\n",
        "from sklearn.compose import ColumnTransformer\n",
        "from sklearn.pipeline import Pipeline\n",
        "from sklearn.impute import SimpleImputer\n",
        "from sklearn.ensemble import RandomForestRegressor\n",
        "from sklearn.metrics import mean_squared_error, r2_score\n",
        "import joblib\n",
        "\n",
        "# Load the dataset\n",
        "df = pd.read_csv('/content/Global EV 2023.csv')\n",
        "\n",
        "# Define feature columns and target column\n",
        "feature_columns = ['region', 'category', 'parameter', 'mode', 'powertrain', 'year']\n",
        "target_column = 'value'\n",
        "\n",
        "# Define features and target\n",
        "X = df[feature_columns]\n",
        "y = df[target_column]\n",
        "\n",
        "# Split the data into training and testing sets\n",
        "X_train, X_test, y_train, y_test = train_test_split(X, y, test_size=0.2, random_state=42)\n",
        "\n",
        "# Preprocessing for numeric and categorical features\n",
        "numeric_features = ['year']\n",
        "categorical_features = ['region', 'category', 'parameter', 'mode', 'powertrain']\n",
        "\n",
        "# Preprocessing pipelines\n",
        "numeric_transformer = Pipeline(steps=[\n",
        "    ('imputer', SimpleImputer(strategy='mean')),\n",
        "    ('scaler', StandardScaler())\n",
        "])\n",
        "\n",
        "categorical_transformer = Pipeline(steps=[\n",
        "    ('imputer', SimpleImputer(strategy='most_frequent')),\n",
        "    ('onehot', OneHotEncoder(handle_unknown='ignore'))\n",
        "])\n",
        "\n",
        "preprocessor = ColumnTransformer(\n",
        "    transformers=[\n",
        "        ('num', numeric_transformer, numeric_features),\n",
        "        ('cat', categorical_transformer, categorical_features)\n",
        "    ]\n",
        ")\n",
        "\n",
        "# Define model\n",
        "model = Pipeline(steps=[('preprocessor', preprocessor),\n",
        "                         ('model', RandomForestRegressor())])\n",
        "\n",
        "# Train the model\n",
        "model.fit(X_train, y_train)\n",
        "\n",
        "# Evaluate the model\n",
        "y_pred = model.predict(X_test)\n",
        "mse = mean_squared_error(y_test, y_pred)\n",
        "r2 = r2_score(y_test, y_pred)\n",
        "\n",
        "print(f'Model Evaluation - MSE: {mse}, R^2: {r2}')\n",
        "\n",
        "# Save the model\n",
        "joblib.dump(model, 'ev_model.pkl')\n",
        "\n",
        "# Load the model for prediction (example)\n",
        "loaded_model = joblib.load('ev_model.pkl')\n",
        "\n",
        "# Predict for different categories\n",
        "categories = df['category'].unique()\n",
        "predictions = {}\n",
        "\n",
        "for category in categories:\n",
        "    # Filter data for the specific category\n",
        "    category_data = X[X['category'] == category]\n",
        "\n",
        "    # Make predictions\n",
        "    preds = loaded_model.predict(category_data)\n",
        "\n",
        "    predictions[category] = preds.mean()\n",
        "\n",
        "print(\"Predictions for different categories:\")\n",
        "for category, pred in predictions.items():\n",
        "    print(f\"Category: {category}, Predicted Value: {pred}\")\n"
      ],
      "metadata": {
        "colab": {
          "base_uri": "https://localhost:8080/"
        },
        "id": "N25DuErpVYjm",
        "outputId": "4b194994-5199-43ce-cf4c-df2701c97aab"
      },
      "execution_count": null,
      "outputs": [
        {
          "output_type": "stream",
          "name": "stdout",
          "text": [
            "Model Evaluation - MSE: 1627936611102.1653, R^2: 0.9243569414166161\n",
            "Predictions for different categories:\n",
            "Category: Historical, Predicted Value: 35375.83800945322\n",
            "Category: Projection-STEPS, Predicted Value: 935418.8523351569\n",
            "Category: Projection-APS, Predicted Value: 982596.8486781856\n"
          ]
        }
      ]
    },
    {
      "cell_type": "code",
      "source": [
        "# Print columns in the dataset\n",
        "print(\"Columns in the dataset:\")\n",
        "print(df.columns)\n"
      ],
      "metadata": {
        "colab": {
          "base_uri": "https://localhost:8080/"
        },
        "id": "3hk8Fw8GVv_Z",
        "outputId": "0bc4cd77-d838-4b00-90f5-6b0bd5fbfb7f"
      },
      "execution_count": null,
      "outputs": [
        {
          "output_type": "stream",
          "name": "stdout",
          "text": [
            "Columns in the dataset:\n",
            "Index(['region', 'category', 'parameter', 'mode', 'powertrain', 'year', 'unit',\n",
            "       'value'],\n",
            "      dtype='object')\n"
          ]
        }
      ]
    },
    {
      "cell_type": "code",
      "source": [
        "target_column = 'stations_count'  # Use the correct column name here\n"
      ],
      "metadata": {
        "id": "GeUBh4wkXODL"
      },
      "execution_count": null,
      "outputs": []
    },
    {
      "cell_type": "code",
      "source": [
        "import pandas as pd\n",
        "\n",
        "# Load the dataset\n",
        "df = pd.read_csv('/content/Global EV 2023.csv')\n",
        "\n",
        "# Print columns in the dataset\n",
        "print(\"Columns in the dataset:\")\n",
        "print(df.columns)\n"
      ],
      "metadata": {
        "colab": {
          "base_uri": "https://localhost:8080/"
        },
        "id": "x--LZMehXPIr",
        "outputId": "fa6d8be8-6c85-4d0c-b396-7b036697fe09"
      },
      "execution_count": null,
      "outputs": [
        {
          "output_type": "stream",
          "name": "stdout",
          "text": [
            "Columns in the dataset:\n",
            "Index(['region', 'category', 'parameter', 'mode', 'powertrain', 'year', 'unit',\n",
            "       'value'],\n",
            "      dtype='object')\n"
          ]
        }
      ]
    },
    {
      "cell_type": "code",
      "source": [
        "# Define features and target (adjust these based on available columns)\n",
        "feature_columns = ['year', 'region']  # Example features; adjust as needed\n",
        "target_column = 'charging_stations'  # Adjust to your actual target column\n"
      ],
      "metadata": {
        "id": "rvHY-c9MXd5q"
      },
      "execution_count": null,
      "outputs": []
    },
    {
      "cell_type": "code",
      "source": [
        "import pandas as pd\n",
        "\n",
        "# Load the dataset\n",
        "df = pd.read_csv('/content/Global EV 2023.csv')\n",
        "\n",
        "# Print columns in the dataset\n",
        "print(\"Columns in the dataset:\")\n",
        "print(df.columns)\n",
        "\n",
        "# Print the first few rows to understand the data\n",
        "print(\"\\nFirst few rows of the dataset:\")\n",
        "print(df.head())\n"
      ],
      "metadata": {
        "colab": {
          "base_uri": "https://localhost:8080/"
        },
        "id": "HUvq7JBPXfKI",
        "outputId": "c6f11a48-fa9c-44e8-cc3b-dfcac897bddc"
      },
      "execution_count": null,
      "outputs": [
        {
          "output_type": "stream",
          "name": "stdout",
          "text": [
            "Columns in the dataset:\n",
            "Index(['region', 'category', 'parameter', 'mode', 'powertrain', 'year', 'unit',\n",
            "       'value'],\n",
            "      dtype='object')\n",
            "\n",
            "First few rows of the dataset:\n",
            "      region    category       parameter  mode powertrain  year      unit  \\\n",
            "0  Australia  Historical        EV stock  Cars        BEV  2011  Vehicles   \n",
            "1  Australia  Historical  EV sales share  Cars         EV  2011   percent   \n",
            "2  Australia  Historical  EV stock share  Cars         EV  2011   percent   \n",
            "3  Australia  Historical        EV sales  Cars        BEV  2011  Vehicles   \n",
            "4  Australia  Historical        EV sales  Cars        BEV  2012  Vehicles   \n",
            "\n",
            "       value  \n",
            "0   49.00000  \n",
            "1    0.00650  \n",
            "2    0.00046  \n",
            "3   49.00000  \n",
            "4  170.00000  \n"
          ]
        }
      ]
    },
    {
      "cell_type": "code",
      "source": [
        "feature_columns = ['year', 'region']  # Example features\n",
        "target_column = 'number_of_stations'  # Adjust to your actual target column\n"
      ],
      "metadata": {
        "id": "Jnp4Myd4X8EU"
      },
      "execution_count": null,
      "outputs": []
    },
    {
      "cell_type": "code",
      "source": [
        "# Example feature and target columns; adjust based on your dataset\n",
        "feature_columns = ['year', 'region']  # Example features; adjust as needed\n",
        "target_column = 'charging_stations'  # Adjust to your actual target column\n"
      ],
      "metadata": {
        "id": "e_xpU6-HYHSs"
      },
      "execution_count": null,
      "outputs": []
    },
    {
      "cell_type": "code",
      "source": [
        "import pandas as pd\n",
        "\n",
        "# Load the dataset\n",
        "df = pd.read_csv('/content/Global EV 2023.csv')\n",
        "\n",
        "# Strip any leading/trailing spaces from column names\n",
        "df.columns = df.columns.str.strip()\n",
        "\n",
        "# Print column names\n",
        "print(\"Column names:\")\n",
        "print(df.columns)\n",
        "\n",
        "# Print first few rows\n",
        "print(\"\\nFirst few rows of the dataset:\")\n",
        "print(df.head())\n",
        "\n",
        "# Print unique values for each column\n",
        "print(\"\\nUnique values in each column:\")\n",
        "for column in df.columns:\n",
        "    print(f\"Unique values in '{column}':\")\n",
        "    print(df[column].unique())\n",
        "    print()\n",
        "\n",
        "# Print data types of each column\n",
        "print(\"\\nData types of each column:\")\n",
        "print(df.dtypes)\n",
        "\n",
        "# Print summary statistics for numeric columns\n",
        "print(\"\\nSummary statistics for numeric columns:\")\n",
        "print(df.describe())\n"
      ],
      "metadata": {
        "colab": {
          "base_uri": "https://localhost:8080/"
        },
        "id": "1XG1pkwxYqxB",
        "outputId": "d52281e1-aae2-44cd-961d-783257d13b0d"
      },
      "execution_count": null,
      "outputs": [
        {
          "output_type": "stream",
          "name": "stdout",
          "text": [
            "Column names:\n",
            "Index(['region', 'category', 'parameter', 'mode', 'powertrain', 'year', 'unit',\n",
            "       'value'],\n",
            "      dtype='object')\n",
            "\n",
            "First few rows of the dataset:\n",
            "      region    category       parameter  mode powertrain  year      unit  \\\n",
            "0  Australia  Historical        EV stock  Cars        BEV  2011  Vehicles   \n",
            "1  Australia  Historical  EV sales share  Cars         EV  2011   percent   \n",
            "2  Australia  Historical  EV stock share  Cars         EV  2011   percent   \n",
            "3  Australia  Historical        EV sales  Cars        BEV  2011  Vehicles   \n",
            "4  Australia  Historical        EV sales  Cars        BEV  2012  Vehicles   \n",
            "\n",
            "       value  \n",
            "0   49.00000  \n",
            "1    0.00650  \n",
            "2    0.00046  \n",
            "3   49.00000  \n",
            "4  170.00000  \n",
            "\n",
            "Unique values in each column:\n",
            "Unique values in 'region':\n",
            "['Australia' 'Austria' 'Belgium' 'Brazil' 'Canada' 'Chile' 'China'\n",
            " 'Denmark' 'EU27' 'Europe' 'Finland' 'France' 'Germany' 'Greece' 'Iceland'\n",
            " 'India' 'Indonesia' 'Israel' 'Italy' 'Japan' 'Korea' 'Mexico'\n",
            " 'Netherlands' 'New Zealand' 'Norway' 'Other Europe' 'Poland' 'Portugal'\n",
            " 'Rest of the world' 'South Africa' 'Spain' 'Sweden' 'Switzerland'\n",
            " 'Thailand' 'Turkiye' 'United Kingdom' 'USA' 'World']\n",
            "\n",
            "Unique values in 'category':\n",
            "['Historical' 'Projection-STEPS' 'Projection-APS']\n",
            "\n",
            "Unique values in 'parameter':\n",
            "['EV stock' 'EV sales share' 'EV stock share' 'EV sales'\n",
            " 'EV charging points' 'Electricity demand' 'Oil displacement Mbd'\n",
            " 'Oil displacement, million lge']\n",
            "\n",
            "Unique values in 'mode':\n",
            "['Cars' 'EV' 'Buses' 'Vans' 'Trucks']\n",
            "\n",
            "Unique values in 'powertrain':\n",
            "['BEV' 'EV' 'PHEV' 'Publicly available fast' 'Publicly available slow']\n",
            "\n",
            "Unique values in 'year':\n",
            "[2011 2012 2013 2014 2015 2016 2017 2018 2019 2020 2021 2022 2010 2025\n",
            " 2030]\n",
            "\n",
            "Unique values in 'unit':\n",
            "['Vehicles' 'percent' 'charging points' 'GWh' 'Milion barrels per day'\n",
            " 'Oil displacement, million lge']\n",
            "\n",
            "Unique values in 'value':\n",
            "[4.90000000e+01 6.50000013e-03 4.60000010e-04 1.70000000e+02\n",
            " 2.79999990e-03 2.99999993e-02 2.20000000e+02 8.00000000e+01\n",
            " 1.00000000e+02 1.80000000e+02 4.10000000e+02 3.40000018e-02\n",
            " 5.40000014e-03 1.90000000e+02 3.70000000e+02 1.70000009e-02\n",
            " 1.59999996e-01 7.80000000e+02 1.10000000e+03 9.50000000e+02\n",
            " 1.00000000e+03 2.10000000e+03 1.50000000e+03 2.00000003e-01\n",
            " 3.20000015e-02 7.60000000e+02 6.70000000e+02 4.30000015e-02\n",
            " 1.50000006e-01 2.20000000e+03 2.80000000e+03 7.00000000e+02\n",
            " 1.20000000e+03 3.90000000e+03 3.40000000e+03 2.59999990e-01\n",
            " 6.10000007e-02 4.00000000e+01 4.40000000e+02 6.10000000e+01\n",
            " 8.90000015e-02 4.19999987e-01 5.20000000e+03 5.70000000e+03\n",
            " 1.80000000e+03 2.90000000e+03 6.30000000e+03 8.60000000e+03\n",
            " 1.20000000e+04 1.20000005e+00 2.50000000e+02 1.70000000e+03\n",
            " 3.50000000e+02 2.00000000e+03 2.19999999e-01 1.10000002e+00\n",
            " 1.70000000e+04 1.00000000e+04 1.40000000e+04 3.40000000e+04\n",
            " 2.79999995e+00 3.89999986e-01 3.20000000e+02 4.70000000e+02\n",
            " 5.89999974e-01 5.09999990e+00 6.70000000e+04 2.10000000e+04\n",
            " 3.30000000e+04 5.90000000e+03 1.10000000e+02 8.00000000e+00\n",
            " 4.10000000e+01 6.90000000e+01 1.00000000e+00 2.19999999e-02\n",
            " 7.89999962e-03 1.30000000e-03 1.39999995e-03 3.99999991e-02\n",
            " 3.70000005e-02 8.29999983e-01 1.00000001e-01 9.90000000e+02\n",
            " 1.40000000e+02 1.20000000e+01 5.00000000e+00 1.20000000e+02\n",
            " 1.30000000e+02 1.40000000e+01 2.60000000e+02 4.30000000e+02\n",
            " 1.40000000e+03 1.89999998e+00 1.29999995e+00 1.19999997e-01\n",
            " 3.29999998e-02 5.29999994e-02 1.70000002e-01 9.80000012e-03\n",
            " 1.50000000e+00 2.09999990e+00 6.20000000e+02 6.50000000e+02\n",
            " 3.00000000e+00 1.50000000e+01 1.10000000e+01 8.20000000e+02\n",
            " 1.09999999e-01 1.39999998e+00 3.50000001e-02 5.69999993e-01\n",
            " 1.50000001e-03 1.40000001e-01 8.99999976e-01 2.80000001e-01\n",
            " 5.00000000e+03 3.30000000e+01 1.50000000e+02 2.20000000e+01\n",
            " 3.80000000e+03 9.10000000e+03 2.30000000e+03 3.79999995e-01\n",
            " 2.39999995e-01 1.90000003e-03 2.00000000e+00 6.60000026e-01\n",
            " 1.50000000e+04 5.40000000e+03 2.70000000e+02 1.80000000e+01\n",
            " 4.60000000e+02 6.80000000e+03 1.00000000e+01 1.70000005e+00\n",
            " 5.09999990e-01 2.59999990e+00 5.29999971e-01 2.09999997e-02\n",
            " 2.50000004e-02 7.50000000e-01 3.50000000e+00 1.60000002e+00\n",
            " 8.00000000e+03 3.00000000e+04 2.60000000e+03 9.30000000e+03\n",
            " 5.00000000e+02 1.60000000e+02 1.60000000e+04 3.30000000e+03\n",
            " 7.60000000e+03 4.50000000e+04 7.40000000e+02 1.30000000e+01\n",
            " 7.30000019e-01 9.50000000e+00 2.40000002e-02 8.10000002e-02\n",
            " 6.70000017e-01 2.00000000e+01 3.70000005e+00 1.60000000e+03\n",
            " 8.90000000e+03 4.40000000e+01 9.00000000e+00 3.80000000e+01\n",
            " 2.90000000e+04 7.70000000e+04 5.60000000e+03 2.00000000e+02\n",
            " 2.60000000e+01 1.30000000e+04 1.10000000e+05 4.20000000e+04\n",
            " 5.70000000e+01 9.90000000e+01 1.79999995e+00 9.39999962e+00\n",
            " 1.89999994e-02 7.00000000e+00 6.20000000e+01 4.80000000e+01\n",
            " 1.49999997e-02 9.99999978e-03 6.00000000e+00 1.09999999e-02\n",
            " 6.39999984e-03 5.20000011e-02 1.30000003e-02 4.39999998e-02\n",
            " 1.60000000e+01 4.00000019e-03 2.80000000e+02 7.90000000e+01\n",
            " 2.50000000e+01 3.30000000e+02 5.70000000e+02 4.69999993e-03\n",
            " 3.40000000e+02 8.30000000e+02 1.89999998e-01 5.90000000e+02\n",
            " 6.70000017e-02 6.00000000e+01 4.80000023e-03 4.70000000e+01\n",
            " 1.79999992e-02 5.50000000e+01 5.60000000e+02 5.20000000e+02\n",
            " 3.20000000e+01 1.30000000e+03 7.60000013e-03 2.30000004e-01\n",
            " 7.90000036e-02 4.09999996e-01 1.20000001e-02 1.29999995e-01\n",
            " 7.69999981e-01 8.39999989e-02 2.50000000e+03 8.39999970e-03\n",
            " 6.80000000e+01 7.70000000e+01 6.90000000e+02 9.10000037e-03\n",
            " 7.10000000e+03 7.20000029e-01 9.70000029e-02 2.89999992e-01\n",
            " 1.10000000e+04 2.30000000e+04 8.60000014e-01 7.50000000e+03\n",
            " 9.70000029e-03 4.00000000e+00 2.70000000e+03 2.40000000e+02\n",
            " 2.10000000e+01 3.60000000e+03 9.60000000e+03 3.40000004e-01\n",
            " 2.40000010e+00 8.89999978e-03 1.70000000e+01 4.10000000e+04\n",
            " 3.20000005e+00 4.90000010e-01 1.90000000e+04 8.80000000e+03\n",
            " 4.00000000e+02 3.70000000e+01 5.90000000e+01 3.60000000e+02\n",
            " 6.10000000e+03 4.80000000e+02 7.50000000e+01 4.30000000e+01\n",
            " 5.00000000e+01 3.20000000e+04 6.99999988e-01 7.30000000e+04\n",
            " 1.90000000e+01 1.20000000e+05 3.59999985e-02 3.00000012e-01\n",
            " 9.49999988e-01 5.20000000e+04 4.80000000e+04 1.40000004e-02\n",
            " 3.90000000e+01 2.40000000e+03 6.40000000e+02 7.90000000e+02\n",
            " 4.20000000e+01 4.10000000e+03 3.80000000e+04 9.80000000e+01\n",
            " 5.90000000e+04 9.00000000e+04 3.40000010e+00 5.00000000e-01\n",
            " 4.50000000e+00 1.80000000e+05 5.10000018e-03 4.30000015e-03\n",
            " 9.40000000e+01 7.40000000e+01 3.00000003e-03 5.49999997e-03\n",
            " 2.19999999e-03 1.80000003e-04 4.19999997e-04 4.10000002e-03\n",
            " 3.09999995e-02 2.80000000e+01 4.69999984e-02 9.10000002e-04\n",
            " 6.30000001e-03 2.90000000e+02 6.60000000e+01 2.30000000e+02\n",
            " 2.70000007e-03 1.09999999e-03 7.00000019e-05 2.30000005e-03\n",
            " 4.90000010e+00 4.50000000e+02 2.30000000e-02 3.59999994e-03\n",
            " 2.50000012e-04 2.89999996e-03 7.79999979e-03 8.90000000e+02\n",
            " 5.40000000e+02 2.30000000e+01 6.30000000e+01 9.10000000e+01\n",
            " 6.80000000e+02 2.70000000e+01 3.80000006e-03 4.40000003e-04\n",
            " 2.49999994e-03 5.09999990e-02 7.40000010e-01 4.40000000e+03\n",
            " 2.60000000e+04 8.50000000e+03 9.70000000e+02 9.80000019e-01\n",
            " 9.79999974e-02 2.70000011e-01 3.00000000e+02 2.60000001e-03\n",
            " 1.90000006e-04 4.10000011e-02 4.79999988e-04 7.20000000e+02\n",
            " 3.10000000e+03 2.70000007e-02 1.20000006e-03 2.09999993e-01\n",
            " 3.30000013e-01 1.79999997e-03 7.00000022e-03 5.30000000e+03\n",
            " 7.70000000e+03 9.90000000e+03 8.50000009e-02 2.00000009e-03\n",
            " 4.30000007e-01 1.99999995e-04 6.40000000e+03 2.20000000e+04\n",
            " 8.70000000e+03 2.50000000e+04 9.90000010e-01 1.69999999e-04\n",
            " 2.70000005e+00 3.40000005e-03 8.79999995e-03 3.50000000e+01\n",
            " 8.40000000e+02 9.80000000e+02 6.00000000e+04 7.60000000e+04\n",
            " 7.00000003e-02 7.90000021e-01 1.59999996e-04 4.09999990e+00\n",
            " 2.50000000e-01 3.70000000e+04 1.00000000e+05 4.00000000e+03\n",
            " 1.60000000e+05 2.80000000e+04 6.00000000e+02 4.20000000e+03\n",
            " 3.59999990e+00 6.50000000e+00 8.39999974e-01 4.49999988e-01\n",
            " 9.09999982e-02 6.49999976e-01 9.40000000e+02 8.50000000e+02\n",
            " 7.00000000e+03 2.50000000e+05 8.50000000e+04 1.30000000e+05\n",
            " 9.00000000e+02 2.69999990e-04 2.40000011e-03 4.69999999e-04\n",
            " 6.39999984e-04 7.10000005e-03 3.50000011e-03 5.40000000e+01\n",
            " 4.60000000e+01 7.19999969e-02 2.10000000e+02 1.99999996e-02\n",
            " 2.60000005e-02 5.50000000e+02 4.19999994e-02 8.20000023e-02\n",
            " 8.80000000e+02 1.90000000e+03 4.80000004e-02 3.10000003e-04\n",
            " 1.19999997e-04 2.40000000e+04 3.60000000e+01 1.50000005e-06\n",
            " 9.89999990e-06 2.59999997e-05 8.79999995e-02 1.10000001e-05\n",
            " 1.29999999e-05 9.69999965e-05 6.70000000e+01 7.59999990e-01\n",
            " 5.80000019e+00 7.60000024e-04 6.00000005e-03 8.99999961e-03\n",
            " 7.49999983e-03 4.80000000e+03 6.60000000e+02 9.20000000e+02\n",
            " 5.40000021e-01 6.30000010e-02 7.29999989e-02 3.29999998e-03\n",
            " 9.80000000e+03 8.50000000e+01 8.00000000e+02 5.19999994e-05\n",
            " 2.80000004e-05 2.39999994e-04 3.09999990e+00 1.30000000e-04\n",
            " 4.70000014e-05 2.90000000e+01 4.90000000e+02 9.49999988e-02\n",
            " 6.80000037e-02 3.50000000e+03 3.10000000e+04 7.50000000e+02\n",
            " 8.60000000e+02 7.30000000e+02 9.00000000e+03 8.40000000e+03\n",
            " 4.90000000e+04 2.50000000e+00 4.60000001e-02 4.00000006e-01\n",
            " 6.89999983e-02 3.80000000e+02 1.50000007e-04 5.29999998e-05\n",
            " 8.89999962e+00 7.30000000e+01 2.89999992e-02 1.59999996e-03\n",
            " 4.49999992e-04 9.30000000e+01 9.80000000e+04 9.40000000e+04\n",
            " 2.10000000e+05 1.50000000e+05 8.70000000e+04 6.10000000e+04\n",
            " 4.70000000e+04 5.50000000e+04 8.60000000e+04 7.90000000e+04\n",
            " 1.70000000e+05 4.60000000e+05 5.30000000e+04 2.60000000e+05\n",
            " 1.90000000e+05 4.30000019e+00 4.50000018e-02 6.50000002e-04\n",
            " 5.60000017e-02 2.09999993e-03 3.70000000e+03 6.39999986e-01\n",
            " 8.79999995e-01 5.69999981e+00 2.80000000e+05 4.70000000e+05\n",
            " 6.80000000e+04 9.30000000e+05 8.30000000e+04 9.90000000e+04\n",
            " 2.70000000e+05 5.40000000e+05 5.40000000e+04 1.70000000e+06\n",
            " 2.00000000e+05 8.20000000e+05 3.80000000e+05 8.60000038e+00\n",
            " 4.19999981e+00 7.09999979e-01 4.60000000e+03 6.50000000e+03\n",
            " 4.30000000e+03 3.90000008e-02 6.30000000e+02 4.00000000e+04\n",
            " 8.00000012e-01 4.50000000e+05 7.50000000e+04 8.30000000e+05\n",
            " 2.70000000e+04 2.60000000e+06 3.50000000e+04 7.70000000e+05\n",
            " 2.30000000e+05 3.00000000e+05 4.20000000e+02 3.10000000e+05\n",
            " 5.00000000e+05 6.20000000e+04 4.80000000e+05 9.20000000e+05\n",
            " 3.50000000e+06 2.20000000e+05 9.90000000e+05 6.49999976e-02\n",
            " 4.49999981e-03 2.00000000e+04 2.40000000e+05 3.60000000e+04\n",
            " 1.60000000e+06 5.50000000e+05 6.20000000e+06 2.70000000e+06\n",
            " 3.30000000e+05 5.80000000e+04 8.00000000e+04 5.30000000e+05\n",
            " 2.90000010e+00 9.59999979e-01 2.20000005e+00 6.80000000e+05\n",
            " 7.60000000e+05 1.00000000e+06 2.90000000e+05 6.70000000e+05\n",
            " 4.40000000e+06 1.10000000e+07 1.50000000e+06 3.10000000e+06\n",
            " 5.00000000e+04 9.89999962e+00 3.90000010e+00 7.80000016e-02\n",
            " 5.20000001e-03 1.80000007e-01 4.70000000e+03 3.10000000e+02\n",
            " 3.00000000e+03 9.20000000e+03 3.20000000e+03 6.90000000e+04\n",
            " 5.10000000e+05 7.90000000e+06 1.80000000e+06 1.10000000e+06\n",
            " 6.90000000e+05 1.40000000e+06 3.10000000e+07 8.20000000e+06\n",
            " 4.50000000e+01 3.10000000e+01 8.30000000e+03 2.00000000e+06\n",
            " 2.40000000e+06 3.60000000e+06 4.00000000e+06 2.40000000e+01\n",
            " 4.50000000e+03 4.90000000e+05 1.20000000e+07 1.30000000e+06\n",
            " 1.90000000e+06 7.30000000e+05 3.80000000e+06 8.10000000e+07\n",
            " 1.60000000e+07 6.50000000e+04 6.00000000e+03 1.40000000e+05\n",
            " 4.20000000e+05 1.30000000e+07 7.20000000e+05 8.60000000e+07\n",
            " 1.70000000e+07 3.70000000e-03 6.80000009e-03 5.60000002e-01\n",
            " 5.49999997e-02 5.60000000e+01 7.99999982e-02 4.39999998e-01\n",
            " 9.20000002e-02 9.00000000e+01 7.90000000e+03 3.49999994e-01\n",
            " 2.29999995e+00 6.59999996e-02 8.50000024e-01 8.10000000e+01\n",
            " 7.10000000e+02 5.10000000e+02 7.00000000e+01 6.00000024e-01\n",
            " 5.99999987e-02 3.90000000e+02 5.50000000e+03 8.30000000e+01\n",
            " 3.40000000e+01 3.10000002e-01 7.69999981e+00 9.10000026e-01\n",
            " 4.69999999e-01 8.80000000e+01 1.80000000e+04 7.80000000e+04\n",
            " 5.19999981e+00 9.20000017e-01 5.59999990e+00 6.10000014e-01\n",
            " 3.79999995e+00 8.19999981e+00 8.50000000e+00 7.80000019e+00\n",
            " 3.19999992e-03 7.40000010e-02 5.10000000e+03 6.70000000e+03\n",
            " 4.99999989e-03 5.50000012e-01 3.10000009e-03 7.30000000e+03\n",
            " 6.60000000e+03 4.40000000e+04 9.20000020e-03 9.89999995e-02\n",
            " 6.89999992e-03 6.90000000e+03 7.00000000e+04 6.80000007e-01\n",
            " 8.40000000e+04 8.89999986e-01 1.70000002e-03 3.19999993e-01\n",
            " 3.70000000e+05 5.20000000e+01 6.10000000e+05 5.30000019e+00\n",
            " 8.10000002e-01 4.60000008e-01 8.50000046e-03 1.20000000e+06\n",
            " 9.80000000e+05 9.60000000e+02 6.20000000e+03 6.40000000e+01\n",
            " 7.80000000e+03 4.30000000e+04 8.70000000e+05 8.80000000e+05\n",
            " 4.69999981e+00 8.10000000e+02 1.60000000e-05 2.49999994e-05\n",
            " 7.50000036e-05 7.30000019e+00 4.40000010e+00 3.00000000e+01\n",
            " 1.60000008e-02 4.50000007e-05 5.39999979e-04 5.69999975e-04\n",
            " 9.70000000e+03 6.80000012e-05 3.19999999e-05 8.29999975e-04\n",
            " 1.10000001e-04 3.60000013e-05 6.19999981e+00 6.59999996e-03\n",
            " 8.60000029e-03 7.40000000e-03 4.19999985e-03 8.80000000e+04\n",
            " 3.89999987e-05 4.39999998e-03 8.39999962e+00 3.80000012e-04\n",
            " 4.30000000e-05 6.69999979e-03 9.20000000e+04 9.00000036e-02\n",
            " 8.70000005e-01 7.19999988e-03 4.30000000e+05 5.00000024e-04\n",
            " 4.40000003e-05 9.49999969e-03 7.39999989e-04 9.40000027e-05\n",
            " 5.50000000e+00 7.70000000e+02 6.30000000e+05 6.19999990e-02\n",
            " 9.30000003e-03 9.70000000e+05 3.60000000e+05 7.80000000e+05\n",
            " 8.90000000e+01 8.20000000e+01 9.69999981e+00 7.40000000e+03\n",
            " 7.50000000e+05 2.50000000e+06 3.00000000e+06 4.60000000e+04\n",
            " 5.30000019e-04 7.69999996e-03 6.69999981e+00 6.20000005e-01\n",
            " 8.90000000e+04 3.40000000e+06 7.10000000e+01 4.90000000e+03\n",
            " 7.79999971e-01 6.40000000e+04 8.40000000e+06 3.30000000e+06\n",
            " 8.30000000e+06 2.80000009e-02 7.10000023e-02 5.80000000e+03\n",
            " 3.90000000e+04 8.40000000e+05 7.00000000e+06 3.70000000e+07\n",
            " 1.90000000e+07 7.60000000e+06 3.20000000e+05 5.20000000e+05\n",
            " 3.90000000e+06 3.80000000e+07 5.80000000e+01 8.60000029e-02\n",
            " 5.10000000e+01 6.10000000e+02 5.90000004e-02 3.60000014e-01\n",
            " 8.19999993e-01 6.90000010e+00 5.70000000e-02 5.79999993e-03\n",
            " 8.70000000e+01 8.80000019e+00 5.40000010e+00 6.40000010e+00\n",
            " 9.39999998e-04 9.60000000e+01 8.60000000e+01 5.80000000e+02\n",
            " 6.89999998e-01 9.30000000e+04 3.70000005e-01 9.50000000e+01\n",
            " 8.20000000e+03 8.10000000e+03 4.40000000e+05 9.10000038e+00\n",
            " 7.40000000e+04 6.20000000e+05 8.69999975e-02 4.90000006e-03\n",
            " 5.79999993e-04 9.30000022e-02 9.39999998e-01 9.40000000e+03\n",
            " 8.20000000e+04 9.50000000e+04 6.30000000e+04 6.29999995e-01\n",
            " 7.50000000e+00 8.90000000e+05 5.90000018e-05 8.20000016e-04\n",
            " 9.70000000e+01 7.50000030e-02 7.80000000e+01 7.90000010e+00\n",
            " 9.89999995e-03 4.89999987e-02 4.59999990e+00 3.29999995e+00\n",
            " 9.10000000e+02 6.30000019e+00 7.20000000e+01 9.30000007e-01\n",
            " 3.09999996e-05 3.70000016e-05 3.79999988e-02 4.99999987e-05\n",
            " 2.70000000e-05 5.70000010e-03 2.90000007e-05 3.99999999e-06\n",
            " 3.50000009e-05 8.19999987e-05 5.29999984e-03 8.39999993e-05\n",
            " 9.30000024e-05 4.80000019e+00 9.79999968e-05 9.99999975e-05\n",
            " 8.20000004e-03 6.60000020e-04 9.50000016e-04 3.19999992e-04\n",
            " 9.89999971e-04 7.20000000e+04 1.09999996e-06 1.00000005e-03\n",
            " 6.40000030e-02 9.30000000e+02 3.40000000e+05 7.30000017e-03\n",
            " 5.60000000e+05 6.60000000e+04 8.10000021e-03 9.10000000e+05\n",
            " 5.19999981e-01 8.00000038e-03 4.60000010e-03 6.50000000e+06\n",
            " 2.60000001e-04 6.50000000e+01 6.80000019e+00 7.60000000e+01\n",
            " 8.40000000e+01 9.60000046e-03 5.79999983e-02 5.90000022e-03\n",
            " 5.40000014e-02 9.39999968e-02 6.20000018e-03 5.30000000e+01\n",
            " 7.10000000e+04 6.09999988e-03 8.90000025e-04 5.00000007e-02\n",
            " 5.79999983e-01 3.00000014e-04 3.99999990e-04 7.30000029e-04\n",
            " 8.99999985e-04 9.39999986e-03 5.70000000e+04 8.10000000e+04\n",
            " 1.70000003e-05 4.90000006e-04 8.80000007e-04 9.20000000e+01\n",
            " 5.30000000e+02 8.29999968e-02 6.79999997e-04 9.60000000e+04\n",
            " 6.09999988e-04 4.79999989e-01 2.30000005e-04 5.90000000e+05\n",
            " 2.80000007e-04 9.69999994e-04 7.99999980e-04 3.89999989e-03\n",
            " 5.90000011e-04 5.10000000e+04 9.00000014e-05 8.70000003e-05\n",
            " 7.20000000e+03 9.80000012e-04 2.40000008e-05 6.39999998e-05\n",
            " 1.79999995e-06 3.30000010e-04 2.90000003e-06 7.19999981e+00\n",
            " 9.80000019e+00 5.89999991e-06 2.09999998e-04 4.29999985e-04\n",
            " 6.70000009e-05 7.60000012e-06 6.19999992e-05 8.50000011e-04\n",
            " 7.69999970e-05 8.60000000e-06 2.89999996e-04 7.09999993e-04\n",
            " 7.99999980e-05 8.69999985e-06 5.20000001e-04 4.89999984e-05\n",
            " 7.20000011e-04 3.69999994e-04 8.29999987e-03 6.09999988e-05\n",
            " 5.60000000e+04 9.59999976e-04 1.40000004e-04 9.30000019e+00\n",
            " 3.90000000e+05 7.40000000e+05 5.10000000e+06 2.00000000e+07\n",
            " 9.10000000e+06 4.10000000e+05 3.20000000e+06 3.39999999e-04\n",
            " 7.59999976e-02 8.39999993e-04 6.09999990e+00 8.69999981e+00\n",
            " 9.20000020e-05 7.69999996e-02 7.59999990e+00 6.59999990e+00\n",
            " 7.09999990e+00 9.60000038e+00 9.10000000e+04 4.00000000e+05\n",
            " 9.19999981e+00 6.40000000e+05 5.70000000e+05 8.60000000e+05\n",
            " 2.10000000e+06 8.00000000e+05 9.70000000e+04 2.90000000e+06\n",
            " 8.60000000e+06 6.80000000e+06 9.50000000e+05 6.00000000e+05\n",
            " 3.30000000e+07 5.60000000e+06 9.60000000e+05 3.40000000e+07\n",
            " 9.50000000e+03 7.69999984e-04 8.10000000e+05 6.50000000e+05\n",
            " 5.80000000e+05 4.80000000e+06 9.70000029e-01 4.60000000e+06\n",
            " 5.20000000e+06 7.30000000e+06 1.80000000e+07 7.00000000e+05\n",
            " 9.00000000e+05 4.70000000e+06 5.70000000e+07 4.30000000e+06\n",
            " 4.50000000e+06 7.90000000e+05 5.60000000e+07 3.50000000e+05\n",
            " 5.90000000e+06 1.80000000e+08 4.60000000e+07 2.80000000e+06\n",
            " 7.40000000e+06 5.00000000e+07]\n",
            "\n",
            "\n",
            "Data types of each column:\n",
            "region         object\n",
            "category       object\n",
            "parameter      object\n",
            "mode           object\n",
            "powertrain     object\n",
            "year            int64\n",
            "unit           object\n",
            "value         float64\n",
            "dtype: object\n",
            "\n",
            "Summary statistics for numeric columns:\n",
            "              year         value\n",
            "count  9542.000000  9.542000e+03\n",
            "mean   2018.359883  2.331378e+05\n",
            "std       4.590404  3.349828e+06\n",
            "min    2010.000000  1.100000e-06\n",
            "25%    2015.000000  7.600000e-01\n",
            "50%    2019.000000  6.600000e+01\n",
            "75%    2021.000000  3.800000e+03\n",
            "max    2030.000000  1.800000e+08\n"
          ]
        }
      ]
    },
    {
      "cell_type": "code",
      "source": [
        "import pandas as pd\n",
        "from sklearn.model_selection import train_test_split\n",
        "from sklearn.ensemble import RandomForestRegressor\n",
        "from sklearn.pipeline import Pipeline\n",
        "from sklearn.preprocessing import StandardScaler, OneHotEncoder\n",
        "from sklearn.compose import ColumnTransformer\n",
        "from sklearn.impute import SimpleImputer\n",
        "from sklearn.metrics import mean_squared_error, r2_score\n",
        "import joblib\n",
        "\n",
        "# Load the dataset\n",
        "df = pd.read_csv('/content/Global EV 2023.csv')\n",
        "\n",
        "# Strip any leading/trailing spaces from column names\n",
        "df.columns = df.columns.str.strip()\n",
        "\n",
        "# Define features and target\n",
        "feature_columns = ['year', 'region']  # Example features\n",
        "target_column = 'number_of_stations'  # Adjust to your actual target column\n",
        "\n",
        "# Verify columns\n",
        "for col in feature_columns + [target_column]:\n",
        "    if col not in df.columns:\n",
        "        raise KeyError(f\"Column '{col}' not found in DataFrame\")\n",
        "\n",
        "X = df[feature_columns]\n",
        "y = df[target_column]\n",
        "\n",
        "# Split the data into training and testing sets\n",
        "X_train, X_test, y_train, y_test = train_test_split(X, y, test_size=0.2, random_state=42)\n",
        "\n",
        "# Preprocessing for numeric and categorical features\n",
        "numeric_features = ['year']\n",
        "categorical_features = ['region']\n",
        "\n",
        "# Preprocessing pipelines\n",
        "numeric_transformer = Pipeline(steps=[\n",
        "    ('imputer', SimpleImputer(strategy='mean')),\n",
        "    ('scaler', StandardScaler())\n",
        "])\n",
        "\n",
        "categorical_transformer = Pipeline(steps=[\n",
        "    ('imputer', SimpleImputer(strategy='most_frequent')),\n",
        "    ('onehot', OneHotEncoder(handle_unknown='ignore'))\n",
        "])\n",
        "\n",
        "preprocessor = ColumnTransformer(\n",
        "    transformers=[\n",
        "        ('num', numeric_transformer, numeric_features),\n",
        "        ('cat', categorical_transformer, categorical_features)\n",
        "    ]\n",
        ")\n",
        "\n",
        "# Define model\n",
        "model = Pipeline(steps=[('preprocessor', preprocessor),\n",
        "                         ('regressor', RandomForestRegressor())])\n",
        "\n",
        "# Train the model\n",
        "model.fit(X_train, y_train)\n",
        "\n",
        "# Evaluate the model\n",
        "y_pred = model.predict(X_test)\n",
        "mse = mean_squared_error(y_test, y_pred)\n",
        "r2 = r2_score(y_test, y_pred)\n",
        "\n",
        "print(f'Model Evaluation - MSE: {mse}, R^2: {r2}')\n",
        "\n",
        "# Save the model\n",
        "joblib.dump(model, 'charging_infrastructure_model.pkl')\n",
        "\n",
        "# Load the model for future predictions (example)\n",
        "loaded_model = joblib.load('charging_infrastructure_model.pkl')\n",
        "\n",
        "# Make predictions for future years\n",
        "future_years = pd.DataFrame({\n",
        "    'year': np.arange(2024, 2031),  # Example future years\n",
        "    'region': ['North America']*7  # Example region\n",
        "})\n",
        "\n",
        "# Make predictions\n",
        "future_predictions = loaded_model.predict(future_years)\n",
        "\n",
        "print(\"Predictions for future charging infrastructure:\")\n",
        "for year, prediction in zip(future_years['year'], future_predictions):\n",
        "    print(f\"Year: {year}, Predicted Number of Charging Stations: {prediction:.2f}\")\n",
        "\n",
        "# Plot the predictions\n",
        "import matplotlib.pyplot as plt\n",
        "\n",
        "plt.figure(figsize=(10, 6))\n",
        "plt.plot(future_years['year'], future_predictions, marker='o', linestyle='-', color='b')\n",
        "plt.xlabel('Year')\n",
        "plt.ylabel('Predicted Number of Charging Stations')\n",
        "plt.title('Predicted Growth of Charging Infrastructure')\n",
        "plt.grid(True)\n",
        "plt.show()\n"
      ],
      "metadata": {
        "colab": {
          "base_uri": "https://localhost:8080/",
          "height": 211
        },
        "id": "DiYYu5OmZOXY",
        "outputId": "fcb6e2e2-01b3-4d50-8945-eedec758d55f"
      },
      "execution_count": null,
      "outputs": [
        {
          "output_type": "error",
          "ename": "KeyError",
          "evalue": "\"Column 'number_of_stations' not found in DataFrame\"",
          "traceback": [
            "\u001b[0;31m---------------------------------------------------------------------------\u001b[0m",
            "\u001b[0;31mKeyError\u001b[0m                                  Traceback (most recent call last)",
            "\u001b[0;32m<ipython-input-84-73a31018a326>\u001b[0m in \u001b[0;36m<cell line: 22>\u001b[0;34m()\u001b[0m\n\u001b[1;32m     22\u001b[0m \u001b[0;32mfor\u001b[0m \u001b[0mcol\u001b[0m \u001b[0;32min\u001b[0m \u001b[0mfeature_columns\u001b[0m \u001b[0;34m+\u001b[0m \u001b[0;34m[\u001b[0m\u001b[0mtarget_column\u001b[0m\u001b[0;34m]\u001b[0m\u001b[0;34m:\u001b[0m\u001b[0;34m\u001b[0m\u001b[0;34m\u001b[0m\u001b[0m\n\u001b[1;32m     23\u001b[0m     \u001b[0;32mif\u001b[0m \u001b[0mcol\u001b[0m \u001b[0;32mnot\u001b[0m \u001b[0;32min\u001b[0m \u001b[0mdf\u001b[0m\u001b[0;34m.\u001b[0m\u001b[0mcolumns\u001b[0m\u001b[0;34m:\u001b[0m\u001b[0;34m\u001b[0m\u001b[0;34m\u001b[0m\u001b[0m\n\u001b[0;32m---> 24\u001b[0;31m         \u001b[0;32mraise\u001b[0m \u001b[0mKeyError\u001b[0m\u001b[0;34m(\u001b[0m\u001b[0;34mf\"Column '{col}' not found in DataFrame\"\u001b[0m\u001b[0;34m)\u001b[0m\u001b[0;34m\u001b[0m\u001b[0;34m\u001b[0m\u001b[0m\n\u001b[0m\u001b[1;32m     25\u001b[0m \u001b[0;34m\u001b[0m\u001b[0m\n\u001b[1;32m     26\u001b[0m \u001b[0mX\u001b[0m \u001b[0;34m=\u001b[0m \u001b[0mdf\u001b[0m\u001b[0;34m[\u001b[0m\u001b[0mfeature_columns\u001b[0m\u001b[0;34m]\u001b[0m\u001b[0;34m\u001b[0m\u001b[0;34m\u001b[0m\u001b[0m\n",
            "\u001b[0;31mKeyError\u001b[0m: \"Column 'number_of_stations' not found in DataFrame\""
          ]
        }
      ]
    },
    {
      "cell_type": "code",
      "source": [],
      "metadata": {
        "id": "To5T5s5TZdKo"
      },
      "execution_count": null,
      "outputs": []
    },
    {
      "cell_type": "code",
      "source": [],
      "metadata": {
        "id": "iJdB3tkIZdHw"
      },
      "execution_count": null,
      "outputs": []
    },
    {
      "cell_type": "code",
      "source": [],
      "metadata": {
        "id": "IJ3hD8gvZdEs"
      },
      "execution_count": null,
      "outputs": []
    },
    {
      "cell_type": "markdown",
      "source": [
        "#Visualization:\n",
        "A plot will show how the predicted average values change over the years, helping to visualize trends and make informed decisions about future developments.\n",
        "\n",
        "This approach provides insights into future trends in the electric vehicle market or any other parameter you are interested in predicting based on the dataset."
      ],
      "metadata": {
        "id": "TeAGOnyXZvZx"
      }
    },
    {
      "cell_type": "code",
      "source": [],
      "metadata": {
        "id": "yx9MNtNBZuzr"
      },
      "execution_count": null,
      "outputs": []
    },
    {
      "cell_type": "code",
      "source": [
        "import pandas as pd\n",
        "from sklearn.model_selection import train_test_split\n",
        "from sklearn.ensemble import RandomForestRegressor\n",
        "from sklearn.pipeline import Pipeline\n",
        "from sklearn.preprocessing import StandardScaler, OneHotEncoder\n",
        "from sklearn.compose import ColumnTransformer\n",
        "from sklearn.impute import SimpleImputer\n",
        "from sklearn.metrics import mean_squared_error, r2_score\n",
        "import numpy as np\n",
        "import matplotlib.pyplot as plt\n",
        "import joblib\n",
        "\n",
        "# Load the dataset\n",
        "df = pd.read_csv('/content/Global EV 2023.csv')\n",
        "\n",
        "# Strip any leading/trailing spaces from column names\n",
        "df.columns = df.columns.str.strip()\n",
        "\n",
        "# Define features and target\n",
        "feature_columns = ['year', 'region', 'category']  # Example features; adjust as needed\n",
        "target_column = 'value'  # Adjust to your actual target column\n",
        "\n",
        "# Verify columns\n",
        "for col in feature_columns + [target_column]:\n",
        "    if col not in df.columns:\n",
        "        raise KeyError(f\"Column '{col}' not found in DataFrame\")\n",
        "\n",
        "# Aggregate data by year, region, and category\n",
        "df_aggregated = df.groupby(['year', 'region', 'category'])[target_column].mean().reset_index()\n",
        "\n",
        "# Define features and target\n",
        "X = df_aggregated[feature_columns]\n",
        "y = df_aggregated[target_column]\n",
        "\n",
        "# Split the data into training and testing sets\n",
        "X_train, X_test, y_train, y_test = train_test_split(X, y, test_size=0.2, random_state=42)\n",
        "\n",
        "# Preprocessing for numeric and categorical features\n",
        "numeric_features = ['year']  # Adjust as needed\n",
        "categorical_features = ['region', 'category']  # Adjust as needed\n",
        "\n",
        "# Preprocessing pipelines\n",
        "numeric_transformer = Pipeline(steps=[\n",
        "    ('imputer', SimpleImputer(strategy='mean')),\n",
        "    ('scaler', StandardScaler())\n",
        "])\n",
        "\n",
        "categorical_transformer = Pipeline(steps=[\n",
        "    ('imputer', SimpleImputer(strategy='most_frequent')),\n",
        "    ('onehot', OneHotEncoder(handle_unknown='ignore'))\n",
        "])\n",
        "\n",
        "preprocessor = ColumnTransformer(\n",
        "    transformers=[\n",
        "        ('num', numeric_transformer, numeric_features),\n",
        "        ('cat', categorical_transformer, categorical_features)\n",
        "    ]\n",
        ")\n",
        "\n",
        "# Define model\n",
        "model = Pipeline(steps=[('preprocessor', preprocessor),\n",
        "                         ('regressor', RandomForestRegressor())])\n",
        "\n",
        "# Train the model\n",
        "model.fit(X_train, y_train)\n",
        "\n",
        "# Evaluate the model\n",
        "y_pred = model.predict(X_test)\n",
        "mse = mean_squared_error(y_test, y_pred)\n",
        "r2 = r2_score(y_test, y_pred)\n",
        "\n",
        "print(f'Model Evaluation - MSE: {mse}, R^2: {r2}')\n",
        "\n",
        "# Save the model\n",
        "joblib.dump(model, 'average_value_prediction_model.pkl')\n",
        "\n",
        "# Load the model for future predictions\n",
        "loaded_model = joblib.load('average_value_prediction_model.pkl')\n",
        "\n",
        "# Make predictions for future years\n",
        "future_years = pd.DataFrame({\n",
        "    'year': np.arange(2024, 2031),  # Example future years\n",
        "    'region': ['North America']*7,  # Example region\n",
        "    'category': ['Electric Vehicle']*7  # Example category\n",
        "})\n",
        "\n",
        "# Make predictions\n",
        "future_predictions = loaded_model.predict(future_years)\n",
        "\n",
        "print(\"Predictions for future average values:\")\n",
        "for year, prediction in zip(future_years['year'], future_predictions):\n",
        "    print(f\"Year: {year}, Predicted Average Value: {prediction:.2f}\")\n",
        "\n",
        "# Plot the predictions\n",
        "plt.figure(figsize=(10, 6))\n",
        "plt.plot(future_years['year'], future_predictions, marker='o', linestyle='-', color='b')\n",
        "plt.xlabel('Year')\n",
        "plt.ylabel('Predicted Average Value')\n",
        "plt.title('Predicted Average Value for Future Years')\n",
        "plt.grid(True)\n",
        "plt.show()\n"
      ],
      "metadata": {
        "colab": {
          "base_uri": "https://localhost:8080/",
          "height": 720
        },
        "id": "hDx9qAOUZc-P",
        "outputId": "51ab74f2-9bf4-4480-aebf-30f58c569937"
      },
      "execution_count": null,
      "outputs": [
        {
          "output_type": "stream",
          "name": "stdout",
          "text": [
            "Model Evaluation - MSE: 678896011222.7899, R^2: 0.5096869223872594\n",
            "Predictions for future average values:\n",
            "Year: 2024, Predicted Average Value: 584820.41\n",
            "Year: 2025, Predicted Average Value: 584820.41\n",
            "Year: 2026, Predicted Average Value: 584820.41\n",
            "Year: 2027, Predicted Average Value: 584820.41\n",
            "Year: 2028, Predicted Average Value: 1392026.61\n",
            "Year: 2029, Predicted Average Value: 1392026.61\n",
            "Year: 2030, Predicted Average Value: 1392026.61\n"
          ]
        },
        {
          "output_type": "display_data",
          "data": {
            "text/plain": [
              "<Figure size 1000x600 with 1 Axes>"
            ],
            "image/png": "[encoded data removed]"
          },
          "metadata": {}
        }
      ]
    },
    {
      "cell_type": "code",
      "source": [
        "import pandas as pd\n",
        "from sklearn.model_selection import train_test_split\n",
        "from sklearn.ensemble import RandomForestRegressor\n",
        "from sklearn.metrics import mean_squared_error, r2_score\n",
        "from sklearn.pipeline import Pipeline\n",
        "from sklearn.preprocessing import StandardScaler, OneHotEncoder\n",
        "from sklearn.compose import ColumnTransformer\n",
        "from sklearn.impute import SimpleImputer\n",
        "import numpy as np\n",
        "import matplotlib.pyplot as plt\n",
        "import joblib\n",
        "\n",
        "# Load the dataset\n",
        "df = pd.read_csv('/content/Global EV 2023.csv')\n",
        "\n",
        "# Filter data for 'Battery Life' parameter\n",
        "df_filtered = df[df['parameter'] == 'Battery Life']\n",
        "\n",
        "# Display the first few rows to understand the structure\n",
        "print(df_filtered.head())\n",
        "\n",
        "# Define features and target\n",
        "feature_columns = ['year', 'region', 'category']  # Features that might impact battery life\n",
        "target_column = 'value'  # Battery Life or Changes in Battery Life\n",
        "\n",
        "# Verify columns\n",
        "for col in feature_columns + [target_column]:\n",
        "    if col not in df_filtered.columns:\n",
        "        raise KeyError(f\"Column '{col}' not found in DataFrame\")\n",
        "\n",
        "# Define features and target\n",
        "X = df_filtered[feature_columns]\n",
        "y = df_filtered[target_column]\n",
        "\n",
        "# Split the data into training and testing sets\n",
        "X_train, X_test, y_train, y_test = train_test_split(X, y, test_size=0.2, random_state=42)\n",
        "\n",
        "# Preprocessing for numeric and categorical features\n",
        "numeric_features = ['year']  # Adjust as needed\n",
        "categorical_features = ['region', 'category']  # Adjust as needed\n",
        "\n",
        "# Preprocessing pipelines\n",
        "numeric_transformer = Pipeline(steps=[\n",
        "    ('imputer', SimpleImputer(strategy='mean')),\n",
        "    ('scaler', StandardScaler())\n",
        "])\n",
        "\n",
        "categorical_transformer = Pipeline(steps=[\n",
        "    ('imputer', SimpleImputer(strategy='most_frequent')),\n",
        "    ('onehot', OneHotEncoder(handle_unknown='ignore'))\n",
        "])\n",
        "\n",
        "preprocessor = ColumnTransformer(\n",
        "    transformers=[\n",
        "        ('num', numeric_transformer, numeric_features),\n",
        "        ('cat', categorical_transformer, categorical_features)\n",
        "    ]\n",
        ")\n",
        "\n",
        "# Define model\n",
        "model = Pipeline(steps=[('preprocessor', preprocessor),\n",
        "                         ('regressor', RandomForestRegressor())])\n",
        "\n",
        "# Train the model\n",
        "model.fit(X_train, y_train)\n",
        "\n",
        "# Evaluate the model\n",
        "y_pred = model.predict(X_test)\n",
        "mse = mean_squared_error(y_test, y_pred)\n",
        "r2 = r2_score(y_test, y_pred)\n",
        "\n",
        "print(f'Model Evaluation - MSE: {mse}, R^2: {r2}')\n",
        "\n",
        "# Save the model\n",
        "joblib.dump(model, 'battery_life_model.pkl')\n",
        "\n",
        "# Load the model for future predictions (example)\n",
        "loaded_model = joblib.load('battery_life_model.pkl')\n",
        "\n",
        "# Make predictions for future years and regions\n",
        "future_data = pd.DataFrame({\n",
        "    'year': np.arange(2024, 2031),  # Example future years\n",
        "    'region': ['North America']*7,  # Example region\n",
        "    'category': ['Electric Vehicle']*7  # Example category\n",
        "})\n",
        "\n",
        "# Make predictions\n",
        "future_predictions = loaded_model.predict(future_data)\n",
        "\n",
        "print(\"Predictions for future battery life:\")\n",
        "for year, prediction in zip(future_data['year'], future_predictions):\n",
        "    print(f\"Year: {year}, Predicted Battery Life: {prediction:.2f}\")\n",
        "\n",
        "# Plot the predictions\n",
        "plt.figure(figsize=(10, 6))\n",
        "plt.plot(future_data['year'], future_predictions, marker='o', linestyle='-', color='b')\n",
        "plt.xlabel('Year')\n",
        "plt.ylabel('Predicted Battery Life')\n",
        "plt.title('Predicted Battery Life Over Time')\n",
        "plt.grid(True)\n",
        "plt.show()\n"
      ],
      "metadata": {
        "colab": {
          "base_uri": "https://localhost:8080/",
          "height": 443
        },
        "id": "0uQPKcPtZcwg",
        "outputId": "693aba62-3f8e-495a-df3e-e5379520e90b"
      },
      "execution_count": null,
      "outputs": [
        {
          "output_type": "stream",
          "name": "stdout",
          "text": [
            "Empty DataFrame\n",
            "Columns: [region, category, parameter, mode, powertrain, year, unit, value]\n",
            "Index: []\n"
          ]
        },
        {
          "output_type": "error",
          "ename": "ValueError",
          "evalue": "With n_samples=0, test_size=0.2 and train_size=None, the resulting train set will be empty. Adjust any of the aforementioned parameters.",
          "traceback": [
            "\u001b[0;31m---------------------------------------------------------------------------\u001b[0m",
            "\u001b[0;31mValueError\u001b[0m                                Traceback (most recent call last)",
            "\u001b[0;32m<ipython-input-86-8588073381d1>\u001b[0m in \u001b[0;36m<cell line: 36>\u001b[0;34m()\u001b[0m\n\u001b[1;32m     34\u001b[0m \u001b[0;34m\u001b[0m\u001b[0m\n\u001b[1;32m     35\u001b[0m \u001b[0;31m# Split the data into training and testing sets\u001b[0m\u001b[0;34m\u001b[0m\u001b[0;34m\u001b[0m\u001b[0m\n\u001b[0;32m---> 36\u001b[0;31m \u001b[0mX_train\u001b[0m\u001b[0;34m,\u001b[0m \u001b[0mX_test\u001b[0m\u001b[0;34m,\u001b[0m \u001b[0my_train\u001b[0m\u001b[0;34m,\u001b[0m \u001b[0my_test\u001b[0m \u001b[0;34m=\u001b[0m \u001b[0mtrain_test_split\u001b[0m\u001b[0;34m(\u001b[0m\u001b[0mX\u001b[0m\u001b[0;34m,\u001b[0m \u001b[0my\u001b[0m\u001b[0;34m,\u001b[0m \u001b[0mtest_size\u001b[0m\u001b[0;34m=\u001b[0m\u001b[0;36m0.2\u001b[0m\u001b[0;34m,\u001b[0m \u001b[0mrandom_state\u001b[0m\u001b[0;34m=\u001b[0m\u001b[0;36m42\u001b[0m\u001b[0;34m)\u001b[0m\u001b[0;34m\u001b[0m\u001b[0;34m\u001b[0m\u001b[0m\n\u001b[0m\u001b[1;32m     37\u001b[0m \u001b[0;34m\u001b[0m\u001b[0m\n\u001b[1;32m     38\u001b[0m \u001b[0;31m# Preprocessing for numeric and categorical features\u001b[0m\u001b[0;34m\u001b[0m\u001b[0;34m\u001b[0m\u001b[0m\n",
            "\u001b[0;32m/usr/local/lib/python3.10/dist-packages/sklearn/utils/_param_validation.py\u001b[0m in \u001b[0;36mwrapper\u001b[0;34m(*args, **kwargs)\u001b[0m\n\u001b[1;32m    212\u001b[0m                     )\n\u001b[1;32m    213\u001b[0m                 ):\n\u001b[0;32m--> 214\u001b[0;31m                     \u001b[0;32mreturn\u001b[0m \u001b[0mfunc\u001b[0m\u001b[0;34m(\u001b[0m\u001b[0;34m*\u001b[0m\u001b[0margs\u001b[0m\u001b[0;34m,\u001b[0m \u001b[0;34m**\u001b[0m\u001b[0mkwargs\u001b[0m\u001b[0;34m)\u001b[0m\u001b[0;34m\u001b[0m\u001b[0;34m\u001b[0m\u001b[0m\n\u001b[0m\u001b[1;32m    215\u001b[0m             \u001b[0;32mexcept\u001b[0m \u001b[0mInvalidParameterError\u001b[0m \u001b[0;32mas\u001b[0m \u001b[0me\u001b[0m\u001b[0;34m:\u001b[0m\u001b[0;34m\u001b[0m\u001b[0;34m\u001b[0m\u001b[0m\n\u001b[1;32m    216\u001b[0m                 \u001b[0;31m# When the function is just a wrapper around an estimator, we allow\u001b[0m\u001b[0;34m\u001b[0m\u001b[0;34m\u001b[0m\u001b[0m\n",
            "\u001b[0;32m/usr/local/lib/python3.10/dist-packages/sklearn/model_selection/_split.py\u001b[0m in \u001b[0;36mtrain_test_split\u001b[0;34m(test_size, train_size, random_state, shuffle, stratify, *arrays)\u001b[0m\n\u001b[1;32m   2647\u001b[0m \u001b[0;34m\u001b[0m\u001b[0m\n\u001b[1;32m   2648\u001b[0m     \u001b[0mn_samples\u001b[0m \u001b[0;34m=\u001b[0m \u001b[0m_num_samples\u001b[0m\u001b[0;34m(\u001b[0m\u001b[0marrays\u001b[0m\u001b[0;34m[\u001b[0m\u001b[0;36m0\u001b[0m\u001b[0;34m]\u001b[0m\u001b[0;34m)\u001b[0m\u001b[0;34m\u001b[0m\u001b[0;34m\u001b[0m\u001b[0m\n\u001b[0;32m-> 2649\u001b[0;31m     n_train, n_test = _validate_shuffle_split(\n\u001b[0m\u001b[1;32m   2650\u001b[0m         \u001b[0mn_samples\u001b[0m\u001b[0;34m,\u001b[0m \u001b[0mtest_size\u001b[0m\u001b[0;34m,\u001b[0m \u001b[0mtrain_size\u001b[0m\u001b[0;34m,\u001b[0m \u001b[0mdefault_test_size\u001b[0m\u001b[0;34m=\u001b[0m\u001b[0;36m0.25\u001b[0m\u001b[0;34m\u001b[0m\u001b[0;34m\u001b[0m\u001b[0m\n\u001b[1;32m   2651\u001b[0m     )\n",
            "\u001b[0;32m/usr/local/lib/python3.10/dist-packages/sklearn/model_selection/_split.py\u001b[0m in \u001b[0;36m_validate_shuffle_split\u001b[0;34m(n_samples, test_size, train_size, default_test_size)\u001b[0m\n\u001b[1;32m   2303\u001b[0m \u001b[0;34m\u001b[0m\u001b[0m\n\u001b[1;32m   2304\u001b[0m     \u001b[0;32mif\u001b[0m \u001b[0mn_train\u001b[0m \u001b[0;34m==\u001b[0m \u001b[0;36m0\u001b[0m\u001b[0;34m:\u001b[0m\u001b[0;34m\u001b[0m\u001b[0;34m\u001b[0m\u001b[0m\n\u001b[0;32m-> 2305\u001b[0;31m         raise ValueError(\n\u001b[0m\u001b[1;32m   2306\u001b[0m             \u001b[0;34m\"With n_samples={}, test_size={} and train_size={}, the \"\u001b[0m\u001b[0;34m\u001b[0m\u001b[0;34m\u001b[0m\u001b[0m\n\u001b[1;32m   2307\u001b[0m             \u001b[0;34m\"resulting train set will be empty. Adjust any of the \"\u001b[0m\u001b[0;34m\u001b[0m\u001b[0;34m\u001b[0m\u001b[0m\n",
            "\u001b[0;31mValueError\u001b[0m: With n_samples=0, test_size=0.2 and train_size=None, the resulting train set will be empty. Adjust any of the aforementioned parameters."
          ]
        }
      ]
    },
    {
      "cell_type": "code",
      "source": [
        "import os\n",
        "print(os.getcwd())\n"
      ],
      "metadata": {
        "colab": {
          "base_uri": "https://localhost:8080/"
        },
        "id": "MYCL1_Ny7d2c",
        "outputId": "91e878e9-0a53-405b-f4e2-9a0f90fceef4"
      },
      "execution_count": null,
      "outputs": [
        {
          "output_type": "stream",
          "name": "stdout",
          "text": [
            "/content\n"
          ]
        }
      ]
    },
    {
      "cell_type": "code",
      "source": [
        "from google.colab import files\n",
        "uploaded = files.upload()\n"
      ],
      "metadata": {
        "colab": {
          "base_uri": "https://localhost:8080/",
          "height": 73
        },
        "id": "ZVHGZ7u88DLz",
        "outputId": "c979d13a-81c1-4eba-d4bb-8a0a632daffa"
      },
      "execution_count": null,
      "outputs": [
        {
          "output_type": "display_data",
          "data": {
            "text/plain": [
              "<IPython.core.display.HTML object>"
            ],
            "text/html": [
              "\n",
              "     <input type=\"file\" id=\"files-444582c9-ddb9-4a50-b846-9217c26bdf67\" name=\"files[]\" multiple disabled\n",
              "        style=\"border:none\" />\n",
              "     <output id=\"result-444582c9-ddb9-4a50-b846-9217c26bdf67\">\n",
              "      Upload widget is only available when the cell has been executed in the\n",
              "      current browser session. Please rerun this cell to enable.\n",
              "      </output>\n",
              "      <script>// Copyright 2017 Google LLC\n",
              "//\n",
              "// Licensed under the Apache License, Version 2.0 (the \"License\");\n",
              "// you may not use this file except in compliance with the License.\n",
              "// You may obtain a copy of the License at\n",
              "//\n",
              "//      http://www.apache.org/licenses/LICENSE-2.0\n",
              "//\n",
              "// Unless required by applicable law or agreed to in writing, software\n",
              "// distributed under the License is distributed on an \"AS IS\" BASIS,\n",
              "// WITHOUT WARRANTIES OR CONDITIONS OF ANY KIND, either express or implied.\n",
              "// See the License for the specific language governing permissions and\n",
              "// limitations under the License.\n",
              "\n",
              "/**\n",
              " * @fileoverview Helpers for google.colab Python module.\n",
              " */\n",
              "(function(scope) {\n",
              "function span(text, styleAttributes = {}) {\n",
              "  const element = document.createElement('span');\n",
              "  element.textContent = text;\n",
              "  for (const key of Object.keys(styleAttributes)) {\n",
              "    element.style[key] = styleAttributes[key];\n",
              "  }\n",
              "  return element;\n",
              "}\n",
              "\n",
              "// Max number of bytes which will be uploaded at a time.\n",
              "const MAX_PAYLOAD_SIZE = 100 * 1024;\n",
              "\n",
              "function _uploadFiles(inputId, outputId) {\n",
              "  const steps = uploadFilesStep(inputId, outputId);\n",
              "  const outputElement = document.getElementById(outputId);\n",
              "  // Cache steps on the outputElement to make it available for the next call\n",
              "  // to uploadFilesContinue from Python.\n",
              "  outputElement.steps = steps;\n",
              "\n",
              "  return _uploadFilesContinue(outputId);\n",
              "}\n",
              "\n",
              "// This is roughly an async generator (not supported in the browser yet),\n",
              "// where there are multiple asynchronous steps and the Python side is going\n",
              "// to poll for completion of each step.\n",
              "// This uses a Promise to block the python side on completion of each step,\n",
              "// then passes the result of the previous step as the input to the next step.\n",
              "function _uploadFilesContinue(outputId) {\n",
              "  const outputElement = document.getElementById(outputId);\n",
              "  const steps = outputElement.steps;\n",
              "\n",
              "  const next = steps.next(outputElement.lastPromiseValue);\n",
              "  return Promise.resolve(next.value.promise).then((value) => {\n",
              "    // Cache the last promise value to make it available to the next\n",
              "    // step of the generator.\n",
              "    outputElement.lastPromiseValue = value;\n",
              "    return next.value.response;\n",
              "  });\n",
              "}\n",
              "\n",
              "/**\n",
              " * Generator function which is called between each async step of the upload\n",
              " * process.\n",
              " * @param {string} inputId Element ID of the input file picker element.\n",
              " * @param {string} outputId Element ID of the output display.\n",
              " * @return {!Iterable<!Object>} Iterable of next steps.\n",
              " */\n",
              "function* uploadFilesStep(inputId, outputId) {\n",
              "  const inputElement = document.getElementById(inputId);\n",
              "  inputElement.disabled = false;\n",
              "\n",
              "  const outputElement = document.getElementById(outputId);\n",
              "  outputElement.innerHTML = '';\n",
              "\n",
              "  const pickedPromise = new Promise((resolve) => {\n",
              "    inputElement.addEventListener('change', (e) => {\n",
              "      resolve(e.target.files);\n",
              "    });\n",
              "  });\n",
              "\n",
              "  const cancel = document.createElement('button');\n",
              "  inputElement.parentElement.appendChild(cancel);\n",
              "  cancel.textContent = 'Cancel upload';\n",
              "  const cancelPromise = new Promise((resolve) => {\n",
              "    cancel.onclick = () => {\n",
              "      resolve(null);\n",
              "    };\n",
              "  });\n",
              "\n",
              "  // Wait for the user to pick the files.\n",
              "  const files = yield {\n",
              "    promise: Promise.race([pickedPromise, cancelPromise]),\n",
              "    response: {\n",
              "      action: 'starting',\n",
              "    }\n",
              "  };\n",
              "\n",
              "  cancel.remove();\n",
              "\n",
              "  // Disable the input element since further picks are not allowed.\n",
              "  inputElement.disabled = true;\n",
              "\n",
              "  if (!files) {\n",
              "    return {\n",
              "      response: {\n",
              "        action: 'complete',\n",
              "      }\n",
              "    };\n",
              "  }\n",
              "\n",
              "  for (const file of files) {\n",
              "    const li = document.createElement('li');\n",
              "    li.append(span(file.name, {fontWeight: 'bold'}));\n",
              "    li.append(span(\n",
              "        `(${file.type || 'n/a'}) - ${file.size} bytes, ` +\n",
              "        `last modified: ${\n",
              "            file.lastModifiedDate ? file.lastModifiedDate.toLocaleDateString() :\n",
              "                                    'n/a'} - `));\n",
              "    const percent = span('0% done');\n",
              "    li.appendChild(percent);\n",
              "\n",
              "    outputElement.appendChild(li);\n",
              "\n",
              "    const fileDataPromise = new Promise((resolve) => {\n",
              "      const reader = new FileReader();\n",
              "      reader.onload = (e) => {\n",
              "        resolve(e.target.result);\n",
              "      };\n",
              "      reader.readAsArrayBuffer(file);\n",
              "    });\n",
              "    // Wait for the data to be ready.\n",
              "    let fileData = yield {\n",
              "      promise: fileDataPromise,\n",
              "      response: {\n",
              "        action: 'continue',\n",
              "      }\n",
              "    };\n",
              "\n",
              "    // Use a chunked sending to avoid message size limits. See b/62115660.\n",
              "    let position = 0;\n",
              "    do {\n",
              "      const length = Math.min(fileData.byteLength - position, MAX_PAYLOAD_SIZE);\n",
              "      const chunk = new Uint8Array(fileData, position, length);\n",
              "      position += length;\n",
              "\n",
              "      const base64 = btoa(String.fromCharCode.apply(null, chunk));\n",
              "      yield {\n",
              "        response: {\n",
              "          action: 'append',\n",
              "          file: file.name,\n",
              "          data: base64,\n",
              "        },\n",
              "      };\n",
              "\n",
              "      let percentDone = fileData.byteLength === 0 ?\n",
              "          100 :\n",
              "          Math.round((position / fileData.byteLength) * 100);\n",
              "      percent.textContent = `${percentDone}% done`;\n",
              "\n",
              "    } while (position < fileData.byteLength);\n",
              "  }\n",
              "\n",
              "  // All done.\n",
              "  yield {\n",
              "    response: {\n",
              "      action: 'complete',\n",
              "    }\n",
              "  };\n",
              "}\n",
              "\n",
              "scope.google = scope.google || {};\n",
              "scope.google.colab = scope.google.colab || {};\n",
              "scope.google.colab._files = {\n",
              "  _uploadFiles,\n",
              "  _uploadFilesContinue,\n",
              "};\n",
              "})(self);\n",
              "</script> "
            ]
          },
          "metadata": {}
        },
        {
          "output_type": "stream",
          "name": "stdout",
          "text": [
            "Saving kaggle (11).json to kaggle (11).json\n"
          ]
        }
      ]
    },
    {
      "cell_type": "code",
      "source": [
        "import pandas as pd\n",
        "\n",
        "# After uploading, the file will be in the current working directory\n",
        "df = pd.read_csv('Global EV 2023.csv')\n",
        "\n",
        "# Continue with the rest of the code\n"
      ],
      "metadata": {
        "colab": {
          "base_uri": "https://localhost:8080/",
          "height": 373
        },
        "id": "Ka1aHrlx8Hdi",
        "outputId": "02c927b4-2e65-490e-adf8-70e015a814aa"
      },
      "execution_count": null,
      "outputs": [
        {
          "output_type": "error",
          "ename": "FileNotFoundError",
          "evalue": "[Errno 2] No such file or directory: 'Global EV 2023.csv'",
          "traceback": [
            "\u001b[0;31m---------------------------------------------------------------------------\u001b[0m",
            "\u001b[0;31mFileNotFoundError\u001b[0m                         Traceback (most recent call last)",
            "\u001b[0;32m<ipython-input-6-ff7e4cc259bd>\u001b[0m in \u001b[0;36m<cell line: 4>\u001b[0;34m()\u001b[0m\n\u001b[1;32m      2\u001b[0m \u001b[0;34m\u001b[0m\u001b[0m\n\u001b[1;32m      3\u001b[0m \u001b[0;31m# After uploading, the file will be in the current working directory\u001b[0m\u001b[0;34m\u001b[0m\u001b[0;34m\u001b[0m\u001b[0m\n\u001b[0;32m----> 4\u001b[0;31m \u001b[0mdf\u001b[0m \u001b[0;34m=\u001b[0m \u001b[0mpd\u001b[0m\u001b[0;34m.\u001b[0m\u001b[0mread_csv\u001b[0m\u001b[0;34m(\u001b[0m\u001b[0;34m'Global EV 2023.csv'\u001b[0m\u001b[0;34m)\u001b[0m\u001b[0;34m\u001b[0m\u001b[0;34m\u001b[0m\u001b[0m\n\u001b[0m\u001b[1;32m      5\u001b[0m \u001b[0;34m\u001b[0m\u001b[0m\n\u001b[1;32m      6\u001b[0m \u001b[0;31m# Continue with the rest of the code\u001b[0m\u001b[0;34m\u001b[0m\u001b[0;34m\u001b[0m\u001b[0m\n",
            "\u001b[0;32m/usr/local/lib/python3.10/dist-packages/pandas/io/parsers/readers.py\u001b[0m in \u001b[0;36mread_csv\u001b[0;34m(filepath_or_buffer, sep, delimiter, header, names, index_col, usecols, dtype, engine, converters, true_values, false_values, skipinitialspace, skiprows, skipfooter, nrows, na_values, keep_default_na, na_filter, verbose, skip_blank_lines, parse_dates, infer_datetime_format, keep_date_col, date_parser, date_format, dayfirst, cache_dates, iterator, chunksize, compression, thousands, decimal, lineterminator, quotechar, quoting, doublequote, escapechar, comment, encoding, encoding_errors, dialect, on_bad_lines, delim_whitespace, low_memory, memory_map, float_precision, storage_options, dtype_backend)\u001b[0m\n\u001b[1;32m    946\u001b[0m     \u001b[0mkwds\u001b[0m\u001b[0;34m.\u001b[0m\u001b[0mupdate\u001b[0m\u001b[0;34m(\u001b[0m\u001b[0mkwds_defaults\u001b[0m\u001b[0;34m)\u001b[0m\u001b[0;34m\u001b[0m\u001b[0;34m\u001b[0m\u001b[0m\n\u001b[1;32m    947\u001b[0m \u001b[0;34m\u001b[0m\u001b[0m\n\u001b[0;32m--> 948\u001b[0;31m     \u001b[0;32mreturn\u001b[0m \u001b[0m_read\u001b[0m\u001b[0;34m(\u001b[0m\u001b[0mfilepath_or_buffer\u001b[0m\u001b[0;34m,\u001b[0m \u001b[0mkwds\u001b[0m\u001b[0;34m)\u001b[0m\u001b[0;34m\u001b[0m\u001b[0;34m\u001b[0m\u001b[0m\n\u001b[0m\u001b[1;32m    949\u001b[0m \u001b[0;34m\u001b[0m\u001b[0m\n\u001b[1;32m    950\u001b[0m \u001b[0;34m\u001b[0m\u001b[0m\n",
            "\u001b[0;32m/usr/local/lib/python3.10/dist-packages/pandas/io/parsers/readers.py\u001b[0m in \u001b[0;36m_read\u001b[0;34m(filepath_or_buffer, kwds)\u001b[0m\n\u001b[1;32m    609\u001b[0m \u001b[0;34m\u001b[0m\u001b[0m\n\u001b[1;32m    610\u001b[0m     \u001b[0;31m# Create the parser.\u001b[0m\u001b[0;34m\u001b[0m\u001b[0;34m\u001b[0m\u001b[0m\n\u001b[0;32m--> 611\u001b[0;31m     \u001b[0mparser\u001b[0m \u001b[0;34m=\u001b[0m \u001b[0mTextFileReader\u001b[0m\u001b[0;34m(\u001b[0m\u001b[0mfilepath_or_buffer\u001b[0m\u001b[0;34m,\u001b[0m \u001b[0;34m**\u001b[0m\u001b[0mkwds\u001b[0m\u001b[0;34m)\u001b[0m\u001b[0;34m\u001b[0m\u001b[0;34m\u001b[0m\u001b[0m\n\u001b[0m\u001b[1;32m    612\u001b[0m \u001b[0;34m\u001b[0m\u001b[0m\n\u001b[1;32m    613\u001b[0m     \u001b[0;32mif\u001b[0m \u001b[0mchunksize\u001b[0m \u001b[0;32mor\u001b[0m \u001b[0miterator\u001b[0m\u001b[0;34m:\u001b[0m\u001b[0;34m\u001b[0m\u001b[0;34m\u001b[0m\u001b[0m\n",
            "\u001b[0;32m/usr/local/lib/python3.10/dist-packages/pandas/io/parsers/readers.py\u001b[0m in \u001b[0;36m__init__\u001b[0;34m(self, f, engine, **kwds)\u001b[0m\n\u001b[1;32m   1446\u001b[0m \u001b[0;34m\u001b[0m\u001b[0m\n\u001b[1;32m   1447\u001b[0m         \u001b[0mself\u001b[0m\u001b[0;34m.\u001b[0m\u001b[0mhandles\u001b[0m\u001b[0;34m:\u001b[0m \u001b[0mIOHandles\u001b[0m \u001b[0;34m|\u001b[0m \u001b[0;32mNone\u001b[0m \u001b[0;34m=\u001b[0m \u001b[0;32mNone\u001b[0m\u001b[0;34m\u001b[0m\u001b[0;34m\u001b[0m\u001b[0m\n\u001b[0;32m-> 1448\u001b[0;31m         \u001b[0mself\u001b[0m\u001b[0;34m.\u001b[0m\u001b[0m_engine\u001b[0m \u001b[0;34m=\u001b[0m \u001b[0mself\u001b[0m\u001b[0;34m.\u001b[0m\u001b[0m_make_engine\u001b[0m\u001b[0;34m(\u001b[0m\u001b[0mf\u001b[0m\u001b[0;34m,\u001b[0m \u001b[0mself\u001b[0m\u001b[0;34m.\u001b[0m\u001b[0mengine\u001b[0m\u001b[0;34m)\u001b[0m\u001b[0;34m\u001b[0m\u001b[0;34m\u001b[0m\u001b[0m\n\u001b[0m\u001b[1;32m   1449\u001b[0m \u001b[0;34m\u001b[0m\u001b[0m\n\u001b[1;32m   1450\u001b[0m     \u001b[0;32mdef\u001b[0m \u001b[0mclose\u001b[0m\u001b[0;34m(\u001b[0m\u001b[0mself\u001b[0m\u001b[0;34m)\u001b[0m \u001b[0;34m->\u001b[0m \u001b[0;32mNone\u001b[0m\u001b[0;34m:\u001b[0m\u001b[0;34m\u001b[0m\u001b[0;34m\u001b[0m\u001b[0m\n",
            "\u001b[0;32m/usr/local/lib/python3.10/dist-packages/pandas/io/parsers/readers.py\u001b[0m in \u001b[0;36m_make_engine\u001b[0;34m(self, f, engine)\u001b[0m\n\u001b[1;32m   1703\u001b[0m                 \u001b[0;32mif\u001b[0m \u001b[0;34m\"b\"\u001b[0m \u001b[0;32mnot\u001b[0m \u001b[0;32min\u001b[0m \u001b[0mmode\u001b[0m\u001b[0;34m:\u001b[0m\u001b[0;34m\u001b[0m\u001b[0;34m\u001b[0m\u001b[0m\n\u001b[1;32m   1704\u001b[0m                     \u001b[0mmode\u001b[0m \u001b[0;34m+=\u001b[0m \u001b[0;34m\"b\"\u001b[0m\u001b[0;34m\u001b[0m\u001b[0;34m\u001b[0m\u001b[0m\n\u001b[0;32m-> 1705\u001b[0;31m             self.handles = get_handle(\n\u001b[0m\u001b[1;32m   1706\u001b[0m                 \u001b[0mf\u001b[0m\u001b[0;34m,\u001b[0m\u001b[0;34m\u001b[0m\u001b[0;34m\u001b[0m\u001b[0m\n\u001b[1;32m   1707\u001b[0m                 \u001b[0mmode\u001b[0m\u001b[0;34m,\u001b[0m\u001b[0;34m\u001b[0m\u001b[0;34m\u001b[0m\u001b[0m\n",
            "\u001b[0;32m/usr/local/lib/python3.10/dist-packages/pandas/io/common.py\u001b[0m in \u001b[0;36mget_handle\u001b[0;34m(path_or_buf, mode, encoding, compression, memory_map, is_text, errors, storage_options)\u001b[0m\n\u001b[1;32m    861\u001b[0m         \u001b[0;32mif\u001b[0m \u001b[0mioargs\u001b[0m\u001b[0;34m.\u001b[0m\u001b[0mencoding\u001b[0m \u001b[0;32mand\u001b[0m \u001b[0;34m\"b\"\u001b[0m \u001b[0;32mnot\u001b[0m \u001b[0;32min\u001b[0m \u001b[0mioargs\u001b[0m\u001b[0;34m.\u001b[0m\u001b[0mmode\u001b[0m\u001b[0;34m:\u001b[0m\u001b[0;34m\u001b[0m\u001b[0;34m\u001b[0m\u001b[0m\n\u001b[1;32m    862\u001b[0m             \u001b[0;31m# Encoding\u001b[0m\u001b[0;34m\u001b[0m\u001b[0;34m\u001b[0m\u001b[0m\n\u001b[0;32m--> 863\u001b[0;31m             handle = open(\n\u001b[0m\u001b[1;32m    864\u001b[0m                 \u001b[0mhandle\u001b[0m\u001b[0;34m,\u001b[0m\u001b[0;34m\u001b[0m\u001b[0;34m\u001b[0m\u001b[0m\n\u001b[1;32m    865\u001b[0m                 \u001b[0mioargs\u001b[0m\u001b[0;34m.\u001b[0m\u001b[0mmode\u001b[0m\u001b[0;34m,\u001b[0m\u001b[0;34m\u001b[0m\u001b[0;34m\u001b[0m\u001b[0m\n",
            "\u001b[0;31mFileNotFoundError\u001b[0m: [Errno 2] No such file or directory: 'Global EV 2023.csv'"
          ]
        }
      ]
    },
    {
      "cell_type": "code",
      "source": [
        "!kaggle datasets download -d padmapiyush/global-electric-vehicle-dataset-2023"
      ],
      "metadata": {
        "colab": {
          "base_uri": "https://localhost:8080/"
        },
        "id": "7UxLaSxI8Hbp",
        "outputId": "da6c3151-f5a3-436c-8fa4-18749e2a39ee"
      },
      "execution_count": null,
      "outputs": [
        {
          "output_type": "stream",
          "name": "stdout",
          "text": [
            "Dataset URL: https://www.kaggle.com/datasets/padmapiyush/global-electric-vehicle-dataset-2023\n",
            "License(s): MIT\n",
            "Downloading global-electric-vehicle-dataset-2023.zip to /content\n",
            "  0% 0.00/67.2k [00:00<?, ?B/s]\n",
            "100% 67.2k/67.2k [00:00<00:00, 58.2MB/s]\n"
          ]
        }
      ]
    },
    {
      "cell_type": "code",
      "source": [
        "import zipfile\n",
        "\n",
        "with zipfile.ZipFile('/content/global-electric-vehicle-dataset-2023.zip', 'r') as zip_ref:\n",
        "    zip_ref.extractall('/content/')\n",
        "    zip_ref.close()\n",
        "\n",
        "\n"
      ],
      "metadata": {
        "id": "5WopL7mM88TZ"
      },
      "execution_count": null,
      "outputs": []
    },
    {
      "cell_type": "code",
      "source": [
        "import numpy as np\n",
        "import pandas as pd"
      ],
      "metadata": {
        "id": "zBsvty3D9Dhk"
      },
      "execution_count": null,
      "outputs": []
    },
    {
      "cell_type": "code",
      "source": [
        "# Check the unique values in the 'parameter' column\n",
        "unique_parameters = df['parameter'].unique()\n",
        "print(\"Unique values in 'parameter' column:\")\n",
        "print(unique_parameters)\n"
      ],
      "metadata": {
        "colab": {
          "base_uri": "https://localhost:8080/"
        },
        "id": "scpGpEhf9De5",
        "outputId": "f363ed6d-810a-46b9-a800-b0f7ce1d85dd"
      },
      "execution_count": null,
      "outputs": [
        {
          "output_type": "stream",
          "name": "stdout",
          "text": [
            "Unique values in 'parameter' column:\n",
            "['EV stock' 'EV sales share' 'EV stock share' 'EV sales'\n",
            " 'EV charging points' 'Electricity demand' 'Oil displacement Mbd'\n",
            " 'Oil displacement, million lge']\n"
          ]
        }
      ]
    },
    {
      "cell_type": "code",
      "source": [
        "import pandas as pd\n",
        "from sklearn.model_selection import train_test_split\n",
        "from sklearn.ensemble import RandomForestRegressor\n",
        "from sklearn.metrics import mean_squared_error, r2_score\n",
        "from sklearn.pipeline import Pipeline\n",
        "from sklearn.preprocessing import StandardScaler, OneHotEncoder\n",
        "from sklearn.compose import ColumnTransformer\n",
        "from sklearn.impute import SimpleImputer\n",
        "import numpy as np\n",
        "import matplotlib.pyplot as plt\n",
        "import joblib\n",
        "\n",
        "# Check and load the dataset\n",
        "try:\n",
        "    df = pd.read_csv('Global EV 2023.csv')\n",
        "    print(\"File loaded successfully!\")\n",
        "except FileNotFoundError:\n",
        "    print(\"File not found. Please upload the file to the correct directory.\")\n",
        "    from google.colab import files\n",
        "    uploaded = files.upload()\n",
        "    df = pd.read_csv('Global EV 2023.csv')\n",
        "\n",
        "# Check the unique values in the 'parameter' column\n",
        "unique_parameters = df['parameter'].unique()\n",
        "print(\"Unique values in 'parameter' column:\")\n",
        "print(unique_parameters)\n",
        "\n",
        "# Filter data for 'Battery Life' parameter (or choose an existing parameter)\n",
        "parameter_to_predict = 'Battery Life'  # Change this if 'Battery Life' doesn't exist\n",
        "if parameter_to_predict not in unique_parameters:\n",
        "    raise ValueError(f\"Parameter '{parameter_to_predict}' not found in the dataset. Choose a different parameter.\")\n",
        "\n",
        "df_filtered = df[df['parameter'] == parameter_to_predict]\n",
        "\n",
        "# Display the first few rows to understand the structure\n",
        "print(df_filtered.head())\n",
        "\n",
        "# Define features and target\n",
        "feature_columns = ['year', 'region', 'category']  # Features that might impact battery life\n",
        "target_column = 'value'  # Battery Life or Changes in Battery Life\n",
        "\n",
        "# Verify columns\n",
        "for col in feature_columns + [target_column]:\n",
        "    if col not in df_filtered.columns:\n",
        "        raise KeyError(f\"Column '{col}' not found in DataFrame\")\n",
        "\n",
        "# Define features and target\n",
        "X = df_filtered[feature_columns]\n",
        "y = df_filtered[target_column]\n",
        "\n",
        "# Check if X and y are not empty\n",
        "if X.empty or y.empty:\n",
        "    raise ValueError(\"The filtered dataset is empty. Please choose a different parameter or check the data.\")\n",
        "\n",
        "# Split the data into training and testing sets\n",
        "X_train, X_test, y_train, y_test = train_test_split(X, y, test_size=0.2, random_state=42)\n",
        "\n",
        "# Preprocessing for numeric and categorical features\n",
        "numeric_features = ['year']  # Adjust as needed\n",
        "categorical_features = ['region', 'category']  # Adjust as needed\n",
        "\n",
        "# Preprocessing pipelines\n",
        "numeric_transformer = Pipeline(steps=[\n",
        "    ('imputer', SimpleImputer(strategy='mean')),\n",
        "    ('scaler', StandardScaler())\n",
        "])\n",
        "\n",
        "categorical_transformer = Pipeline(steps=[\n",
        "    ('imputer', SimpleImputer(strategy='most_frequent')),\n",
        "    ('onehot', OneHotEncoder(handle_unknown='ignore'))\n",
        "])\n",
        "\n",
        "preprocessor = ColumnTransformer(\n",
        "    transformers=[\n",
        "        ('num', numeric_transformer, numeric_features),\n",
        "        ('cat', categorical_transformer, categorical_features)\n",
        "    ]\n",
        ")\n",
        "\n",
        "# Define model\n",
        "model = Pipeline(steps=[('preprocessor', preprocessor),\n",
        "                         ('regressor', RandomForestRegressor())])\n",
        "\n",
        "# Train the model\n",
        "model.fit(X_train, y_train)\n",
        "\n",
        "# Evaluate the model\n",
        "y_pred = model.predict(X_test)\n",
        "mse = mean_squared_error(y_test, y_pred)\n",
        "r2 = r2_score(y_test, y_pred)\n",
        "\n",
        "print(f'Model Evaluation - MSE: {mse}, R^2: {r2}')\n",
        "\n",
        "# Save the model\n",
        "joblib.dump(model, 'battery_life_model.pkl')\n",
        "\n",
        "# Load the model for future predictions (example)\n",
        "loaded_model = joblib.load('battery_life_model.pkl')\n",
        "\n",
        "# Make predictions for future years and regions\n",
        "future_data = pd.DataFrame({\n",
        "    'year': np.arange(2024, 2031),  # Example future years\n",
        "    'region': ['North America']*7,  # Example region\n",
        "    'category': ['Electric Vehicle']*7  # Example category\n",
        "})\n",
        "\n",
        "# Make predictions\n",
        "future_predictions = loaded_model.predict(future_data)\n",
        "\n",
        "print(\"Predictions for future battery life:\")\n",
        "for year, prediction in zip(future_data['year'], future_predictions):\n",
        "    print(f\"Year: {year}, Predicted Battery Life: {prediction:.2f}\")\n",
        "\n",
        "# Plot the predictions\n",
        "plt.figure(figsize=(10, 6))\n",
        "plt.plot(future_data['year'], future_predictions, marker='o', linestyle='-', color='b')\n",
        "plt.xlabel('Year')\n",
        "plt.ylabel('Predicted Battery Life')\n",
        "plt.title('Predicted Battery Life Over Time')\n",
        "plt.grid(True)\n",
        "plt.show()\n"
      ],
      "metadata": {
        "colab": {
          "base_uri": "https://localhost:8080/",
          "height": 315
        },
        "id": "pSxt1B9O-Ccs",
        "outputId": "f8b7598d-d384-4f05-a0ad-643fc0a8142d"
      },
      "execution_count": null,
      "outputs": [
        {
          "output_type": "stream",
          "name": "stdout",
          "text": [
            "File loaded successfully!\n",
            "Unique values in 'parameter' column:\n",
            "['EV stock' 'EV sales share' 'EV stock share' 'EV sales'\n",
            " 'EV charging points' 'Electricity demand' 'Oil displacement Mbd'\n",
            " 'Oil displacement, million lge']\n"
          ]
        },
        {
          "output_type": "error",
          "ename": "ValueError",
          "evalue": "Parameter 'Battery Life' not found in the dataset. Choose a different parameter.",
          "traceback": [
            "\u001b[0;31m---------------------------------------------------------------------------\u001b[0m",
            "\u001b[0;31mValueError\u001b[0m                                Traceback (most recent call last)",
            "\u001b[0;32m<ipython-input-12-e89bebef471f>\u001b[0m in \u001b[0;36m<cell line: 30>\u001b[0;34m()\u001b[0m\n\u001b[1;32m     29\u001b[0m \u001b[0mparameter_to_predict\u001b[0m \u001b[0;34m=\u001b[0m \u001b[0;34m'Battery Life'\u001b[0m  \u001b[0;31m# Change this if 'Battery Life' doesn't exist\u001b[0m\u001b[0;34m\u001b[0m\u001b[0;34m\u001b[0m\u001b[0m\n\u001b[1;32m     30\u001b[0m \u001b[0;32mif\u001b[0m \u001b[0mparameter_to_predict\u001b[0m \u001b[0;32mnot\u001b[0m \u001b[0;32min\u001b[0m \u001b[0munique_parameters\u001b[0m\u001b[0;34m:\u001b[0m\u001b[0;34m\u001b[0m\u001b[0;34m\u001b[0m\u001b[0m\n\u001b[0;32m---> 31\u001b[0;31m     \u001b[0;32mraise\u001b[0m \u001b[0mValueError\u001b[0m\u001b[0;34m(\u001b[0m\u001b[0;34mf\"Parameter '{parameter_to_predict}' not found in the dataset. Choose a different parameter.\"\u001b[0m\u001b[0;34m)\u001b[0m\u001b[0;34m\u001b[0m\u001b[0;34m\u001b[0m\u001b[0m\n\u001b[0m\u001b[1;32m     32\u001b[0m \u001b[0;34m\u001b[0m\u001b[0m\n\u001b[1;32m     33\u001b[0m \u001b[0mdf_filtered\u001b[0m \u001b[0;34m=\u001b[0m \u001b[0mdf\u001b[0m\u001b[0;34m[\u001b[0m\u001b[0mdf\u001b[0m\u001b[0;34m[\u001b[0m\u001b[0;34m'parameter'\u001b[0m\u001b[0;34m]\u001b[0m \u001b[0;34m==\u001b[0m \u001b[0mparameter_to_predict\u001b[0m\u001b[0;34m]\u001b[0m\u001b[0;34m\u001b[0m\u001b[0;34m\u001b[0m\u001b[0m\n",
            "\u001b[0;31mValueError\u001b[0m: Parameter 'Battery Life' not found in the dataset. Choose a different parameter."
          ]
        }
      ]
    },
    {
      "cell_type": "code",
      "source": [
        "import pandas as pd\n",
        "from sklearn.model_selection import train_test_split\n",
        "from sklearn.ensemble import RandomForestRegressor\n",
        "from sklearn.metrics import mean_squared_error, r2_score\n",
        "from sklearn.pipeline import Pipeline\n",
        "from sklearn.preprocessing import StandardScaler, OneHotEncoder\n",
        "from sklearn.compose import ColumnTransformer\n",
        "from sklearn.impute import SimpleImputer\n",
        "import numpy as np\n",
        "import matplotlib.pyplot as plt\n",
        "import joblib\n",
        "\n",
        "# Check and load the dataset\n",
        "try:\n",
        "    df = pd.read_csv('Global EV 2023.csv')\n",
        "    print(\"File loaded successfully!\")\n",
        "except FileNotFoundError:\n",
        "    print(\"File not found. Please upload the file to the correct directory.\")\n",
        "    from google.colab import files\n",
        "    uploaded = files.upload()\n",
        "    df = pd.read_csv('Global EV 2023.csv')\n",
        "\n",
        "# Filter data for 'EV charging points' parameter\n",
        "parameter_to_predict = 'EV charging points'\n",
        "df_filtered = df[df['parameter'] == parameter_to_predict]\n",
        "\n",
        "# Display the first few rows to understand the structure\n",
        "print(df_filtered.head())\n",
        "\n",
        "# Define features and target\n",
        "feature_columns = ['year', 'region', 'category']  # Features that might impact EV charging points\n",
        "target_column = 'value'  # The number of EV charging points\n",
        "\n",
        "# Verify columns\n",
        "for col in feature_columns + [target_column]:\n",
        "    if col not in df_filtered.columns:\n",
        "        raise KeyError(f\"Column '{col}' not found in DataFrame\")\n",
        "\n",
        "# Define features and target\n",
        "X = df_filtered[feature_columns]\n",
        "y = df_filtered[target_column]\n",
        "\n",
        "# Check if X and y are not empty\n",
        "if X.empty or y.empty:\n",
        "    raise ValueError(\"The filtered dataset is empty. Please choose a different parameter or check the data.\")\n",
        "\n",
        "# Split the data into training and testing sets\n",
        "X_train, X_test, y_train, y_test = train_test_split(X, y, test_size=0.2, random_state=42)\n",
        "\n",
        "# Preprocessing for numeric and categorical features\n",
        "numeric_features = ['year']  # Adjust as needed\n",
        "categorical_features = ['region', 'category']  # Adjust as needed\n",
        "\n",
        "# Preprocessing pipelines\n",
        "numeric_transformer = Pipeline(steps=[\n",
        "    ('imputer', SimpleImputer(strategy='mean')),\n",
        "    ('scaler', StandardScaler())\n",
        "])\n",
        "\n",
        "categorical_transformer = Pipeline(steps=[\n",
        "    ('imputer', SimpleImputer(strategy='most_frequent')),\n",
        "    ('onehot', OneHotEncoder(handle_unknown='ignore'))\n",
        "])\n",
        "\n",
        "preprocessor = ColumnTransformer(\n",
        "    transformers=[\n",
        "        ('num', numeric_transformer, numeric_features),\n",
        "        ('cat', categorical_transformer, categorical_features)\n",
        "    ]\n",
        ")\n",
        "\n",
        "# Define model\n",
        "model = Pipeline(steps=[('preprocessor', preprocessor),\n",
        "                         ('regressor', RandomForestRegressor())])\n",
        "\n",
        "# Train the model\n",
        "model.fit(X_train, y_train)\n",
        "\n",
        "# Evaluate the model\n",
        "y_pred = model.predict(X_test)\n",
        "mse = mean_squared_error(y_test, y_pred)\n",
        "r2 = r2_score(y_test, y_pred)\n",
        "\n",
        "print(f'Model Evaluation - MSE: {mse}, R^2: {r2}')\n",
        "\n",
        "# Save the model\n",
        "joblib.dump(model, 'ev_charging_points_model.pkl')\n",
        "\n",
        "# Load the model for future predictions (example)\n",
        "loaded_model = joblib.load('ev_charging_points_model.pkl')\n",
        "\n",
        "# Make predictions for future years and regions\n",
        "future_data = pd.DataFrame({\n",
        "    'year': np.arange(2024, 2031),  # Example future years\n",
        "    'region': ['North America']*7,  # Example region\n",
        "    'category': ['Electric Vehicle']*7  # Example category\n",
        "})\n",
        "\n",
        "# Make predictions\n",
        "future_predictions = loaded_model.predict(future_data)\n",
        "\n",
        "print(\"Predictions for future EV charging points:\")\n",
        "for year, prediction in zip(future_data['year'], future_predictions):\n",
        "    print(f\"Year: {year}, Predicted EV Charging Points: {prediction:.2f}\")\n",
        "\n",
        "# Plot the predictions\n",
        "plt.figure(figsize=(10, 6))\n",
        "plt.plot(future_data['year'], future_predictions, marker='o', linestyle='-', color='b')\n",
        "plt.xlabel('Year')\n",
        "plt.ylabel('Predicted EV Charging Points')\n",
        "plt.title('Predicted EV Charging Points Over Time')\n",
        "plt.grid(True)\n",
        "plt.show()\n"
      ],
      "metadata": {
        "colab": {
          "base_uri": "https://localhost:8080/",
          "height": 946
        },
        "id": "vdz7L-aW-MEe",
        "outputId": "524ebebd-3033-464c-9598-0721103f49f1"
      },
      "execution_count": null,
      "outputs": [
        {
          "output_type": "stream",
          "name": "stdout",
          "text": [
            "File loaded successfully!\n",
            "       region    category           parameter mode               powertrain  \\\n",
            "40  Australia  Historical  EV charging points   EV  Publicly available fast   \n",
            "41  Australia  Historical  EV charging points   EV  Publicly available slow   \n",
            "42  Australia  Historical  EV charging points   EV  Publicly available fast   \n",
            "43  Australia  Historical  EV charging points   EV  Publicly available slow   \n",
            "56  Australia  Historical  EV charging points   EV  Publicly available fast   \n",
            "\n",
            "    year             unit  value  \n",
            "40  2017  charging points   40.0  \n",
            "41  2017  charging points  440.0  \n",
            "42  2018  charging points   61.0  \n",
            "43  2018  charging points  670.0  \n",
            "56  2019  charging points  250.0  \n",
            "Model Evaluation - MSE: 18618583968.084328, R^2: 0.8566672903660976\n",
            "Predictions for future EV charging points:\n",
            "Year: 2024, Predicted EV Charging Points: 236763.80\n",
            "Year: 2025, Predicted EV Charging Points: 236763.80\n",
            "Year: 2026, Predicted EV Charging Points: 236763.80\n",
            "Year: 2027, Predicted EV Charging Points: 236763.80\n",
            "Year: 2028, Predicted EV Charging Points: 718698.47\n",
            "Year: 2029, Predicted EV Charging Points: 718698.47\n",
            "Year: 2030, Predicted EV Charging Points: 718698.47\n"
          ]
        },
        {
          "output_type": "display_data",
          "data": {
            "text/plain": [
              "<Figure size 1000x600 with 1 Axes>"
            ],
            "image/png": "[encoded data removed]"
          },
          "metadata": {}
        }
      ]
    },
    {
      "cell_type": "code",
      "source": [
        "import pandas as pd\n",
        "\n",
        "# Load the dataset\n",
        "df = pd.read_csv('Global EV 2023.csv')\n",
        "\n",
        "# Display the first few rows to understand the structure\n",
        "print(df.head())\n",
        "\n",
        "# Display the columns to understand the data available\n",
        "print(\"Columns in the dataset:\")\n",
        "print(df.columns)\n"
      ],
      "metadata": {
        "colab": {
          "base_uri": "https://localhost:8080/"
        },
        "id": "ygZ5xNdA-YKR",
        "outputId": "5ab9acfb-ef19-4a9e-e8bb-64a3379275e6"
      },
      "execution_count": null,
      "outputs": [
        {
          "output_type": "stream",
          "name": "stdout",
          "text": [
            "      region    category       parameter  mode powertrain  year      unit  \\\n",
            "0  Australia  Historical        EV stock  Cars        BEV  2011  Vehicles   \n",
            "1  Australia  Historical  EV sales share  Cars         EV  2011   percent   \n",
            "2  Australia  Historical  EV stock share  Cars         EV  2011   percent   \n",
            "3  Australia  Historical        EV sales  Cars        BEV  2011  Vehicles   \n",
            "4  Australia  Historical        EV sales  Cars        BEV  2012  Vehicles   \n",
            "\n",
            "       value  \n",
            "0   49.00000  \n",
            "1    0.00650  \n",
            "2    0.00046  \n",
            "3   49.00000  \n",
            "4  170.00000  \n",
            "Columns in the dataset:\n",
            "Index(['region', 'category', 'parameter', 'mode', 'powertrain', 'year', 'unit',\n",
            "       'value'],\n",
            "      dtype='object')\n"
          ]
        }
      ]
    },
    {
      "cell_type": "code",
      "source": [
        "# Filter data for 'EV charging points' parameter\n",
        "parameter_to_predict = 'EV charging points'\n",
        "df_filtered = df[df['parameter'] == parameter_to_predict]\n",
        "\n",
        "# Display the first few rows of the filtered data\n",
        "print(df_filtered.head())\n"
      ],
      "metadata": {
        "colab": {
          "base_uri": "https://localhost:8080/"
        },
        "id": "DqYkarDT_4KZ",
        "outputId": "fb7dd0a1-d505-4132-9810-1220448eeb0b"
      },
      "execution_count": null,
      "outputs": [
        {
          "output_type": "stream",
          "name": "stdout",
          "text": [
            "       region    category           parameter mode               powertrain  \\\n",
            "40  Australia  Historical  EV charging points   EV  Publicly available fast   \n",
            "41  Australia  Historical  EV charging points   EV  Publicly available slow   \n",
            "42  Australia  Historical  EV charging points   EV  Publicly available fast   \n",
            "43  Australia  Historical  EV charging points   EV  Publicly available slow   \n",
            "56  Australia  Historical  EV charging points   EV  Publicly available fast   \n",
            "\n",
            "    year             unit  value  \n",
            "40  2017  charging points   40.0  \n",
            "41  2017  charging points  440.0  \n",
            "42  2018  charging points   61.0  \n",
            "43  2018  charging points  670.0  \n",
            "56  2019  charging points  250.0  \n"
          ]
        }
      ]
    },
    {
      "cell_type": "code",
      "source": [
        "# Define features and target\n",
        "feature_columns = ['year', 'region', 'category']\n",
        "target_column = 'value'  # The target variable to predict\n",
        "\n",
        "# Verify columns\n",
        "for col in feature_columns + [target_column]:\n",
        "    if col not in df_filtered.columns:\n",
        "        raise KeyError(f\"Column '{col}' not found in DataFrame\")\n",
        "\n",
        "# Define features and target\n",
        "X = df_filtered[feature_columns]\n",
        "y = df_filtered[target_column]\n"
      ],
      "metadata": {
        "id": "Viun96TC_-_N"
      },
      "execution_count": null,
      "outputs": []
    },
    {
      "cell_type": "code",
      "source": [
        "from sklearn.model_selection import train_test_split\n",
        "\n",
        "# Split the data into training and testing sets\n",
        "X_train, X_test, y_train, y_test = train_test_split(X, y, test_size=0.2, random_state=42)\n"
      ],
      "metadata": {
        "id": "NTYHjGsVAAC6"
      },
      "execution_count": null,
      "outputs": []
    },
    {
      "cell_type": "code",
      "source": [
        "from sklearn.pipeline import Pipeline\n",
        "from sklearn.preprocessing import StandardScaler, OneHotEncoder\n",
        "from sklearn.compose import ColumnTransformer\n",
        "from sklearn.impute import SimpleImputer\n",
        "\n",
        "# Preprocessing for numeric and categorical features\n",
        "numeric_features = ['year']\n",
        "categorical_features = ['region', 'category']\n",
        "\n",
        "# Preprocessing pipelines\n",
        "numeric_transformer = Pipeline(steps=[\n",
        "    ('imputer', SimpleImputer(strategy='mean')),\n",
        "    ('scaler', StandardScaler())\n",
        "])\n",
        "\n",
        "categorical_transformer = Pipeline(steps=[\n",
        "    ('imputer', SimpleImputer(strategy='most_frequent')),\n",
        "    ('onehot', OneHotEncoder(handle_unknown='ignore'))\n",
        "])\n",
        "\n",
        "preprocessor = ColumnTransformer(\n",
        "    transformers=[\n",
        "        ('num', numeric_transformer, numeric_features),\n",
        "        ('cat', categorical_transformer, categorical_features)\n",
        "    ]\n",
        ")\n"
      ],
      "metadata": {
        "id": "yGPR4xBQADJN"
      },
      "execution_count": null,
      "outputs": []
    },
    {
      "cell_type": "code",
      "source": [
        "from sklearn.ensemble import RandomForestRegressor\n",
        "\n",
        "# Define model\n",
        "model = Pipeline(steps=[('preprocessor', preprocessor),\n",
        "                        ('regressor', RandomForestRegressor())])\n",
        "\n",
        "# Train the model\n",
        "model.fit(X_train, y_train)\n"
      ],
      "metadata": {
        "colab": {
          "base_uri": "https://localhost:8080/",
          "height": 223
        },
        "id": "MEy863nWAEz5",
        "outputId": "196d4197-101a-4949-c73f-703e2f41e35f"
      },
      "execution_count": null,
      "outputs": [
        {
          "output_type": "execute_result",
          "data": {
            "text/plain": [
              "Pipeline(steps=[('preprocessor',\n",
              "                 ColumnTransformer(transformers=[('num',\n",
              "                                                  Pipeline(steps=[('imputer',\n",
              "                                                                   SimpleImputer()),\n",
              "                                                                  ('scaler',\n",
              "                                                                   StandardScaler())]),\n",
              "                                                  ['year']),\n",
              "                                                 ('cat',\n",
              "                                                  Pipeline(steps=[('imputer',\n",
              "                                                                   SimpleImputer(strategy='most_frequent')),\n",
              "                                                                  ('onehot',\n",
              "                                                                   OneHotEncoder(handle_unknown='ignore'))]),\n",
              "                                                  ['region', 'category'])])),\n",
              "                ('regressor', RandomForestRegressor())])"
            ],
            "text/html": [
              "<style>#sk-container-id-1 {color: black;}#sk-container-id-1 pre{padding: 0;}#sk-container-id-1 div.sk-toggleable {background-color: white;}#sk-container-id-1 label.sk-toggleable__label {cursor: pointer;display: block;width: 100%;margin-bottom: 0;padding: 0.3em;box-sizing: border-box;text-align: center;}#sk-container-id-1 label.sk-toggleable__label-arrow:before {content: \"▸\";float: left;margin-right: 0.25em;color: #696969;}#sk-container-id-1 label.sk-toggleable__label-arrow:hover:before {color: black;}#sk-container-id-1 div.sk-estimator:hover label.sk-toggleable__label-arrow:before {color: black;}#sk-container-id-1 div.sk-toggleable__content {max-height: 0;max-width: 0;overflow: hidden;text-align: left;background-color: #f0f8ff;}#sk-container-id-1 div.sk-toggleable__content pre {margin: 0.2em;color: black;border-radius: 0.25em;background-color: #f0f8ff;}#sk-container-id-1 input.sk-toggleable__control:checked~div.sk-toggleable__content {max-height: 200px;max-width: 100%;overflow: auto;}#sk-container-id-1 input.sk-toggleable__control:checked~label.sk-toggleable__label-arrow:before {content: \"▾\";}#sk-container-id-1 div.sk-estimator input.sk-toggleable__control:checked~label.sk-toggleable__label {background-color: #d4ebff;}#sk-container-id-1 div.sk-label input.sk-toggleable__control:checked~label.sk-toggleable__label {background-color: #d4ebff;}#sk-container-id-1 input.sk-hidden--visually {border: 0;clip: rect(1px 1px 1px 1px);clip: rect(1px, 1px, 1px, 1px);height: 1px;margin: -1px;overflow: hidden;padding: 0;position: absolute;width: 1px;}#sk-container-id-1 div.sk-estimator {font-family: monospace;background-color: #f0f8ff;border: 1px dotted black;border-radius: 0.25em;box-sizing: border-box;margin-bottom: 0.5em;}#sk-container-id-1 div.sk-estimator:hover {background-color: #d4ebff;}#sk-container-id-1 div.sk-parallel-item::after {content: \"\";width: 100%;border-bottom: 1px solid gray;flex-grow: 1;}#sk-container-id-1 div.sk-label:hover label.sk-toggleable__label {background-color: #d4ebff;}#sk-container-id-1 div.sk-serial::before {content: \"\";position: absolute;border-left: 1px solid gray;box-sizing: border-box;top: 0;bottom: 0;left: 50%;z-index: 0;}#sk-container-id-1 div.sk-serial {display: flex;flex-direction: column;align-items: center;background-color: white;padding-right: 0.2em;padding-left: 0.2em;position: relative;}#sk-container-id-1 div.sk-item {position: relative;z-index: 1;}#sk-container-id-1 div.sk-parallel {display: flex;align-items: stretch;justify-content: center;background-color: white;position: relative;}#sk-container-id-1 div.sk-item::before, #sk-container-id-1 div.sk-parallel-item::before {content: \"\";position: absolute;border-left: 1px solid gray;box-sizing: border-box;top: 0;bottom: 0;left: 50%;z-index: -1;}#sk-container-id-1 div.sk-parallel-item {display: flex;flex-direction: column;z-index: 1;position: relative;background-color: white;}#sk-container-id-1 div.sk-parallel-item:first-child::after {align-self: flex-end;width: 50%;}#sk-container-id-1 div.sk-parallel-item:last-child::after {align-self: flex-start;width: 50%;}#sk-container-id-1 div.sk-parallel-item:only-child::after {width: 0;}#sk-container-id-1 div.sk-dashed-wrapped {border: 1px dashed gray;margin: 0 0.4em 0.5em 0.4em;box-sizing: border-box;padding-bottom: 0.4em;background-color: white;}#sk-container-id-1 div.sk-label label {font-family: monospace;font-weight: bold;display: inline-block;line-height: 1.2em;}#sk-container-id-1 div.sk-label-container {text-align: center;}#sk-container-id-1 div.sk-container {/* jupyter's `normalize.less` sets `[hidden] { display: none; }` but bootstrap.min.css set `[hidden] { display: none !important; }` so we also need the `!important` here to be able to override the default hidden behavior on the sphinx rendered scikit-learn.org. See: https://github.com/scikit-learn/scikit-learn/issues/21755 */display: inline-block !important;position: relative;}#sk-container-id-1 div.sk-text-repr-fallback {display: none;}</style><div id=\"sk-container-id-1\" class=\"sk-top-container\"><div class=\"sk-text-repr-fallback\"><pre>Pipeline(steps=[(&#x27;preprocessor&#x27;,\n",
              "                 ColumnTransformer(transformers=[(&#x27;num&#x27;,\n",
              "                                                  Pipeline(steps=[(&#x27;imputer&#x27;,\n",
              "                                                                   SimpleImputer()),\n",
              "                                                                  (&#x27;scaler&#x27;,\n",
              "                                                                   StandardScaler())]),\n",
              "                                                  [&#x27;year&#x27;]),\n",
              "                                                 (&#x27;cat&#x27;,\n",
              "                                                  Pipeline(steps=[(&#x27;imputer&#x27;,\n",
              "                                                                   SimpleImputer(strategy=&#x27;most_frequent&#x27;)),\n",
              "                                                                  (&#x27;onehot&#x27;,\n",
              "                                                                   OneHotEncoder(handle_unknown=&#x27;ignore&#x27;))]),\n",
              "                                                  [&#x27;region&#x27;, &#x27;category&#x27;])])),\n",
              "                (&#x27;regressor&#x27;, RandomForestRegressor())])</pre><b>In a Jupyter environment, please rerun this cell to show the HTML representation or trust the notebook. <br />On GitHub, the HTML representation is unable to render, please try loading this page with nbviewer.org.</b></div><div class=\"sk-container\" hidden><div class=\"sk-item sk-dashed-wrapped\"><div class=\"sk-label-container\"><div class=\"sk-label sk-toggleable\"><input class=\"sk-toggleable__control sk-hidden--visually\" id=\"sk-estimator-id-1\" type=\"checkbox\" ><label for=\"sk-estimator-id-1\" class=\"sk-toggleable__label sk-toggleable__label-arrow\">Pipeline</label><div class=\"sk-toggleable__content\"><pre>Pipeline(steps=[(&#x27;preprocessor&#x27;,\n",
              "                 ColumnTransformer(transformers=[(&#x27;num&#x27;,\n",
              "                                                  Pipeline(steps=[(&#x27;imputer&#x27;,\n",
              "                                                                   SimpleImputer()),\n",
              "                                                                  (&#x27;scaler&#x27;,\n",
              "                                                                   StandardScaler())]),\n",
              "                                                  [&#x27;year&#x27;]),\n",
              "                                                 (&#x27;cat&#x27;,\n",
              "                                                  Pipeline(steps=[(&#x27;imputer&#x27;,\n",
              "                                                                   SimpleImputer(strategy=&#x27;most_frequent&#x27;)),\n",
              "                                                                  (&#x27;onehot&#x27;,\n",
              "                                                                   OneHotEncoder(handle_unknown=&#x27;ignore&#x27;))]),\n",
              "                                                  [&#x27;region&#x27;, &#x27;category&#x27;])])),\n",
              "                (&#x27;regressor&#x27;, RandomForestRegressor())])</pre></div></div></div><div class=\"sk-serial\"><div class=\"sk-item sk-dashed-wrapped\"><div class=\"sk-label-container\"><div class=\"sk-label sk-toggleable\"><input class=\"sk-toggleable__control sk-hidden--visually\" id=\"sk-estimator-id-2\" type=\"checkbox\" ><label for=\"sk-estimator-id-2\" class=\"sk-toggleable__label sk-toggleable__label-arrow\">preprocessor: ColumnTransformer</label><div class=\"sk-toggleable__content\"><pre>ColumnTransformer(transformers=[(&#x27;num&#x27;,\n",
              "                                 Pipeline(steps=[(&#x27;imputer&#x27;, SimpleImputer()),\n",
              "                                                 (&#x27;scaler&#x27;, StandardScaler())]),\n",
              "                                 [&#x27;year&#x27;]),\n",
              "                                (&#x27;cat&#x27;,\n",
              "                                 Pipeline(steps=[(&#x27;imputer&#x27;,\n",
              "                                                  SimpleImputer(strategy=&#x27;most_frequent&#x27;)),\n",
              "                                                 (&#x27;onehot&#x27;,\n",
              "                                                  OneHotEncoder(handle_unknown=&#x27;ignore&#x27;))]),\n",
              "                                 [&#x27;region&#x27;, &#x27;category&#x27;])])</pre></div></div></div><div class=\"sk-parallel\"><div class=\"sk-parallel-item\"><div class=\"sk-item\"><div class=\"sk-label-container\"><div class=\"sk-label sk-toggleable\"><input class=\"sk-toggleable__control sk-hidden--visually\" id=\"sk-estimator-id-3\" type=\"checkbox\" ><label for=\"sk-estimator-id-3\" class=\"sk-toggleable__label sk-toggleable__label-arrow\">num</label><div class=\"sk-toggleable__content\"><pre>[&#x27;year&#x27;]</pre></div></div></div><div class=\"sk-serial\"><div class=\"sk-item\"><div class=\"sk-serial\"><div class=\"sk-item\"><div class=\"sk-estimator sk-toggleable\"><input class=\"sk-toggleable__control sk-hidden--visually\" id=\"sk-estimator-id-4\" type=\"checkbox\" ><label for=\"sk-estimator-id-4\" class=\"sk-toggleable__label sk-toggleable__label-arrow\">SimpleImputer</label><div class=\"sk-toggleable__content\"><pre>SimpleImputer()</pre></div></div></div><div class=\"sk-item\"><div class=\"sk-estimator sk-toggleable\"><input class=\"sk-toggleable__control sk-hidden--visually\" id=\"sk-estimator-id-5\" type=\"checkbox\" ><label for=\"sk-estimator-id-5\" class=\"sk-toggleable__label sk-toggleable__label-arrow\">StandardScaler</label><div class=\"sk-toggleable__content\"><pre>StandardScaler()</pre></div></div></div></div></div></div></div></div><div class=\"sk-parallel-item\"><div class=\"sk-item\"><div class=\"sk-label-container\"><div class=\"sk-label sk-toggleable\"><input class=\"sk-toggleable__control sk-hidden--visually\" id=\"sk-estimator-id-6\" type=\"checkbox\" ><label for=\"sk-estimator-id-6\" class=\"sk-toggleable__label sk-toggleable__label-arrow\">cat</label><div class=\"sk-toggleable__content\"><pre>[&#x27;region&#x27;, &#x27;category&#x27;]</pre></div></div></div><div class=\"sk-serial\"><div class=\"sk-item\"><div class=\"sk-serial\"><div class=\"sk-item\"><div class=\"sk-estimator sk-toggleable\"><input class=\"sk-toggleable__control sk-hidden--visually\" id=\"sk-estimator-id-7\" type=\"checkbox\" ><label for=\"sk-estimator-id-7\" class=\"sk-toggleable__label sk-toggleable__label-arrow\">SimpleImputer</label><div class=\"sk-toggleable__content\"><pre>SimpleImputer(strategy=&#x27;most_frequent&#x27;)</pre></div></div></div><div class=\"sk-item\"><div class=\"sk-estimator sk-toggleable\"><input class=\"sk-toggleable__control sk-hidden--visually\" id=\"sk-estimator-id-8\" type=\"checkbox\" ><label for=\"sk-estimator-id-8\" class=\"sk-toggleable__label sk-toggleable__label-arrow\">OneHotEncoder</label><div class=\"sk-toggleable__content\"><pre>OneHotEncoder(handle_unknown=&#x27;ignore&#x27;)</pre></div></div></div></div></div></div></div></div></div></div><div class=\"sk-item\"><div class=\"sk-estimator sk-toggleable\"><input class=\"sk-toggleable__control sk-hidden--visually\" id=\"sk-estimator-id-9\" type=\"checkbox\" ><label for=\"sk-estimator-id-9\" class=\"sk-toggleable__label sk-toggleable__label-arrow\">RandomForestRegressor</label><div class=\"sk-toggleable__content\"><pre>RandomForestRegressor()</pre></div></div></div></div></div></div></div>"
            ]
          },
          "metadata": {},
          "execution_count": 19
        }
      ]
    },
    {
      "cell_type": "code",
      "source": [
        "from sklearn.metrics import mean_squared_error, r2_score\n",
        "\n",
        "# Evaluate the model\n",
        "y_pred = model.predict(X_test)\n",
        "mse = mean_squared_error(y_test, y_pred)\n",
        "r2 = r2_score(y_test, y_pred)\n",
        "\n",
        "print(f'Model Evaluation - MSE: {mse}, R^2: {r2}')\n"
      ],
      "metadata": {
        "colab": {
          "base_uri": "https://localhost:8080/"
        },
        "id": "eh-PYQ0oAExl",
        "outputId": "7770d206-0fa9-44ce-a745-28d47c04b358"
      },
      "execution_count": null,
      "outputs": [
        {
          "output_type": "stream",
          "name": "stdout",
          "text": [
            "Model Evaluation - MSE: 19965260463.69163, R^2: 0.8463000792265952\n"
          ]
        }
      ]
    },
    {
      "cell_type": "code",
      "source": [
        "import joblib\n",
        "\n",
        "# Save the model\n",
        "joblib.dump(model, 'ev_charging_points_model.pkl')\n"
      ],
      "metadata": {
        "colab": {
          "base_uri": "https://localhost:8080/"
        },
        "id": "lRWT7wB0AJvk",
        "outputId": "9c514f35-94ea-42fd-b5ad-f37006531224"
      },
      "execution_count": null,
      "outputs": [
        {
          "output_type": "execute_result",
          "data": {
            "text/plain": [
              "['ev_charging_points_model.pkl']"
            ]
          },
          "metadata": {},
          "execution_count": 21
        }
      ]
    },
    {
      "cell_type": "code",
      "source": [
        "# Load the model for future predictions (example)\n",
        "loaded_model = joblib.load('ev_charging_points_model.pkl')\n",
        "\n",
        "# Make predictions for future years and regions\n",
        "future_data = pd.DataFrame({\n",
        "    'year': np.arange(2024, 2031),  # Example future years\n",
        "    'region': ['North America']*7,  # Example region\n",
        "    'category': ['Electric Vehicle']*7  # Example category\n",
        "})\n",
        "\n",
        "# Make predictions\n",
        "future_predictions = loaded_model.predict(future_data)\n",
        "\n",
        "print(\"Predictions for future EV charging points:\")\n",
        "for year, prediction in zip(future_data['year'], future_predictions):\n",
        "    print(f\"Year: {year}, Predicted EV Charging Points: {prediction:.2f}\")\n"
      ],
      "metadata": {
        "colab": {
          "base_uri": "https://localhost:8080/"
        },
        "id": "5E5C-CB0AL34",
        "outputId": "370fd35a-8480-4ee5-e141-8adb0f596817"
      },
      "execution_count": null,
      "outputs": [
        {
          "output_type": "stream",
          "name": "stdout",
          "text": [
            "Predictions for future EV charging points:\n",
            "Year: 2024, Predicted EV Charging Points: 173636.63\n",
            "Year: 2025, Predicted EV Charging Points: 173636.63\n",
            "Year: 2026, Predicted EV Charging Points: 173636.63\n",
            "Year: 2027, Predicted EV Charging Points: 173636.63\n",
            "Year: 2028, Predicted EV Charging Points: 698694.42\n",
            "Year: 2029, Predicted EV Charging Points: 698694.42\n",
            "Year: 2030, Predicted EV Charging Points: 698694.42\n"
          ]
        }
      ]
    },
    {
      "cell_type": "code",
      "source": [
        "import matplotlib.pyplot as plt\n",
        "\n",
        "# Bar chart for predictions\n",
        "plt.figure(figsize=(10, 6))\n",
        "plt.bar(future_data['year'], future_predictions, color='skyblue')\n",
        "plt.xlabel('Year')\n",
        "plt.ylabel('Predicted EV Charging Points')\n",
        "plt.title('Predicted EV Charging Points Over Time')\n",
        "plt.grid(axis='y')\n",
        "plt.show()\n"
      ],
      "metadata": {
        "colab": {
          "base_uri": "https://localhost:8080/",
          "height": 584
        },
        "id": "orroaSNFAL1G",
        "outputId": "1f1f06f9-2a05-4e53-975a-df912626d6b9"
      },
      "execution_count": null,
      "outputs": [
        {
          "output_type": "display_data",
          "data": {
            "text/plain": [
              "<Figure size 1000x600 with 1 Axes>"
            ],
            "image/png": "[encoded data removed]"
          },
          "metadata": {}
        }
      ]
    },
    {
      "cell_type": "code",
      "source": [
        "import pandas as pd\n",
        "import numpy as np\n",
        "import matplotlib.pyplot as plt\n",
        "import joblib\n",
        "\n",
        "# Load the model for future predictions (example)\n",
        "loaded_model = joblib.load('ev_charging_points_model.pkl')\n",
        "\n",
        "# Make predictions for future years and regions\n",
        "future_data = pd.DataFrame({\n",
        "    'year': np.arange(2024, 2031),  # Example future years\n",
        "    'region': ['North America']*7,  # Example region\n",
        "    'category': ['Electric Vehicle']*7  # Example category\n",
        "})\n",
        "\n",
        "# Make predictions\n",
        "future_predictions = loaded_model.predict(future_data)\n",
        "\n",
        "# Create a pie chart\n",
        "plt.figure(figsize=(10, 8))\n",
        "plt.pie(future_predictions, labels=future_data['year'], autopct='%1.1f%%', startangle=140, colors=plt.cm.Paired(np.arange(len(future_predictions))))\n",
        "plt.title('Distribution of Predicted EV Charging Points by Year')\n",
        "plt.show()\n"
      ],
      "metadata": {
        "colab": {
          "base_uri": "https://localhost:8080/",
          "height": 675
        },
        "id": "3ZTJqRpBEtpf",
        "outputId": "4591ba5b-d482-47b4-c513-67cb4fda5480"
      },
      "execution_count": null,
      "outputs": [
        {
          "output_type": "display_data",
          "data": {
            "text/plain": [
              "<Figure size 1000x800 with 1 Axes>"
            ],
            "image/png": "[encoded data removed]"
          },
          "metadata": {}
        }
      ]
    },
    {
      "cell_type": "markdown",
      "source": [
        "#Predicting EV Stock Growth"
      ],
      "metadata": {
        "id": "N70Ow-5RCiS5"
      }
    },
    {
      "cell_type": "code",
      "source": [
        "import pandas as pd\n",
        "\n",
        "# Load the dataset\n",
        "df = pd.read_csv('/content/Global EV 2023.csv')\n",
        "\n",
        "# Filter data for 'EV stock' parameter\n",
        "df_filtered = df[df['parameter'] == 'EV stock']\n",
        "\n",
        "# Display the first few rows to understand the structure\n",
        "print(df_filtered.head())\n"
      ],
      "metadata": {
        "colab": {
          "base_uri": "https://localhost:8080/"
        },
        "id": "xs4cXl6QCjoV",
        "outputId": "38d2b1da-d2c7-4600-ccf1-1ed1b97c1d02"
      },
      "execution_count": null,
      "outputs": [
        {
          "output_type": "stream",
          "name": "stdout",
          "text": [
            "       region    category parameter  mode powertrain  year      unit  value\n",
            "0   Australia  Historical  EV stock  Cars        BEV  2011  Vehicles   49.0\n",
            "7   Australia  Historical  EV stock  Cars        BEV  2012  Vehicles  220.0\n",
            "8   Australia  Historical  EV stock  Cars       PHEV  2012  Vehicles   80.0\n",
            "11  Australia  Historical  EV stock  Cars       PHEV  2013  Vehicles  180.0\n",
            "12  Australia  Historical  EV stock  Cars        BEV  2013  Vehicles  410.0\n"
          ]
        }
      ]
    },
    {
      "cell_type": "code",
      "source": [
        "# Define features and target\n",
        "feature_columns = ['year', 'region', 'category']  # Features that might impact EV stock\n",
        "target_column = 'value'  # EV stock value\n",
        "\n",
        "# Verify columns\n",
        "for col in feature_columns + [target_column]:\n",
        "    if col not in df_filtered.columns:\n",
        "        raise KeyError(f\"Column '{col}' not found in DataFrame\")\n",
        "\n",
        "# Define features and target\n",
        "X = df_filtered[feature_columns]\n",
        "y = df_filtered[target_column]\n"
      ],
      "metadata": {
        "id": "1UhpfaISCl5H"
      },
      "execution_count": null,
      "outputs": []
    },
    {
      "cell_type": "code",
      "source": [
        "from sklearn.model_selection import train_test_split\n",
        "from sklearn.ensemble import RandomForestRegressor\n",
        "from sklearn.pipeline import Pipeline\n",
        "from sklearn.preprocessing import StandardScaler, OneHotEncoder\n",
        "from sklearn.compose import ColumnTransformer\n",
        "from sklearn.impute import SimpleImputer\n",
        "from sklearn.metrics import mean_squared_error, r2_score\n",
        "import joblib\n",
        "\n",
        "# Split the data into training and testing sets\n",
        "X_train, X_test, y_train, y_test = train_test_split(X, y, test_size=0.2, random_state=42)\n",
        "\n",
        "# Preprocessing for numeric and categorical features\n",
        "numeric_features = ['year']\n",
        "categorical_features = ['region', 'category']\n",
        "\n",
        "# Preprocessing pipelines\n",
        "numeric_transformer = Pipeline(steps=[\n",
        "    ('imputer', SimpleImputer(strategy='mean')),\n",
        "    ('scaler', StandardScaler())\n",
        "])\n",
        "\n",
        "categorical_transformer = Pipeline(steps=[\n",
        "    ('imputer', SimpleImputer(strategy='most_frequent')),\n",
        "    ('onehot', OneHotEncoder(handle_unknown='ignore'))\n",
        "])\n",
        "\n",
        "preprocessor = ColumnTransformer(\n",
        "    transformers=[\n",
        "        ('num', numeric_transformer, numeric_features),\n",
        "        ('cat', categorical_transformer, categorical_features)\n",
        "    ]\n",
        ")\n",
        "\n",
        "# Define model\n",
        "model = Pipeline(steps=[('preprocessor', preprocessor),\n",
        "                         ('regressor', RandomForestRegressor())])\n",
        "\n",
        "# Train the model\n",
        "model.fit(X_train, y_train)\n",
        "\n",
        "# Evaluate the model\n",
        "y_pred = model.predict(X_test)\n",
        "mse = mean_squared_error(y_test, y_pred)\n",
        "r2 = r2_score(y_test, y_pred)\n",
        "\n",
        "print(f'Model Evaluation - MSE: {mse}, R^2: {r2}')\n",
        "\n",
        "# Save the model\n",
        "joblib.dump(model, 'ev_stock_model.pkl')\n"
      ],
      "metadata": {
        "colab": {
          "base_uri": "https://localhost:8080/"
        },
        "id": "xmHdivK_Cn7Q",
        "outputId": "4bc564c1-b9b1-41e4-9240-218451bec826"
      },
      "execution_count": null,
      "outputs": [
        {
          "output_type": "stream",
          "name": "stdout",
          "text": [
            "Model Evaluation - MSE: 72162730824146.48, R^2: 0.0573970359826067\n"
          ]
        },
        {
          "output_type": "execute_result",
          "data": {
            "text/plain": [
              "['ev_stock_model.pkl']"
            ]
          },
          "metadata": {},
          "execution_count": 28
        }
      ]
    },
    {
      "cell_type": "code",
      "source": [
        "from sklearn.model_selection import train_test_split\n",
        "from sklearn.ensemble import RandomForestRegressor\n",
        "from sklearn.pipeline import Pipeline\n",
        "from sklearn.preprocessing import StandardScaler, OneHotEncoder\n",
        "from sklearn.compose import ColumnTransformer\n",
        "from sklearn.impute import SimpleImputer\n",
        "from sklearn.metrics import mean_squared_error, r2_score\n",
        "import joblib\n",
        "\n",
        "# Split the data into training and testing sets\n",
        "X_train, X_test, y_train, y_test = train_test_split(X, y, test_size=0.2, random_state=42)\n",
        "\n",
        "# Preprocessing for numeric and categorical features\n",
        "numeric_features = ['year']\n",
        "categorical_features = ['region', 'category']\n",
        "\n",
        "# Preprocessing pipelines\n",
        "numeric_transformer = Pipeline(steps=[\n",
        "    ('imputer', SimpleImputer(strategy='mean')),\n",
        "    ('scaler', StandardScaler())\n",
        "])\n",
        "\n",
        "categorical_transformer = Pipeline(steps=[\n",
        "    ('imputer', SimpleImputer(strategy='most_frequent')),\n",
        "    ('onehot', OneHotEncoder(handle_unknown='ignore'))\n",
        "])\n",
        "\n",
        "preprocessor = ColumnTransformer(\n",
        "    transformers=[\n",
        "        ('num', numeric_transformer, numeric_features),\n",
        "        ('cat', categorical_transformer, categorical_features)\n",
        "    ]\n",
        ")\n",
        "\n",
        "# Define model\n",
        "model = Pipeline(steps=[('preprocessor', preprocessor),\n",
        "                         ('regressor', RandomForestRegressor())])\n",
        "\n",
        "# Train the model\n",
        "model.fit(X_train, y_train)\n",
        "\n",
        "# Evaluate the model\n",
        "y_pred = model.predict(X_test)\n",
        "mse = mean_squared_error(y_test, y_pred)\n",
        "r2 = r2_score(y_test, y_pred)\n",
        "\n",
        "print(f'Model Evaluation - MSE: {mse}, R^2: {r2}')\n",
        "\n",
        "# Save the model\n",
        "joblib.dump(model, 'ev_stock_model.pkl')\n"
      ],
      "metadata": {
        "colab": {
          "base_uri": "https://localhost:8080/"
        },
        "id": "bhLw9aHsCqxP",
        "outputId": "465f3a7d-6fac-40e7-8396-2daddf074ff6"
      },
      "execution_count": null,
      "outputs": [
        {
          "output_type": "stream",
          "name": "stdout",
          "text": [
            "Model Evaluation - MSE: 72441095862517.23, R^2: 0.05376098026173193\n"
          ]
        },
        {
          "output_type": "execute_result",
          "data": {
            "text/plain": [
              "['ev_stock_model.pkl']"
            ]
          },
          "metadata": {},
          "execution_count": 29
        }
      ]
    },
    {
      "cell_type": "markdown",
      "source": [
        "#Make Future Predictions"
      ],
      "metadata": {
        "id": "FE5EytzlCxS1"
      }
    },
    {
      "cell_type": "code",
      "source": [
        "import numpy as np\n",
        "import matplotlib.pyplot as plt\n",
        "import joblib\n",
        "import pandas as pd\n",
        "\n",
        "# Load the model for future predictions\n",
        "loaded_model = joblib.load('ev_stock_model.pkl')\n",
        "\n",
        "# Make predictions for future years and regions\n",
        "future_data = pd.DataFrame({\n",
        "    'year': np.arange(2024, 2031),  # Example future years\n",
        "    'region': ['North America']*7,  # Example region\n",
        "    'category': ['Electric Vehicle']*7  # Example category\n",
        "})\n",
        "\n",
        "# Make predictions\n",
        "future_predictions = loaded_model.predict(future_data)\n",
        "\n",
        "print(\"Predictions for future EV stock:\")\n",
        "for year, prediction in zip(future_data['year'], future_predictions):\n",
        "    print(f\"Year: {year}, Predicted EV Stock: {prediction:.2f}\")\n",
        "\n",
        "# Assume a confidence interval for demonstration\n",
        "confidence_interval = 0.1 * future_predictions  # Example: 10% of predicted value\n",
        "\n",
        "# Plot the predictions with additional features\n",
        "plt.figure(figsize=(14, 8))\n",
        "\n",
        "# Plotting the bar chart with error bars\n",
        "bars = plt.bar(future_data['year'], future_predictions, yerr=confidence_interval, capsize=5, color='skyblue', edgecolor='black')\n",
        "\n",
        "# Adding trendline\n",
        "z = np.polyfit(future_data['year'], future_predictions, 1)\n",
        "p = np.poly1d(z)\n",
        "plt.plot(future_data['year'], p(future_data['year']), color='orange', linestyle='--', label='Trendline')\n",
        "\n",
        "# Adding annotations\n",
        "for bar in bars:\n",
        "    height = bar.get_height()\n",
        "    plt.annotate(f'{height:.2f}',\n",
        "                 xy=(bar.get_x() + bar.get_width() / 2, height),\n",
        "                 xytext=(0, 3),  # 3 points vertical offset\n",
        "                 textcoords=\"offset points\",\n",
        "                 ha='center', va='bottom')\n",
        "\n",
        "# Highlight key years\n",
        "highlight_years = [2025, 2028]\n",
        "highlight_values = [future_predictions[future_data['year'] == year][0] for year in highlight_years]\n",
        "plt.scatter(highlight_years, highlight_values, color='red', zorder=5, label='Key Years')\n",
        "\n",
        "# Customize the plot\n",
        "plt.xlabel('Year', fontsize=14)\n",
        "plt.ylabel('Predicted EV Stock', fontsize=14)\n",
        "plt.title('Predicted EV Stock Over Time with Trendline and Key Years', fontsize=16)\n",
        "plt.xticks(fontsize=12)\n",
        "plt.yticks(fontsize=12)\n",
        "plt.grid(axis='y', linestyle='--', alpha=0.7)\n",
        "plt.legend()\n",
        "plt.tight_layout()\n",
        "plt.show()\n"
      ],
      "metadata": {
        "colab": {
          "base_uri": "https://localhost:8080/",
          "height": 638
        },
        "id": "erQRNlZQCuco",
        "outputId": "0350e6eb-f724-490f-e8e9-3fba970a89c8"
      },
      "execution_count": null,
      "outputs": [
        {
          "output_type": "stream",
          "name": "stdout",
          "text": [
            "Predictions for future EV stock:\n",
            "Year: 2024, Predicted EV Stock: 1100049.11\n",
            "Year: 2025, Predicted EV Stock: 1100049.11\n",
            "Year: 2026, Predicted EV Stock: 1100049.11\n",
            "Year: 2027, Predicted EV Stock: 1100049.11\n",
            "Year: 2028, Predicted EV Stock: 4482546.40\n",
            "Year: 2029, Predicted EV Stock: 4482546.40\n",
            "Year: 2030, Predicted EV Stock: 4482546.40\n"
          ]
        },
        {
          "output_type": "display_data",
          "data": {
            "text/plain": [
              "<Figure size 1400x800 with 1 Axes>"
            ],
            "image/png": "[encoded data removed]"
          },
          "metadata": {}
        }
      ]
    },
    {
      "cell_type": "code",
      "source": [
        "import pandas as pd\n",
        "import numpy as np\n",
        "import matplotlib.pyplot as plt\n",
        "import joblib\n",
        "\n",
        "# Load the model for future predictions\n",
        "loaded_model = joblib.load('ev_stock_model.pkl')\n",
        "\n",
        "# Define regions and example predictions for a specific year\n",
        "regions = ['North America', 'Europe', 'Asia', 'South America', 'Africa']\n",
        "future_predictions = np.array([50000, 30000, 70000, 15000, 5000])  # Example predicted values\n",
        "\n",
        "# Check if the length of future_predictions matches the number of regions\n",
        "if len(future_predictions) != len(regions):\n",
        "    raise ValueError(\"Length of future_predictions must match the number of regions\")\n",
        "\n",
        "# Create a pie chart\n",
        "plt.figure(figsize=(10, 8))\n",
        "plt.pie(future_predictions, labels=regions, autopct='%1.1f%%', startangle=140, colors=plt.cm.Paired(np.arange(len(regions))))\n",
        "plt.title('Distribution of Predicted EV Stock by Region (2024)')\n",
        "plt.show()\n"
      ],
      "metadata": {
        "colab": {
          "base_uri": "https://localhost:8080/",
          "height": 675
        },
        "id": "7h45C7u9ETV3",
        "outputId": "3a0b55ea-7aab-49f3-b747-d2645b1cd034"
      },
      "execution_count": null,
      "outputs": [
        {
          "output_type": "display_data",
          "data": {
            "text/plain": [
              "<Figure size 1000x800 with 1 Axes>"
            ],
            "image/png": "[encoded data removed]"
          },
          "metadata": {}
        }
      ]
    },
    {
      "cell_type": "code",
      "source": [
        "import pandas as pd\n",
        "\n",
        "# Load the dataset\n",
        "df = pd.read_csv('/content/Global EV 2023.csv')  # Replace with your file name\n",
        "\n",
        "# Display the first few rows and column names\n",
        "print(df.head())\n",
        "print(df.columns)\n"
      ],
      "metadata": {
        "colab": {
          "base_uri": "https://localhost:8080/"
        },
        "id": "t-ClnECQFEXy",
        "outputId": "3abf75e1-6fd3-4b23-8fd4-2aa3511b57d9"
      },
      "execution_count": null,
      "outputs": [
        {
          "output_type": "stream",
          "name": "stdout",
          "text": [
            "      region    category       parameter  mode powertrain  year      unit  \\\n",
            "0  Australia  Historical        EV stock  Cars        BEV  2011  Vehicles   \n",
            "1  Australia  Historical  EV sales share  Cars         EV  2011   percent   \n",
            "2  Australia  Historical  EV stock share  Cars         EV  2011   percent   \n",
            "3  Australia  Historical        EV sales  Cars        BEV  2011  Vehicles   \n",
            "4  Australia  Historical        EV sales  Cars        BEV  2012  Vehicles   \n",
            "\n",
            "       value  \n",
            "0   49.00000  \n",
            "1    0.00650  \n",
            "2    0.00046  \n",
            "3   49.00000  \n",
            "4  170.00000  \n",
            "Index(['region', 'category', 'parameter', 'mode', 'powertrain', 'year', 'unit',\n",
            "       'value'],\n",
            "      dtype='object')\n"
          ]
        }
      ]
    },
    {
      "cell_type": "code",
      "source": [
        "import pandas as pd\n",
        "data = {'year': [2022, 2022, 2022],\n",
        "        'region': ['North America', 'Europe', 'Asia'],\n",
        "        'ev_adoption_rate': [0.1, 0.2, 0.15],\n",
        "        'electricity_demand': [5000, 4500, 6000]}\n",
        "df = pd.DataFrame(data)\n",
        "print(df)\n",
        "# 2023,North America,0.15,5200\n",
        "# 2023,Europe,0.25,4600\n",
        "# 2023,Asia,0.2,6200\n",
        "...\n"
      ],
      "metadata": {
        "colab": {
          "base_uri": "https://localhost:8080/"
        },
        "id": "0o9jB1OGGlUY",
        "outputId": "5e0f19a8-68c6-4dfd-8ae6-af6d50381f3a"
      },
      "execution_count": null,
      "outputs": [
        {
          "output_type": "stream",
          "name": "stdout",
          "text": [
            "   year         region  ev_adoption_rate  electricity_demand\n",
            "0  2022  North America              0.10                5000\n",
            "1  2022         Europe              0.20                4500\n",
            "2  2022           Asia              0.15                6000\n"
          ]
        },
        {
          "output_type": "execute_result",
          "data": {
            "text/plain": [
              "Ellipsis"
            ]
          },
          "metadata": {},
          "execution_count": 51
        }
      ]
    },
    {
      "cell_type": "code",
      "source": [
        "import pandas as pd\n",
        "import matplotlib.pyplot as plt\n",
        "\n",
        "# Sample data\n",
        "data = {\n",
        "    'year': [2022, 2022, 2022, 2023, 2023, 2023],\n",
        "    'region': ['North America', 'Europe', 'Asia', 'North America', 'Europe', 'Asia'],\n",
        "    'ev_adoption_rate': [0.1, 0.2, 0.15, 0.15, 0.25, 0.2],\n",
        "    'electricity_demand': [5000, 4500, 6000, 5200, 4600, 6200]\n",
        "}\n",
        "\n",
        "df = pd.DataFrame(data)\n",
        "\n",
        "# Create a stacked area chart for electricity demand\n",
        "plt.figure(figsize=(12, 6))\n",
        "df_grouped = df.pivot_table(index='year', columns='region', values='electricity_demand')\n",
        "df_grouped.plot(kind='area', stacked=True)\n",
        "\n",
        "plt.xlabel('Year')\n",
        "plt.ylabel('Electricity Demand')\n",
        "plt.title('Stacked Area Chart of Electricity Demand by Region')\n",
        "plt.legend(title='Region')\n",
        "plt.grid(True)\n",
        "plt.show()\n"
      ],
      "metadata": {
        "colab": {
          "base_uri": "https://localhost:8080/",
          "height": 489
        },
        "id": "1IaW8iuMHY7-",
        "outputId": "78ab75cc-4b79-4f65-f949-f1330ab21c45"
      },
      "execution_count": null,
      "outputs": [
        {
          "output_type": "display_data",
          "data": {
            "text/plain": [
              "<Figure size 1200x600 with 0 Axes>"
            ]
          },
          "metadata": {}
        },
        {
          "output_type": "display_data",
          "data": {
            "text/plain": [
              "<Figure size 640x480 with 1 Axes>"
            ],
            "image/png": "[encoded data removed]"
          },
          "metadata": {}
        }
      ]
    },
    {
      "cell_type": "code",
      "source": [
        "import pandas as pd\n",
        "import seaborn as sns\n",
        "import matplotlib.pyplot as plt\n",
        "\n",
        "# Sample data\n",
        "data = {\n",
        "    'year': [2022, 2022, 2022, 2023, 2023, 2023],\n",
        "    'region': ['North America', 'Europe', 'Asia', 'North America', 'Europe', 'Asia'],\n",
        "    'ev_adoption_rate': [0.1, 0.2, 0.15, 0.15, 0.25, 0.2],\n",
        "    'electricity_demand': [5000, 4500, 6000, 5200, 4600, 6200]\n",
        "}\n",
        "\n",
        "df = pd.DataFrame(data)\n",
        "\n",
        "# Create a heatmap for electricity demand\n",
        "pivot_table = df.pivot_table(index='year', columns='region', values='electricity_demand')\n",
        "plt.figure(figsize=(10, 6))\n",
        "sns.heatmap(pivot_table, annot=True, cmap='YlGnBu', fmt='g')\n",
        "\n",
        "plt.xlabel('Region')\n",
        "plt.ylabel('Year')\n",
        "plt.title('Heatmap of Electricity Demand by Region and Year')\n",
        "plt.show()\n"
      ],
      "metadata": {
        "colab": {
          "base_uri": "https://localhost:8080/",
          "height": 564
        },
        "id": "2WkqVsleHxo8",
        "outputId": "72baf4cb-92e0-4ecc-afcb-8479adefceaf"
      },
      "execution_count": null,
      "outputs": [
        {
          "output_type": "display_data",
          "data": {
            "text/plain": [
              "<Figure size 1000x600 with 2 Axes>"
            ],
            "image/png": "[encoded data removed]"
          },
          "metadata": {}
        }
      ]
    },
    {
      "cell_type": "code",
      "source": [
        "import pandas as pd\n",
        "import seaborn as sns\n",
        "import matplotlib.pyplot as plt\n",
        "\n",
        "# Sample data\n",
        "data = {\n",
        "    'year': [2022, 2022, 2022, 2023, 2023, 2023],\n",
        "    'region': ['North America', 'Europe', 'Asia', 'North America', 'Europe', 'Asia'],\n",
        "    'ev_adoption_rate': [0.1, 0.2, 0.15, 0.15, 0.25, 0.2],\n",
        "    'electricity_demand': [5000, 4500, 6000, 5200, 4600, 6200]\n",
        "}\n",
        "\n",
        "df = pd.DataFrame(data)\n",
        "\n",
        "# Create a pair plot\n",
        "sns.pairplot(df, hue='region')\n",
        "plt.suptitle('Pair Plot of Electricity Demand and EV Adoption Rate by Region', y=1.02)\n",
        "plt.show()\n"
      ],
      "metadata": {
        "colab": {
          "base_uri": "https://localhost:8080/",
          "height": 745
        },
        "id": "g5XvlUHwH2Jc",
        "outputId": "c49154bc-76ec-4924-faa1-cde15edc3a76"
      },
      "execution_count": null,
      "outputs": [
        {
          "output_type": "display_data",
          "data": {
            "text/plain": [
              "<Figure size 900.625x750 with 12 Axes>"
            ],
            "image/png": "[encoded data removed]"
          },
          "metadata": {}
        }
      ]
    },
    {
      "cell_type": "code",
      "source": [
        "import pandas as pd\n",
        "import matplotlib.pyplot as plt\n",
        "\n",
        "# Sample data\n",
        "data = {\n",
        "    'year': [2022, 2022, 2022, 2023, 2023, 2023],\n",
        "    'region': ['North America', 'Europe', 'Asia', 'North America', 'Europe', 'Asia'],\n",
        "    'ev_adoption_rate': [0.1, 0.2, 0.15, 0.15, 0.25, 0.2],\n",
        "    'electricity_demand': [5000, 4500, 6000, 5200, 4600, 6200]\n",
        "}\n",
        "\n",
        "df = pd.DataFrame(data)\n",
        "\n",
        "# Create a bar chart for electricity demand by region and year\n",
        "plt.figure(figsize=(12, 6))\n",
        "df_grouped = df.groupby(['year', 'region'])['electricity_demand'].mean().unstack()\n",
        "df_grouped.plot(kind='bar', stacked=True)\n",
        "\n",
        "plt.xlabel('Year')\n",
        "plt.ylabel('Electricity Demand')\n",
        "plt.title('Electricity Demand by Region and Year')\n",
        "plt.legend(title='Region')\n",
        "plt.grid(True)\n",
        "plt.show()\n"
      ],
      "metadata": {
        "colab": {
          "base_uri": "https://localhost:8080/",
          "height": 510
        },
        "id": "Rzmc2uRKH94N",
        "outputId": "9527f89e-bf82-45ee-b4b2-4477f4bd868a"
      },
      "execution_count": null,
      "outputs": [
        {
          "output_type": "display_data",
          "data": {
            "text/plain": [
              "<Figure size 1200x600 with 0 Axes>"
            ]
          },
          "metadata": {}
        },
        {
          "output_type": "display_data",
          "data": {
            "text/plain": [
              "<Figure size 640x480 with 1 Axes>"
            ],
            "image/png": "[encoded data removed]"
          },
          "metadata": {}
        }
      ]
    }
  ]
}